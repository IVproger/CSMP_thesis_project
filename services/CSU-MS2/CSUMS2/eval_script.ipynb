{
 "cells": [
  {
   "cell_type": "code",
   "execution_count": 1,
   "id": "9b03b062",
   "metadata": {},
   "outputs": [
    {
     "name": "stdout",
     "output_type": "stream",
     "text": [
      "Libraries imported successfully!\n"
     ]
    }
   ],
   "source": [
    "# Cell 1: Import required libraries\n",
    "import os\n",
    "import yaml\n",
    "import torch\n",
    "import numpy as np\n",
    "import pandas as pd\n",
    "from tqdm import tqdm\n",
    "import matplotlib.pyplot as plt\n",
    "import warnings\n",
    "warnings.filterwarnings('ignore')\n",
    "\n",
    "# Import your model and data loading components\n",
    "from dataloader.dataset_wrapper import create_wrapper_from_dataframe\n",
    "\n",
    "print(\"Libraries imported successfully!\")"
   ]
  },
  {
   "cell_type": "code",
   "execution_count": 2,
   "id": "5dcf179c",
   "metadata": {},
   "outputs": [
    {
     "name": "stdout",
     "output_type": "stream",
     "text": [
      "Using CUDA for GPU acceleration\n",
      "Using device: cuda\n",
      "Validation data path: /home/i_golov/csmp_search_engine_for_specmol/CSMP_thesis_project/data/validation_deduplicated.csv\n",
      "Checkpoint path: /home/i_golov/csmp_search_engine_for_specmol/CSMP_thesis_project/services/CSU-MS2/CSUMS2/model/checkpoints/best_model.pth\n"
     ]
    }
   ],
   "source": [
    "# Cell 2: Configuration and paths setup\n",
    "CONFIG_PATH = \"/home/i_golov/csmp_search_engine_for_specmol/CSMP_thesis_project/services/CSU-MS2/model/qtof_model/median_energy/checkpoints/config.yaml\"\n",
    "CHECKPOINT_PATH = \"/home/i_golov/csmp_search_engine_for_specmol/CSMP_thesis_project/services/CSU-MS2/CSUMS2/model/checkpoints/best_model.pth\"  # Update this path\n",
    "VALIDATION_CSV_PATH = \"/home/i_golov/csmp_search_engine_for_specmol/CSMP_thesis_project/data/validation_deduplicated.csv\"\n",
    "OUTPUT_DIR = \"./evaluation_results\"\n",
    "\n",
    "# Device selection for Mac\n",
    "if torch.backends.mps.is_available():\n",
    "    DEVICE = 'mps'\n",
    "    print(\"Using MPS (Metal Performance Shaders) for GPU acceleration\")\n",
    "elif torch.cuda.is_available():\n",
    "    DEVICE = 'cuda'\n",
    "    print(\"Using CUDA for GPU acceleration\")\n",
    "else:\n",
    "    DEVICE = 'cpu'\n",
    "    print(\"Using CPU\")\n",
    "\n",
    "# Create output directory\n",
    "os.makedirs(OUTPUT_DIR, exist_ok=True)\n",
    "\n",
    "print(f\"Using device: {DEVICE}\")\n",
    "print(f\"Validation data path: {VALIDATION_CSV_PATH}\")\n",
    "print(f\"Checkpoint path: {CHECKPOINT_PATH}\")"
   ]
  },
  {
   "cell_type": "code",
   "execution_count": 4,
   "id": "d38c5767",
   "metadata": {},
   "outputs": [
    {
     "name": "stdout",
     "output_type": "stream",
     "text": [
      "Loading configuration...\n",
      "Configuration loaded:\n",
      "- Batch size: 1024\n",
      "- Model config keys: []\n",
      "- Loss config: {'temperature': 0.1, 'use_cosine_similarity': True, 'alpha_weight': 0.75}\n"
     ]
    }
   ],
   "source": [
    "# Cell 3: Load configuration\n",
    "print(\"Loading configuration...\")\n",
    "config = yaml.load(open(CONFIG_PATH, \"r\"), Loader=yaml.FullLoader)\n",
    "\n",
    "print(\"Configuration loaded:\")\n",
    "print(f\"- Batch size: {config.get('batch_size', 'Not specified')}\")\n",
    "print(f\"- Model config keys: {list(config.get('model', {}).keys())}\")\n",
    "print(f\"- Loss config: {config.get('loss', {})}\")"
   ]
  },
  {
   "cell_type": "code",
   "execution_count": 5,
   "id": "dd12ab82",
   "metadata": {},
   "outputs": [
    {
     "name": "stdout",
     "output_type": "stream",
     "text": [
      "Loading validation data...\n",
      "Validation dataset shape: (160926, 7)\n",
      "Columns: ['molecular_formula', 'adduct', 'smiles', 'inchikey', 'instrument', 'peaks_json', 'precursor_mz']\n",
      "Sample data:\n"
     ]
    },
    {
     "data": {
      "text/html": [
       "<div>\n",
       "<style scoped>\n",
       "    .dataframe tbody tr th:only-of-type {\n",
       "        vertical-align: middle;\n",
       "    }\n",
       "\n",
       "    .dataframe tbody tr th {\n",
       "        vertical-align: top;\n",
       "    }\n",
       "\n",
       "    .dataframe thead th {\n",
       "        text-align: right;\n",
       "    }\n",
       "</style>\n",
       "<table border=\"1\" class=\"dataframe\">\n",
       "  <thead>\n",
       "    <tr style=\"text-align: right;\">\n",
       "      <th></th>\n",
       "      <th>molecular_formula</th>\n",
       "      <th>adduct</th>\n",
       "      <th>smiles</th>\n",
       "      <th>inchikey</th>\n",
       "      <th>instrument</th>\n",
       "      <th>peaks_json</th>\n",
       "      <th>precursor_mz</th>\n",
       "    </tr>\n",
       "  </thead>\n",
       "  <tbody>\n",
       "    <tr>\n",
       "      <th>0</th>\n",
       "      <td>C22H34N2O3</td>\n",
       "      <td>[M+H]+</td>\n",
       "      <td>CCCCN(C(C1=CC=C(C=C1)OC)C(=O)NC2CCCCC2)C(=O)CC</td>\n",
       "      <td>NVVVDUYSYPDLTN-UHFFFAOYSA-N</td>\n",
       "      <td>Orbitrap</td>\n",
       "      <td>[[53.151485, 0.3921923833228246], [57.035072, ...</td>\n",
       "      <td>375.265000</td>\n",
       "    </tr>\n",
       "    <tr>\n",
       "      <th>1</th>\n",
       "      <td>C15H14O5</td>\n",
       "      <td>[M+H]+</td>\n",
       "      <td>COC\\1=CC(=O)O/C1=C(\\[C@H]2[C@@H](O2)C3=CC=CC=C...</td>\n",
       "      <td>RTNGMIUMJUOABT-ONKYJICLSA-N</td>\n",
       "      <td>Orbitrap</td>\n",
       "      <td>[[91.054016, 12.207], [105.033188, 63.048], [1...</td>\n",
       "      <td>275.091400</td>\n",
       "    </tr>\n",
       "    <tr>\n",
       "      <th>2</th>\n",
       "      <td>C15H14O5</td>\n",
       "      <td>[M+H]+</td>\n",
       "      <td>COC\\1=CC(=O)O/C1=C(\\[C@H]2[C@@H](O2)C3=CC=CC=C...</td>\n",
       "      <td>RTNGMIUMJUOABT-ONKYJICLSA-N</td>\n",
       "      <td>Orbitrap</td>\n",
       "      <td>[[53.002117, 20.612], [68.996925, 19.528], [91...</td>\n",
       "      <td>275.091400</td>\n",
       "    </tr>\n",
       "    <tr>\n",
       "      <th>3</th>\n",
       "      <td>C15H14O5</td>\n",
       "      <td>[M+H]+</td>\n",
       "      <td>COC\\1=CC(=O)O/C1=C(\\[C@H]2[C@@H](O2)C3=CC=CC=C...</td>\n",
       "      <td>RTNGMIUMJUOABT-ONKYJICLSA-N</td>\n",
       "      <td>Orbitrap</td>\n",
       "      <td>[[91.054016, 35.337], [105.033234, 73.303], [1...</td>\n",
       "      <td>275.091400</td>\n",
       "    </tr>\n",
       "    <tr>\n",
       "      <th>4</th>\n",
       "      <td>C26H46N6O10</td>\n",
       "      <td>[M+H]+</td>\n",
       "      <td>C1CCNC(=O)CCC(=O)N(CCOCCNC(=O)CCC(=O)N(CCCCCNC...</td>\n",
       "      <td>OYFVPOABQXXDNO-UHFFFAOYSA-N</td>\n",
       "      <td>Orbitrap</td>\n",
       "      <td>[[50.465427, 0.077534], [50.602956, 0.048843],...</td>\n",
       "      <td>603.334778</td>\n",
       "    </tr>\n",
       "  </tbody>\n",
       "</table>\n",
       "</div>"
      ],
      "text/plain": [
       "  molecular_formula  adduct  \\\n",
       "0        C22H34N2O3  [M+H]+   \n",
       "1          C15H14O5  [M+H]+   \n",
       "2          C15H14O5  [M+H]+   \n",
       "3          C15H14O5  [M+H]+   \n",
       "4       C26H46N6O10  [M+H]+   \n",
       "\n",
       "                                              smiles  \\\n",
       "0     CCCCN(C(C1=CC=C(C=C1)OC)C(=O)NC2CCCCC2)C(=O)CC   \n",
       "1  COC\\1=CC(=O)O/C1=C(\\[C@H]2[C@@H](O2)C3=CC=CC=C...   \n",
       "2  COC\\1=CC(=O)O/C1=C(\\[C@H]2[C@@H](O2)C3=CC=CC=C...   \n",
       "3  COC\\1=CC(=O)O/C1=C(\\[C@H]2[C@@H](O2)C3=CC=CC=C...   \n",
       "4  C1CCNC(=O)CCC(=O)N(CCOCCNC(=O)CCC(=O)N(CCCCCNC...   \n",
       "\n",
       "                      inchikey instrument  \\\n",
       "0  NVVVDUYSYPDLTN-UHFFFAOYSA-N   Orbitrap   \n",
       "1  RTNGMIUMJUOABT-ONKYJICLSA-N   Orbitrap   \n",
       "2  RTNGMIUMJUOABT-ONKYJICLSA-N   Orbitrap   \n",
       "3  RTNGMIUMJUOABT-ONKYJICLSA-N   Orbitrap   \n",
       "4  OYFVPOABQXXDNO-UHFFFAOYSA-N   Orbitrap   \n",
       "\n",
       "                                          peaks_json  precursor_mz  \n",
       "0  [[53.151485, 0.3921923833228246], [57.035072, ...    375.265000  \n",
       "1  [[91.054016, 12.207], [105.033188, 63.048], [1...    275.091400  \n",
       "2  [[53.002117, 20.612], [68.996925, 19.528], [91...    275.091400  \n",
       "3  [[91.054016, 35.337], [105.033234, 73.303], [1...    275.091400  \n",
       "4  [[50.465427, 0.077534], [50.602956, 0.048843],...    603.334778  "
      ]
     },
     "execution_count": 5,
     "metadata": {},
     "output_type": "execute_result"
    }
   ],
   "source": [
    "# Cell 4: Load and explore validation data\n",
    "print(\"Loading validation data...\")\n",
    "df_validation = pd.read_csv(VALIDATION_CSV_PATH)\n",
    "\n",
    "print(f\"Validation dataset shape: {df_validation.shape}\")\n",
    "print(f\"Columns: {list(df_validation.columns)}\")\n",
    "print(f\"Sample data:\")\n",
    "df_validation.head()"
   ]
  },
  {
   "cell_type": "code",
   "execution_count": 6,
   "id": "5e007a6b",
   "metadata": {},
   "outputs": [
    {
     "name": "stdout",
     "output_type": "stream",
     "text": [
      "Taking a sample of 100000 rows for quick evaluation...\n",
      "Working with 100000 validation samples\n"
     ]
    }
   ],
   "source": [
    "# Cell 5: Take a sample for quick testing (optional)\n",
    "# For full evaluation, comment out this cell or set SAMPLE_SIZE = None\n",
    "SAMPLE_SIZE = 100000  \n",
    "\n",
    "if SAMPLE_SIZE and len(df_validation) > SAMPLE_SIZE:\n",
    "    print(f\"Taking a sample of {SAMPLE_SIZE} rows for quick evaluation...\")\n",
    "    df_validation_sample = df_validation.sample(n=SAMPLE_SIZE, random_state=42).reset_index(drop=True)\n",
    "else:\n",
    "    print(\"Using full validation dataset...\")\n",
    "    df_validation_sample = df_validation.copy()\n",
    "\n",
    "print(f\"Working with {len(df_validation_sample)} validation samples\")"
   ]
  },
  {
   "cell_type": "code",
   "execution_count": 7,
   "id": "3829c1a8",
   "metadata": {},
   "outputs": [
    {
     "name": "stdout",
     "output_type": "stream",
     "text": [
      "Preparing validation data loader...\n",
      "Convert DataFrame to compatible files\n",
      "Error processing row 1: mz values are out of order.\n",
      "Error processing row 233: mz values are out of order.\n",
      "Error processing row 639: mz values are out of order.\n",
      "Error processing row 661: mz values are out of order.\n",
      "Error processing row 1010: mz values are out of order.\n",
      "Error processing row 1014: mz values are out of order.\n",
      "Error processing row 1439: mz values are out of order.\n",
      "Error processing row 1784: mz values are out of order.\n",
      "Error processing row 2016: mz values are out of order.\n",
      "Error processing row 2876: mz values are out of order.\n",
      "Error processing row 3607: mz values are out of order.\n",
      "Error processing row 4264: mz values are out of order.\n",
      "Error processing row 4835: mz values are out of order.\n",
      "Error processing row 5282: mz values are out of order.\n",
      "Error processing row 5807: mz values are out of order.\n",
      "Error processing row 6011: mz values are out of order.\n",
      "Error processing row 6126: mz values are out of order.\n",
      "Error processing row 6424: mz values are out of order.\n",
      "Error processing row 6900: mz values are out of order.\n",
      "Error processing row 7161: mz values are out of order.\n",
      "Error processing row 7663: mz values are out of order.\n",
      "Error processing row 7906: mz values are out of order.\n",
      "Error processing row 8050: mz values are out of order.\n",
      "Error processing row 8091: mz values are out of order.\n",
      "Error processing row 8599: mz values are out of order.\n",
      "Error processing row 8844: mz values are out of order.\n",
      "Error processing row 9753: mz values are out of order.\n",
      "Error processing row 10535: mz values are out of order.\n",
      "Error processing row 10875: mz values are out of order.\n",
      "Error processing row 11326: mz values are out of order.\n",
      "Error processing row 11941: mz values are out of order.\n",
      "Error processing row 12121: mz values are out of order.\n",
      "Error processing row 12173: mz values are out of order.\n",
      "Error processing row 12648: mz values are out of order.\n",
      "Error processing row 12879: mz values are out of order.\n",
      "Error processing row 13256: mz values are out of order.\n",
      "Error processing row 13904: mz values are out of order.\n",
      "Error processing row 13922: mz values are out of order.\n",
      "Error processing row 13989: mz values are out of order.\n",
      "Error processing row 14114: mz values are out of order.\n",
      "Error processing row 14927: mz values are out of order.\n",
      "Error processing row 16301: mz values are out of order.\n",
      "Error processing row 17195: mz values are out of order.\n",
      "Error processing row 17763: mz values are out of order.\n",
      "Error processing row 17792: mz values are out of order.\n",
      "Error processing row 17886: mz values are out of order.\n",
      "Error processing row 18977: mz values are out of order.\n",
      "Error processing row 19053: mz values are out of order.\n",
      "Error processing row 19291: mz values are out of order.\n",
      "Error processing row 19417: mz values are out of order.\n",
      "Error processing row 19845: mz values are out of order.\n",
      "Error processing row 20129: mz values are out of order.\n",
      "Error processing row 20657: mz values are out of order.\n",
      "Error processing row 21124: mz values are out of order.\n",
      "Error processing row 21149: mz values are out of order.\n",
      "Error processing row 22323: mz values are out of order.\n",
      "Error processing row 22648: mz values are out of order.\n",
      "Error processing row 23077: mz values are out of order.\n",
      "Error processing row 23089: mz values are out of order.\n",
      "Error processing row 23521: mz values are out of order.\n",
      "Error processing row 23832: mz values are out of order.\n",
      "Error processing row 24096: mz values are out of order.\n",
      "Error processing row 24939: mz values are out of order.\n",
      "Error processing row 25430: mz values are out of order.\n",
      "Error processing row 25952: mz values are out of order.\n",
      "Error processing row 26695: mz values are out of order.\n",
      "Error processing row 26709: mz values are out of order.\n",
      "Error processing row 26961: mz values are out of order.\n",
      "Error processing row 27626: mz values are out of order.\n",
      "Error processing row 28811: mz values are out of order.\n",
      "Error processing row 28874: mz values are out of order.\n",
      "Error processing row 28987: mz values are out of order.\n",
      "Error processing row 29665: mz values are out of order.\n",
      "Error processing row 30516: mz values are out of order.\n",
      "Error processing row 31454: mz values are out of order.\n",
      "Error processing row 31639: mz values are out of order.\n",
      "Error processing row 31848: mz values are out of order.\n",
      "Error processing row 32419: mz values are out of order.\n",
      "Error processing row 32451: mz values are out of order.\n",
      "Error processing row 32721: mz values are out of order.\n",
      "Error processing row 33246: mz values are out of order.\n",
      "Error processing row 33569: mz values are out of order.\n",
      "Error processing row 33975: mz values are out of order.\n",
      "Error processing row 34033: mz values are out of order.\n",
      "Error processing row 34351: mz values are out of order.\n",
      "Error processing row 34482: mz values are out of order.\n",
      "Error processing row 35039: mz values are out of order.\n",
      "Error processing row 35066: mz values are out of order.\n",
      "Error processing row 35951: mz values are out of order.\n",
      "Error processing row 37834: mz values are out of order.\n",
      "Error processing row 37854: mz values are out of order.\n",
      "Error processing row 37970: mz values are out of order.\n",
      "Error processing row 38561: mz values are out of order.\n",
      "Error processing row 39281: mz values are out of order.\n",
      "Error processing row 39439: mz values are out of order.\n",
      "Error processing row 39775: mz values are out of order.\n",
      "Error processing row 40003: mz values are out of order.\n",
      "Error processing row 40637: mz values are out of order.\n",
      "Error processing row 41182: mz values are out of order.\n",
      "Error processing row 41594: mz values are out of order.\n",
      "Error processing row 41718: mz values are out of order.\n",
      "Error processing row 41730: mz values are out of order.\n",
      "Error processing row 41851: mz values are out of order.\n",
      "Error processing row 42032: mz values are out of order.\n",
      "Error processing row 42634: mz values are out of order.\n",
      "Error processing row 43760: mz values are out of order.\n",
      "Error processing row 43889: mz values are out of order.\n",
      "Error processing row 45194: mz values are out of order.\n",
      "Error processing row 45256: mz values are out of order.\n",
      "Error processing row 46393: mz values are out of order.\n",
      "Error processing row 46395: mz values are out of order.\n",
      "Error processing row 46487: mz values are out of order.\n",
      "Error processing row 46676: mz values are out of order.\n",
      "Error processing row 46700: mz values are out of order.\n",
      "Error processing row 47658: mz values are out of order.\n",
      "Error processing row 50924: mz values are out of order.\n",
      "Error processing row 52395: mz values are out of order.\n",
      "Error processing row 52432: mz values are out of order.\n",
      "Error processing row 52643: mz values are out of order.\n",
      "Error processing row 52834: mz values are out of order.\n",
      "Error processing row 53388: mz values are out of order.\n",
      "Error processing row 53406: mz values are out of order.\n",
      "Error processing row 55714: mz values are out of order.\n",
      "Error processing row 55993: mz values are out of order.\n",
      "Error processing row 56070: mz values are out of order.\n",
      "Error processing row 56182: mz values are out of order.\n",
      "Error processing row 56389: mz values are out of order.\n",
      "Error processing row 57069: mz values are out of order.\n",
      "Error processing row 57951: mz values are out of order.\n",
      "Error processing row 57987: mz values are out of order.\n",
      "Error processing row 58859: mz values are out of order.\n",
      "Error processing row 58861: mz values are out of order.\n",
      "Error processing row 59093: mz values are out of order.\n",
      "Error processing row 59634: mz values are out of order.\n",
      "Error processing row 59730: mz values are out of order.\n",
      "Error processing row 59760: mz values are out of order.\n",
      "Error processing row 60274: mz values are out of order.\n",
      "Error processing row 60316: mz values are out of order.\n",
      "Error processing row 60550: mz values are out of order.\n",
      "Error processing row 60705: mz values are out of order.\n",
      "Error processing row 60839: mz values are out of order.\n",
      "Error processing row 61307: mz values are out of order.\n",
      "Error processing row 62809: mz values are out of order.\n",
      "Error processing row 63618: mz values are out of order.\n",
      "Error processing row 63688: mz values are out of order.\n",
      "Error processing row 63901: mz values are out of order.\n",
      "Error processing row 64213: mz values are out of order.\n",
      "Error processing row 64278: mz values are out of order.\n",
      "Error processing row 64831: mz values are out of order.\n",
      "Error processing row 64924: mz values are out of order.\n",
      "Error processing row 65081: mz values are out of order.\n",
      "Error processing row 66016: mz values are out of order.\n",
      "Error processing row 66546: mz values are out of order.\n",
      "Error processing row 67086: mz values are out of order.\n",
      "Error processing row 67315: mz values are out of order.\n",
      "Error processing row 67362: mz values are out of order.\n",
      "Error processing row 67855: mz values are out of order.\n",
      "Error processing row 68058: mz values are out of order.\n",
      "Error processing row 68595: mz values are out of order.\n",
      "Error processing row 68690: mz values are out of order.\n",
      "Error processing row 69389: mz values are out of order.\n",
      "Error processing row 69533: mz values are out of order.\n",
      "Error processing row 69955: mz values are out of order.\n",
      "Error processing row 70446: mz values are out of order.\n",
      "Error processing row 70977: mz values are out of order.\n",
      "Error processing row 71454: mz values are out of order.\n",
      "Error processing row 71871: mz values are out of order.\n",
      "Error processing row 71904: mz values are out of order.\n",
      "Error processing row 72899: mz values are out of order.\n",
      "Error processing row 73591: mz values are out of order.\n",
      "Error processing row 73601: mz values are out of order.\n",
      "Error processing row 73809: mz values are out of order.\n",
      "Error processing row 74114: mz values are out of order.\n",
      "Error processing row 74396: mz values are out of order.\n",
      "Error processing row 74560: mz values are out of order.\n",
      "Error processing row 74594: mz values are out of order.\n",
      "Error processing row 75159: mz values are out of order.\n",
      "Error processing row 75170: mz values are out of order.\n",
      "Error processing row 77153: mz values are out of order.\n",
      "Error processing row 78191: mz values are out of order.\n",
      "Error processing row 78217: mz values are out of order.\n",
      "Error processing row 78528: mz values are out of order.\n",
      "Error processing row 78646: mz values are out of order.\n",
      "Error processing row 78761: mz values are out of order.\n",
      "Error processing row 78865: mz values are out of order.\n",
      "Error processing row 79117: mz values are out of order.\n",
      "Error processing row 80021: mz values are out of order.\n",
      "Error processing row 80107: mz values are out of order.\n",
      "Error processing row 80844: mz values are out of order.\n",
      "Error processing row 81231: mz values are out of order.\n",
      "Error processing row 81775: mz values are out of order.\n",
      "Error processing row 81863: mz values are out of order.\n",
      "Error processing row 82069: mz values are out of order.\n",
      "Error processing row 82146: mz values are out of order.\n",
      "Error processing row 82354: mz values are out of order.\n",
      "Error processing row 82524: mz values are out of order.\n",
      "Error processing row 82578: mz values are out of order.\n",
      "Error processing row 83586: mz values are out of order.\n",
      "Error processing row 83952: mz values are out of order.\n",
      "Error processing row 84387: mz values are out of order.\n",
      "Error processing row 84726: mz values are out of order.\n",
      "Error processing row 84924: mz values are out of order.\n",
      "Error processing row 85035: mz values are out of order.\n",
      "Error processing row 85168: mz values are out of order.\n",
      "Error processing row 85329: mz values are out of order.\n",
      "Error processing row 85532: mz values are out of order.\n",
      "Error processing row 86206: mz values are out of order.\n",
      "Error processing row 86381: mz values are out of order.\n",
      "Error processing row 86450: mz values are out of order.\n",
      "Error processing row 87867: mz values are out of order.\n",
      "Error processing row 89165: mz values are out of order.\n",
      "Error processing row 89430: mz values are out of order.\n",
      "Error processing row 91144: mz values are out of order.\n",
      "Error processing row 91197: mz values are out of order.\n",
      "Error processing row 91736: mz values are out of order.\n",
      "Error processing row 91936: mz values are out of order.\n",
      "Error processing row 92198: mz values are out of order.\n",
      "Error processing row 92562: mz values are out of order.\n",
      "Error processing row 92968: mz values are out of order.\n",
      "Error processing row 93095: mz values are out of order.\n",
      "Error processing row 93780: mz values are out of order.\n",
      "Error processing row 94153: mz values are out of order.\n",
      "Error processing row 94569: mz values are out of order.\n",
      "Error processing row 94915: mz values are out of order.\n",
      "Error processing row 94922: mz values are out of order.\n",
      "Error processing row 95133: mz values are out of order.\n",
      "Error processing row 95170: mz values are out of order.\n",
      "Error processing row 95479: mz values are out of order.\n",
      "Error processing row 95902: mz values are out of order.\n",
      "Error processing row 96021: mz values are out of order.\n",
      "Error processing row 96931: mz values are out of order.\n",
      "Error processing row 97093: mz values are out of order.\n",
      "Error processing row 97350: mz values are out of order.\n",
      "Error processing row 97403: mz values are out of order.\n",
      "Error processing row 97778: mz values are out of order.\n",
      "Error processing row 98033: mz values are out of order.\n",
      "Error processing row 98267: mz values are out of order.\n",
      "Error processing row 98314: mz values are out of order.\n",
      "Error processing row 99258: mz values are out of order.\n",
      "Processed 99761 valid spectra out of 100000 total entries.\n",
      "Create data wrapper\n",
      "calculating molecular graphs\n"
     ]
    },
    {
     "name": "stderr",
     "output_type": "stream",
     "text": [
      "100%|██████████| 99761/99761 [03:46<00:00, 440.09it/s]\n"
     ]
    },
    {
     "name": "stdout",
     "output_type": "stream",
     "text": [
      "Calculated 94092 molecular graph-mass spectrometry pairs\n",
      "calculating molecular graphs\n"
     ]
    },
    {
     "name": "stderr",
     "output_type": "stream",
     "text": [
      "0it [00:00, ?it/s]"
     ]
    },
    {
     "name": "stdout",
     "output_type": "stream",
     "text": [
      "Calculated 0 molecular graph-mass spectrometry pairs\n",
      "Successfully processed 99761 samples\n",
      "Number of batches: 91\n"
     ]
    },
    {
     "name": "stderr",
     "output_type": "stream",
     "text": [
      "\n"
     ]
    }
   ],
   "source": [
    "# Cell 6: Prepare validation data loader\n",
    "print(\"Preparing validation data loader...\")\n",
    "\n",
    "# Create data wrapper from DataFrame\n",
    "wrapper, processed_df = create_wrapper_from_dataframe(\n",
    "    df=df_validation_sample,\n",
    "    batch_size=1024,  \n",
    "    num_workers=4,\n",
    "    valid_size=0.0,  \n",
    "    use_ddp=False,\n",
    "    output_dir=\"./validation_temp\"\n",
    ")\n",
    "\n",
    "# Get the data loader\n",
    "val_loader, _ = wrapper.get_data_loaders()\n",
    "\n",
    "print(f\"Successfully processed {len(processed_df)} samples\")\n",
    "print(f\"Number of batches: {len(val_loader)}\")"
   ]
  },
  {
   "cell_type": "code",
   "execution_count": 8,
   "id": "d7fba6d3",
   "metadata": {},
   "outputs": [
    {
     "name": "stdout",
     "output_type": "stream",
     "text": [
      "Loading trained model...\n"
     ]
    }
   ],
   "source": [
    "# Cell 7: Load the trained model\n",
    "print(\"Loading trained model...\")\n",
    "from model import ModelCLR"
   ]
  },
  {
   "cell_type": "code",
   "execution_count": 9,
   "id": "27dbc102",
   "metadata": {},
   "outputs": [],
   "source": [
    "# Initialize model architecture\n",
    "model = ModelCLR(**config[\"model_config\"]).to(DEVICE)"
   ]
  },
  {
   "cell_type": "code",
   "execution_count": 11,
   "id": "0b4015c3",
   "metadata": {},
   "outputs": [
    {
     "name": "stdout",
     "output_type": "stream",
     "text": [
      "Loaded model_state_dict from checkpoint\n",
      "Checkpoint epoch: 80\n",
      "Checkpoint train loss: 3.726576\n",
      "Checkpoint val loss: 3.868516\n",
      "Checkpoint Top-1 accuracy: 0.0061\n",
      "Model loaded successfully from /home/i_golov/csmp_search_engine_for_specmol/CSMP_thesis_project/services/CSU-MS2/CSUMS2/model/checkpoints/best_model.pth\n",
      "Model set to evaluation mode\n"
     ]
    }
   ],
   "source": [
    "# Load checkpoint\n",
    "if os.path.exists(CHECKPOINT_PATH):\n",
    "    checkpoint = torch.load(CHECKPOINT_PATH, map_location=DEVICE)\n",
    "    \n",
    "    # Handle different checkpoint formats\n",
    "    if 'model_state_dict' in checkpoint:\n",
    "        # This is our training checkpoint format\n",
    "        model.load_state_dict(checkpoint['model_state_dict'])\n",
    "        print(\"Loaded model_state_dict from checkpoint\")\n",
    "        if 'epoch' in checkpoint:\n",
    "            print(f\"Checkpoint epoch: {checkpoint['epoch']}\")\n",
    "        if 'train_loss' in checkpoint:\n",
    "            print(f\"Checkpoint train loss: {checkpoint['train_loss']:.6f}\")\n",
    "        if 'val_loss' in checkpoint:\n",
    "            print(f\"Checkpoint val loss: {checkpoint['val_loss']:.6f}\")\n",
    "        if 'val_metrics' in checkpoint:\n",
    "            metrics = checkpoint['val_metrics']\n",
    "            print(f\"Checkpoint Top-1 accuracy: {metrics.get('top_1_accuracy', 'N/A'):.4f}\")\n",
    "    elif 'state_dict' in checkpoint:\n",
    "        # Standard checkpoint format\n",
    "        model.load_state_dict(checkpoint['state_dict'])\n",
    "        print(\"Loaded state_dict from checkpoint\")\n",
    "        if 'epoch' in checkpoint:\n",
    "            print(f\"Checkpoint epoch: {checkpoint['epoch']}\")\n",
    "        if 'loss' in checkpoint:\n",
    "            print(f\"Checkpoint loss: {checkpoint['loss']}\")\n",
    "    else:\n",
    "        # Direct model weights\n",
    "        model.load_state_dict(checkpoint)\n",
    "        print(\"Loaded model weights directly\")\n",
    "    \n",
    "    print(f\"Model loaded successfully from {CHECKPOINT_PATH}\")\n",
    "else:\n",
    "    raise FileNotFoundError(f\"Checkpoint not found at {CHECKPOINT_PATH}\")\n",
    "\n",
    "# Set model to evaluation mode\n",
    "model.eval()\n",
    "print(\"Model set to evaluation mode\")"
   ]
  },
  {
   "cell_type": "code",
   "execution_count": 13,
   "id": "0642c50c",
   "metadata": {},
   "outputs": [
    {
     "name": "stdout",
     "output_type": "stream",
     "text": [
      "Extracting features from validation data...\n"
     ]
    },
    {
     "name": "stderr",
     "output_type": "stream",
     "text": [
      "Extracting features: 100%|██████████| 91/91 [00:33<00:00,  2.71it/s]"
     ]
    },
    {
     "name": "stdout",
     "output_type": "stream",
     "text": [
      "Feature extraction completed!\n",
      "Processed 91 batches\n"
     ]
    },
    {
     "name": "stderr",
     "output_type": "stream",
     "text": [
      "\n"
     ]
    }
   ],
   "source": [
    "# Cell 8: Extract features from validation data\n",
    "print(\"Extracting features from validation data...\")\n",
    "\n",
    "molecular_features_list = []\n",
    "spectral_features_list = []\n",
    "batch_info = []\n",
    "\n",
    "\n",
    "with torch.no_grad():\n",
    "    for batch_idx, (graphs, mzs, intensities, num_peaks) in enumerate(tqdm(val_loader, desc=\"Extracting features\")):\n",
    "        # Move data to device\n",
    "        graphs = graphs.to(DEVICE)\n",
    "        mzs = mzs.to(DEVICE)\n",
    "        intensities = intensities.to(DEVICE)\n",
    "        num_peaks = num_peaks.to(DEVICE)\n",
    "        \n",
    "        # Forward pass through the model\n",
    "        mol_features, spec_features = model(graphs, mzs, intensities, num_peaks)\n",
    "        \n",
    "        # Store features\n",
    "        molecular_features_list.append(mol_features.cpu().numpy())\n",
    "        spectral_features_list.append(spec_features.cpu().numpy())\n",
    "        batch_info.append({\n",
    "            'batch_idx': batch_idx,\n",
    "            'batch_size': len(mol_features),\n",
    "            'num_peaks_mean': num_peaks.float().mean().item()\n",
    "        })\n",
    "\n",
    "print(f\"Feature extraction completed!\")\n",
    "print(f\"Processed {len(molecular_features_list)} batches\")"
   ]
  },
  {
   "cell_type": "code",
   "execution_count": 14,
   "id": "3401d343",
   "metadata": {},
   "outputs": [
    {
     "name": "stdout",
     "output_type": "stream",
     "text": [
      "Concatenating features...\n",
      "Molecular features shape: (93184, 256)\n",
      "Spectral features shape: (93184, 256)\n",
      "Feature dimension: 256\n"
     ]
    }
   ],
   "source": [
    "# Cell 9: Concatenate all features\n",
    "print(\"Concatenating features...\")\n",
    "\n",
    "# Combine all batches\n",
    "all_molecular_features = np.vstack(molecular_features_list)\n",
    "all_spectral_features = np.vstack(spectral_features_list)\n",
    "\n",
    "print(f\"Molecular features shape: {all_molecular_features.shape}\")\n",
    "print(f\"Spectral features shape: {all_spectral_features.shape}\")\n",
    "print(f\"Feature dimension: {all_molecular_features.shape[1]}\")"
   ]
  },
  {
   "cell_type": "code",
   "execution_count": 15,
   "id": "cdcee9b5",
   "metadata": {},
   "outputs": [
    {
     "name": "stdout",
     "output_type": "stream",
     "text": [
      "Computing cosine similarities...\n",
      "Computed 93184 cosine similarities\n",
      "Mean similarity: 1.3534\n",
      "Std similarity: 1.0168\n",
      "Min similarity: -3.5235\n",
      "Max similarity: 8.6821\n"
     ]
    }
   ],
   "source": [
    "# Cell 10: Compute cosine similarities\n",
    "print(\"Computing cosine similarities...\")\n",
    "\n",
    "# Compute cosine similarity between corresponding molecular and spectral features\n",
    "cosine_similarities = np.sum(all_molecular_features * all_spectral_features, axis=1)\n",
    "\n",
    "print(f\"Computed {len(cosine_similarities)} cosine similarities\")\n",
    "print(f\"Mean similarity: {np.mean(cosine_similarities):.4f}\")\n",
    "print(f\"Std similarity: {np.std(cosine_similarities):.4f}\")\n",
    "print(f\"Min similarity: {np.min(cosine_similarities):.4f}\")\n",
    "print(f\"Max similarity: {np.max(cosine_similarities):.4f}\")"
   ]
  },
  {
   "cell_type": "code",
   "execution_count": 16,
   "id": "129a5540",
   "metadata": {},
   "outputs": [
    {
     "name": "stdout",
     "output_type": "stream",
     "text": [
      "Computing retrieval metrics...\n"
     ]
    },
    {
     "ename": "KeyboardInterrupt",
     "evalue": "",
     "output_type": "error",
     "traceback": [
      "\u001b[0;31m---------------------------------------------------------------------------\u001b[0m",
      "\u001b[0;31mKeyboardInterrupt\u001b[0m                         Traceback (most recent call last)",
      "Cell \u001b[0;32mIn[16], line 27\u001b[0m\n\u001b[1;32m     23\u001b[0m         \u001b[38;5;28mprint\u001b[39m(\u001b[38;5;124mf\u001b[39m\u001b[38;5;124m\"\u001b[39m\u001b[38;5;124mTop-\u001b[39m\u001b[38;5;132;01m{\u001b[39;00mk\u001b[38;5;132;01m}\u001b[39;00m\u001b[38;5;124m accuracy: \u001b[39m\u001b[38;5;132;01m{\u001b[39;00maccuracy\u001b[38;5;132;01m:\u001b[39;00m\u001b[38;5;124m.4f\u001b[39m\u001b[38;5;132;01m}\u001b[39;00m\u001b[38;5;124m\"\u001b[39m)\n\u001b[1;32m     25\u001b[0m     \u001b[38;5;28;01mreturn\u001b[39;00m retrieval_results\n\u001b[0;32m---> 27\u001b[0m retrieval_metrics \u001b[38;5;241m=\u001b[39m \u001b[43mcompute_retrieval_metrics\u001b[49m\u001b[43m(\u001b[49m\u001b[43mall_molecular_features\u001b[49m\u001b[43m,\u001b[49m\u001b[43m \u001b[49m\u001b[43mall_spectral_features\u001b[49m\u001b[43m)\u001b[49m\n",
      "Cell \u001b[0;32mIn[16], line 17\u001b[0m, in \u001b[0;36mcompute_retrieval_metrics\u001b[0;34m(mol_features, spec_features, top_k_list)\u001b[0m\n\u001b[1;32m     14\u001b[0m correct \u001b[38;5;241m=\u001b[39m \u001b[38;5;241m0\u001b[39m\n\u001b[1;32m     15\u001b[0m \u001b[38;5;28;01mfor\u001b[39;00m i \u001b[38;5;129;01min\u001b[39;00m \u001b[38;5;28mrange\u001b[39m(n_samples):\n\u001b[1;32m     16\u001b[0m     \u001b[38;5;66;03m# Get top-k most similar spectra for molecule i\u001b[39;00m\n\u001b[0;32m---> 17\u001b[0m     top_k_indices \u001b[38;5;241m=\u001b[39m \u001b[43mnp\u001b[49m\u001b[38;5;241;43m.\u001b[39;49m\u001b[43margsort\u001b[49m\u001b[43m(\u001b[49m\u001b[43msimilarity_matrix\u001b[49m\u001b[43m[\u001b[49m\u001b[43mi\u001b[49m\u001b[43m]\u001b[49m\u001b[43m)\u001b[49m[\u001b[38;5;241m-\u001b[39mk:]\n\u001b[1;32m     18\u001b[0m     \u001b[38;5;28;01mif\u001b[39;00m i \u001b[38;5;129;01min\u001b[39;00m top_k_indices:  \u001b[38;5;66;03m# Check if correct spectrum is in top-k\u001b[39;00m\n\u001b[1;32m     19\u001b[0m         correct \u001b[38;5;241m+\u001b[39m\u001b[38;5;241m=\u001b[39m \u001b[38;5;241m1\u001b[39m\n",
      "File \u001b[0;32m<__array_function__ internals>:200\u001b[0m, in \u001b[0;36margsort\u001b[0;34m(*args, **kwargs)\u001b[0m\n",
      "File \u001b[0;32m~/anaconda3/envs/CSU-MS2/lib/python3.8/site-packages/numpy/core/fromnumeric.py:1146\u001b[0m, in \u001b[0;36margsort\u001b[0;34m(a, axis, kind, order)\u001b[0m\n\u001b[1;32m   1038\u001b[0m \u001b[38;5;129m@array_function_dispatch\u001b[39m(_argsort_dispatcher)\n\u001b[1;32m   1039\u001b[0m \u001b[38;5;28;01mdef\u001b[39;00m \u001b[38;5;21margsort\u001b[39m(a, axis\u001b[38;5;241m=\u001b[39m\u001b[38;5;241m-\u001b[39m\u001b[38;5;241m1\u001b[39m, kind\u001b[38;5;241m=\u001b[39m\u001b[38;5;28;01mNone\u001b[39;00m, order\u001b[38;5;241m=\u001b[39m\u001b[38;5;28;01mNone\u001b[39;00m):\n\u001b[1;32m   1040\u001b[0m \u001b[38;5;250m    \u001b[39m\u001b[38;5;124;03m\"\"\"\u001b[39;00m\n\u001b[1;32m   1041\u001b[0m \u001b[38;5;124;03m    Returns the indices that would sort an array.\u001b[39;00m\n\u001b[1;32m   1042\u001b[0m \n\u001b[0;32m   (...)\u001b[0m\n\u001b[1;32m   1144\u001b[0m \n\u001b[1;32m   1145\u001b[0m \u001b[38;5;124;03m    \"\"\"\u001b[39;00m\n\u001b[0;32m-> 1146\u001b[0m     \u001b[38;5;28;01mreturn\u001b[39;00m \u001b[43m_wrapfunc\u001b[49m\u001b[43m(\u001b[49m\u001b[43ma\u001b[49m\u001b[43m,\u001b[49m\u001b[43m \u001b[49m\u001b[38;5;124;43m'\u001b[39;49m\u001b[38;5;124;43margsort\u001b[39;49m\u001b[38;5;124;43m'\u001b[39;49m\u001b[43m,\u001b[49m\u001b[43m \u001b[49m\u001b[43maxis\u001b[49m\u001b[38;5;241;43m=\u001b[39;49m\u001b[43maxis\u001b[49m\u001b[43m,\u001b[49m\u001b[43m \u001b[49m\u001b[43mkind\u001b[49m\u001b[38;5;241;43m=\u001b[39;49m\u001b[43mkind\u001b[49m\u001b[43m,\u001b[49m\u001b[43m \u001b[49m\u001b[43morder\u001b[49m\u001b[38;5;241;43m=\u001b[39;49m\u001b[43morder\u001b[49m\u001b[43m)\u001b[49m\n",
      "File \u001b[0;32m~/anaconda3/envs/CSU-MS2/lib/python3.8/site-packages/numpy/core/fromnumeric.py:57\u001b[0m, in \u001b[0;36m_wrapfunc\u001b[0;34m(obj, method, *args, **kwds)\u001b[0m\n\u001b[1;32m     54\u001b[0m     \u001b[38;5;28;01mreturn\u001b[39;00m _wrapit(obj, method, \u001b[38;5;241m*\u001b[39margs, \u001b[38;5;241m*\u001b[39m\u001b[38;5;241m*\u001b[39mkwds)\n\u001b[1;32m     56\u001b[0m \u001b[38;5;28;01mtry\u001b[39;00m:\n\u001b[0;32m---> 57\u001b[0m     \u001b[38;5;28;01mreturn\u001b[39;00m \u001b[43mbound\u001b[49m\u001b[43m(\u001b[49m\u001b[38;5;241;43m*\u001b[39;49m\u001b[43margs\u001b[49m\u001b[43m,\u001b[49m\u001b[43m \u001b[49m\u001b[38;5;241;43m*\u001b[39;49m\u001b[38;5;241;43m*\u001b[39;49m\u001b[43mkwds\u001b[49m\u001b[43m)\u001b[49m\n\u001b[1;32m     58\u001b[0m \u001b[38;5;28;01mexcept\u001b[39;00m \u001b[38;5;167;01mTypeError\u001b[39;00m:\n\u001b[1;32m     59\u001b[0m     \u001b[38;5;66;03m# A TypeError occurs if the object does have such a method in its\u001b[39;00m\n\u001b[1;32m     60\u001b[0m     \u001b[38;5;66;03m# class, but its signature is not identical to that of NumPy's. This\u001b[39;00m\n\u001b[0;32m   (...)\u001b[0m\n\u001b[1;32m     64\u001b[0m     \u001b[38;5;66;03m# Call _wrapit from within the except clause to ensure a potential\u001b[39;00m\n\u001b[1;32m     65\u001b[0m     \u001b[38;5;66;03m# exception has a traceback chain.\u001b[39;00m\n\u001b[1;32m     66\u001b[0m     \u001b[38;5;28;01mreturn\u001b[39;00m _wrapit(obj, method, \u001b[38;5;241m*\u001b[39margs, \u001b[38;5;241m*\u001b[39m\u001b[38;5;241m*\u001b[39mkwds)\n",
      "\u001b[0;31mKeyboardInterrupt\u001b[0m: "
     ]
    }
   ],
   "source": [
    "# Cell 11: Compute retrieval metrics (Top-K accuracy)\n",
    "print(\"Computing retrieval metrics...\")\n",
    "\n",
    "def compute_retrieval_metrics(mol_features, spec_features, top_k_list=[1, 5, 10]):\n",
    "    \"\"\"Compute retrieval metrics\"\"\"\n",
    "    n_samples = len(mol_features)\n",
    "    \n",
    "    # Compute similarity matrix (molecule i vs all spectra)\n",
    "    similarity_matrix = np.dot(mol_features, spec_features.T)\n",
    "    \n",
    "    retrieval_results = {}\n",
    "    \n",
    "    for k in top_k_list:\n",
    "        correct = 0\n",
    "        for i in range(n_samples):\n",
    "            # Get top-k most similar spectra for molecule i\n",
    "            top_k_indices = np.argsort(similarity_matrix[i])[-k:]\n",
    "            if i in top_k_indices:  # Check if correct spectrum is in top-k\n",
    "                correct += 1\n",
    "        \n",
    "        accuracy = correct / n_samples\n",
    "        retrieval_results[f'top_{k}_accuracy'] = accuracy\n",
    "        print(f\"Top-{k} accuracy: {accuracy:.4f}\")\n",
    "    \n",
    "    return retrieval_results\n",
    "\n",
    "retrieval_metrics = compute_retrieval_metrics(all_molecular_features, all_spectral_features)"
   ]
  },
  {
   "cell_type": "code",
   "execution_count": 17,
   "id": "4270a0b9",
   "metadata": {},
   "outputs": [
    {
     "name": "stdout",
     "output_type": "stream",
     "text": [
      "Creating similarity distribution plot...\n"
     ]
    },
    {
     "data": {
      "image/png": "[encoded data removed]",
      "text/plain": [
       "<Figure size 1200x800 with 4 Axes>"
      ]
     },
     "metadata": {},
     "output_type": "display_data"
    }
   ],
   "source": [
    "# Cell 13: Visualize similarity distribution\n",
    "print(\"Creating similarity distribution plot...\")\n",
    "\n",
    "plt.figure(figsize=(12, 8))\n",
    "\n",
    "# Main histogram\n",
    "plt.subplot(2, 2, 1)\n",
    "plt.hist(cosine_similarities, bins=50, alpha=0.7, edgecolor='black', color='skyblue')\n",
    "plt.xlabel('Cosine Similarity')\n",
    "plt.ylabel('Frequency')\n",
    "plt.title('Distribution of Cosine Similarities')\n",
    "plt.axvline(np.mean(cosine_similarities), color='red', linestyle='--', \n",
    "           label=f'Mean: {np.mean(cosine_similarities):.3f}')\n",
    "plt.legend()\n",
    "plt.grid(True, alpha=0.3)\n",
    "\n",
    "# Box plot\n",
    "plt.subplot(2, 2, 2)\n",
    "plt.boxplot(cosine_similarities)\n",
    "plt.ylabel('Cosine Similarity')\n",
    "plt.title('Similarity Distribution (Box Plot)')\n",
    "plt.grid(True, alpha=0.3)\n",
    "\n",
    "# Cumulative distribution\n",
    "plt.subplot(2, 2, 3)\n",
    "sorted_similarities = np.sort(cosine_similarities)\n",
    "y_vals = np.arange(1, len(sorted_similarities) + 1) / len(sorted_similarities)\n",
    "plt.plot(sorted_similarities, y_vals)\n",
    "plt.xlabel('Cosine Similarity')\n",
    "plt.ylabel('Cumulative Probability')\n",
    "plt.title('Cumulative Distribution')\n",
    "plt.grid(True, alpha=0.3)\n",
    "\n",
    "# Statistics text\n",
    "plt.subplot(2, 2, 4)\n",
    "plt.axis('off')\n",
    "stats_text = f\"\"\"\n",
    "Statistics:\n",
    "Mean: {np.mean(cosine_similarities):.4f}\n",
    "Std: {np.std(cosine_similarities):.4f}\n",
    "Min: {np.min(cosine_similarities):.4f}\n",
    "Max: {np.max(cosine_similarities):.4f}\n",
    "Median: {np.median(cosine_similarities):.4f}\n",
    "\n",
    "Percentiles:\n",
    "25th: {np.percentile(cosine_similarities, 25):.4f}\n",
    "75th: {np.percentile(cosine_similarities, 75):.4f}\n",
    "90th: {np.percentile(cosine_similarities, 90):.4f}\n",
    "95th: {np.percentile(cosine_similarities, 95):.4f}\n",
    "\"\"\"\n",
    "plt.text(0.1, 0.9, stats_text, transform=plt.gca().transAxes, \n",
    "         fontsize=10, verticalalignment='top', fontfamily='monospace')\n",
    "\n",
    "plt.tight_layout()\n",
    "plt.savefig(os.path.join(OUTPUT_DIR, 'similarity_analysis.png'), dpi=300, bbox_inches='tight')\n",
    "plt.show()"
   ]
  },
  {
   "cell_type": "code",
   "execution_count": 18,
   "id": "faabb375",
   "metadata": {},
   "outputs": [
    {
     "name": "stdout",
     "output_type": "stream",
     "text": [
      "Analyzing feature distributions...\n"
     ]
    },
    {
     "data": {
      "image/png": "[encoded data removed]",
      "text/plain": [
       "<Figure size 1500x500 with 3 Axes>"
      ]
     },
     "metadata": {},
     "output_type": "display_data"
    },
    {
     "name": "stdout",
     "output_type": "stream",
     "text": [
      "Molecular features - Mean norm: 3.8401, Std: 0.5982\n",
      "Spectral features - Mean norm: 2.3479, Std: 0.4699\n"
     ]
    }
   ],
   "source": [
    "# Cell 14: Analyze feature distributions\n",
    "print(\"Analyzing feature distributions...\")\n",
    "\n",
    "# Plot feature magnitude distributions\n",
    "plt.figure(figsize=(15, 5))\n",
    "\n",
    "plt.subplot(1, 3, 1)\n",
    "mol_norms = np.linalg.norm(all_molecular_features, axis=1)\n",
    "plt.hist(mol_norms, bins=30, alpha=0.7, label='Molecular', color='blue')\n",
    "plt.xlabel('Feature Norm')\n",
    "plt.ylabel('Frequency')\n",
    "plt.title('Molecular Feature Norms')\n",
    "plt.legend()\n",
    "\n",
    "plt.subplot(1, 3, 2)\n",
    "spec_norms = np.linalg.norm(all_spectral_features, axis=1)\n",
    "plt.hist(spec_norms, bins=30, alpha=0.7, label='Spectral', color='green')\n",
    "plt.xlabel('Feature Norm')\n",
    "plt.ylabel('Frequency')\n",
    "plt.title('Spectral Feature Norms')\n",
    "plt.legend()\n",
    "\n",
    "plt.subplot(1, 3, 3)\n",
    "plt.hist(mol_norms, bins=30, alpha=0.5, label='Molecular', color='blue')\n",
    "plt.hist(spec_norms, bins=30, alpha=0.5, label='Spectral', color='green')\n",
    "plt.xlabel('Feature Norm')\n",
    "plt.ylabel('Frequency')\n",
    "plt.title('Feature Norms Comparison')\n",
    "plt.legend()\n",
    "\n",
    "plt.tight_layout()\n",
    "plt.savefig(os.path.join(OUTPUT_DIR, 'feature_norms.png'), dpi=300, bbox_inches='tight')\n",
    "plt.show()\n",
    "\n",
    "print(f\"Molecular features - Mean norm: {np.mean(mol_norms):.4f}, Std: {np.std(mol_norms):.4f}\")\n",
    "print(f\"Spectral features - Mean norm: {np.mean(spec_norms):.4f}, Std: {np.std(spec_norms):.4f}\")"
   ]
  }
 ],
 "metadata": {
  "kernelspec": {
   "display_name": "CSU-MS2",
   "language": "python",
   "name": "python3"
  },
  "language_info": {
   "codemirror_mode": {
    "name": "ipython",
    "version": 3
   },
   "file_extension": ".py",
   "mimetype": "text/x-python",
   "name": "python",
   "nbconvert_exporter": "python",
   "pygments_lexer": "ipython3",
   "version": "3.8.18"
  }
 },
 "nbformat": 4,
 "nbformat_minor": 5
}
