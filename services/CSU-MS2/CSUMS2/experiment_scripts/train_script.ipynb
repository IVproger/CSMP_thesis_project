{
 "cells": [
  {
   "cell_type": "code",
   "execution_count": 1,
   "id": "9b03b062",
   "metadata": {},
   "outputs": [
    {
     "name": "stdout",
     "output_type": "stream",
     "text": [
      "Libraries imported successfully!\n"
     ]
    }
   ],
   "source": [
    "# Cell 1: Import required libraries\n",
    "import os\n",
    "import yaml\n",
    "import torch\n",
    "import numpy as np\n",
    "import pandas as pd\n",
    "from tqdm import tqdm\n",
    "import matplotlib.pyplot as plt\n",
    "import warnings\n",
    "warnings.filterwarnings('ignore')\n",
    "\n",
    "# Import your model and data loading components\n",
    "from dataloader.dataset_wrapper import create_wrapper_from_dataframe\n",
    "\n",
    "print(\"Libraries imported successfully!\")"
   ]
  },
  {
   "cell_type": "code",
   "execution_count": 2,
   "id": "5dcf179c",
   "metadata": {},
   "outputs": [
    {
     "name": "stdout",
     "output_type": "stream",
     "text": [
      "Using CUDA for GPU acceleration\n",
      "Using device: cuda\n",
      "Validation data path: /home/i_golov/csmp_search_engine_for_specmol/CSMP_thesis_project/data/train_deduplicated.csv\n"
     ]
    }
   ],
   "source": [
    "# Cell 2: Configuration and paths setup\n",
    "CONFIG_PATH = \"/home/i_golov/csmp_search_engine_for_specmol/CSMP_thesis_project/services/CSU-MS2/model/qtof_model/median_energy/checkpoints/config.yaml\"\n",
    "TRAIN_CSV_PATH = \"/home/i_golov/csmp_search_engine_for_specmol/CSMP_thesis_project/data/train_deduplicated.csv\"\n",
    "OUTPUT_DIR = \"./train_results\"\n",
    "\n",
    "# Device selection for Mac\n",
    "if torch.backends.mps.is_available():\n",
    "    DEVICE = 'mps'\n",
    "    print(\"Using MPS (Metal Performance Shaders) for GPU acceleration\")\n",
    "elif torch.cuda.is_available():\n",
    "    DEVICE = 'cuda'\n",
    "    print(\"Using CUDA for GPU acceleration\")\n",
    "else:\n",
    "    DEVICE = 'cpu'\n",
    "    print(\"Using CPU\")\n",
    "\n",
    "# Create output directory\n",
    "os.makedirs(OUTPUT_DIR, exist_ok=True)\n",
    "\n",
    "print(f\"Using device: {DEVICE}\")\n",
    "print(f\"Validation data path: {TRAIN_CSV_PATH}\")"
   ]
  },
  {
   "cell_type": "code",
   "execution_count": 3,
   "id": "d38c5767",
   "metadata": {},
   "outputs": [
    {
     "name": "stdout",
     "output_type": "stream",
     "text": [
      "Loading configuration...\n",
      "Configuration loaded:\n",
      "- Batch size: 64\n",
      "- Model config keys: []\n",
      "- Loss config: {'temperature': 0.1, 'use_cosine_similarity': True, 'alpha_weight': 0.75}\n"
     ]
    }
   ],
   "source": [
    "# Cell 3: Load configuration\n",
    "print(\"Loading configuration...\")\n",
    "config = yaml.load(open(CONFIG_PATH, \"r\"), Loader=yaml.FullLoader)\n",
    "\n",
    "print(\"Configuration loaded:\")\n",
    "print(f\"- Batch size: {config.get('batch_size', 'Not specified')}\")\n",
    "print(f\"- Model config keys: {list(config.get('model', {}).keys())}\")\n",
    "print(f\"- Loss config: {config.get('loss', {})}\")"
   ]
  },
  {
   "cell_type": "code",
   "execution_count": 4,
   "id": "dd12ab82",
   "metadata": {},
   "outputs": [
    {
     "name": "stdout",
     "output_type": "stream",
     "text": [
      "Loading train data...\n",
      "Validation dataset shape: (798444, 10)\n",
      "Columns: ['peaks_json', 'ion_source', 'compound_source', 'instrument', 'adduct', 'precursor_mz', 'smiles', 'inchikey', 'ion_mode', 'molecular_formula']\n",
      "Sample data:\n"
     ]
    },
    {
     "data": {
      "text/html": [
       "<div>\n",
       "<style scoped>\n",
       "    .dataframe tbody tr th:only-of-type {\n",
       "        vertical-align: middle;\n",
       "    }\n",
       "\n",
       "    .dataframe tbody tr th {\n",
       "        vertical-align: top;\n",
       "    }\n",
       "\n",
       "    .dataframe thead th {\n",
       "        text-align: right;\n",
       "    }\n",
       "</style>\n",
       "<table border=\"1\" class=\"dataframe\">\n",
       "  <thead>\n",
       "    <tr style=\"text-align: right;\">\n",
       "      <th></th>\n",
       "      <th>peaks_json</th>\n",
       "      <th>ion_source</th>\n",
       "      <th>compound_source</th>\n",
       "      <th>instrument</th>\n",
       "      <th>adduct</th>\n",
       "      <th>precursor_mz</th>\n",
       "      <th>smiles</th>\n",
       "      <th>inchikey</th>\n",
       "      <th>ion_mode</th>\n",
       "      <th>molecular_formula</th>\n",
       "    </tr>\n",
       "  </thead>\n",
       "  <tbody>\n",
       "    <tr>\n",
       "      <th>0</th>\n",
       "      <td>[[42.014248, 0.10199999999999998], [42.26601, ...</td>\n",
       "      <td>ESI</td>\n",
       "      <td>Crude</td>\n",
       "      <td>Orbitrap</td>\n",
       "      <td>[M+H]+</td>\n",
       "      <td>377.186</td>\n",
       "      <td>CC12CCC(C(=O)N(CNc3cc4c(cc3)c3ccccc3o4)C1=O)C2...</td>\n",
       "      <td>RNKMIWQDRWSWCD-UHFFFAOYSA-N</td>\n",
       "      <td>Positive</td>\n",
       "      <td>C23H24N2O3</td>\n",
       "    </tr>\n",
       "    <tr>\n",
       "      <th>1</th>\n",
       "      <td>[[49.01717, 0.155], [49.020023, 0.253], [67.05...</td>\n",
       "      <td>ESI</td>\n",
       "      <td>Crude</td>\n",
       "      <td>Orbitrap</td>\n",
       "      <td>[M+H]+</td>\n",
       "      <td>377.186</td>\n",
       "      <td>CC12CCC(C(=O)N(CNc3cc4c(cc3)c3ccccc3o4)C1=O)C2...</td>\n",
       "      <td>RNKMIWQDRWSWCD-UHFFFAOYSA-N</td>\n",
       "      <td>Positive</td>\n",
       "      <td>C23H24N2O3</td>\n",
       "    </tr>\n",
       "    <tr>\n",
       "      <th>2</th>\n",
       "      <td>[[49.017338, 0.242], [49.020237, 0.181], [67.0...</td>\n",
       "      <td>ESI</td>\n",
       "      <td>Crude</td>\n",
       "      <td>Orbitrap</td>\n",
       "      <td>[M+H]+</td>\n",
       "      <td>377.186</td>\n",
       "      <td>CC12CCC(C(=O)N(CNc3cc4c(cc3)c3ccccc3o4)C1=O)C2...</td>\n",
       "      <td>RNKMIWQDRWSWCD-UHFFFAOYSA-N</td>\n",
       "      <td>Positive</td>\n",
       "      <td>C23H24N2O3</td>\n",
       "    </tr>\n",
       "    <tr>\n",
       "      <th>3</th>\n",
       "      <td>[[49.01701, 0.144], [49.019947, 0.244], [139.0...</td>\n",
       "      <td>ESI</td>\n",
       "      <td>Crude</td>\n",
       "      <td>Orbitrap</td>\n",
       "      <td>[M+H]+</td>\n",
       "      <td>377.186</td>\n",
       "      <td>CC12CCC(C(=O)N(CNc3cc4c(cc3)c3ccccc3o4)C1=O)C2...</td>\n",
       "      <td>RNKMIWQDRWSWCD-UHFFFAOYSA-N</td>\n",
       "      <td>Positive</td>\n",
       "      <td>C23H24N2O3</td>\n",
       "    </tr>\n",
       "    <tr>\n",
       "      <th>4</th>\n",
       "      <td>[[49.017166, 0.155], [49.020008, 0.253], [139....</td>\n",
       "      <td>ESI</td>\n",
       "      <td>Crude</td>\n",
       "      <td>Orbitrap</td>\n",
       "      <td>[M+H]+</td>\n",
       "      <td>377.186</td>\n",
       "      <td>CC12CCC(C(=O)N(CNc3cc4c(cc3)c3ccccc3o4)C1=O)C2...</td>\n",
       "      <td>RNKMIWQDRWSWCD-UHFFFAOYSA-N</td>\n",
       "      <td>Positive</td>\n",
       "      <td>C23H24N2O3</td>\n",
       "    </tr>\n",
       "  </tbody>\n",
       "</table>\n",
       "</div>"
      ],
      "text/plain": [
       "                                          peaks_json ion_source  \\\n",
       "0  [[42.014248, 0.10199999999999998], [42.26601, ...        ESI   \n",
       "1  [[49.01717, 0.155], [49.020023, 0.253], [67.05...        ESI   \n",
       "2  [[49.017338, 0.242], [49.020237, 0.181], [67.0...        ESI   \n",
       "3  [[49.01701, 0.144], [49.019947, 0.244], [139.0...        ESI   \n",
       "4  [[49.017166, 0.155], [49.020008, 0.253], [139....        ESI   \n",
       "\n",
       "  compound_source instrument  adduct  precursor_mz  \\\n",
       "0           Crude   Orbitrap  [M+H]+       377.186   \n",
       "1           Crude   Orbitrap  [M+H]+       377.186   \n",
       "2           Crude   Orbitrap  [M+H]+       377.186   \n",
       "3           Crude   Orbitrap  [M+H]+       377.186   \n",
       "4           Crude   Orbitrap  [M+H]+       377.186   \n",
       "\n",
       "                                              smiles  \\\n",
       "0  CC12CCC(C(=O)N(CNc3cc4c(cc3)c3ccccc3o4)C1=O)C2...   \n",
       "1  CC12CCC(C(=O)N(CNc3cc4c(cc3)c3ccccc3o4)C1=O)C2...   \n",
       "2  CC12CCC(C(=O)N(CNc3cc4c(cc3)c3ccccc3o4)C1=O)C2...   \n",
       "3  CC12CCC(C(=O)N(CNc3cc4c(cc3)c3ccccc3o4)C1=O)C2...   \n",
       "4  CC12CCC(C(=O)N(CNc3cc4c(cc3)c3ccccc3o4)C1=O)C2...   \n",
       "\n",
       "                      inchikey  ion_mode molecular_formula  \n",
       "0  RNKMIWQDRWSWCD-UHFFFAOYSA-N  Positive        C23H24N2O3  \n",
       "1  RNKMIWQDRWSWCD-UHFFFAOYSA-N  Positive        C23H24N2O3  \n",
       "2  RNKMIWQDRWSWCD-UHFFFAOYSA-N  Positive        C23H24N2O3  \n",
       "3  RNKMIWQDRWSWCD-UHFFFAOYSA-N  Positive        C23H24N2O3  \n",
       "4  RNKMIWQDRWSWCD-UHFFFAOYSA-N  Positive        C23H24N2O3  "
      ]
     },
     "execution_count": 4,
     "metadata": {},
     "output_type": "execute_result"
    }
   ],
   "source": [
    "# Cell 4: Load and explore validation data\n",
    "print(\"Loading train data...\")\n",
    "df_train = pd.read_csv(TRAIN_CSV_PATH)\n",
    "\n",
    "print(f\"Validation dataset shape: {df_train.shape}\")\n",
    "print(f\"Columns: {list(df_train.columns)}\")\n",
    "print(f\"Sample data:\")\n",
    "df_train.head()"
   ]
  },
  {
   "cell_type": "code",
   "execution_count": 5,
   "id": "5fda3e4a",
   "metadata": {},
   "outputs": [],
   "source": [
    "df_train_sample = df_train.sample(n=1000,random_state=42).reset_index(drop=True)"
   ]
  },
  {
   "cell_type": "code",
   "execution_count": 6,
   "id": "3829c1a8",
   "metadata": {},
   "outputs": [
    {
     "name": "stdout",
     "output_type": "stream",
     "text": [
      "Preparing data loaders\n",
      "Convert DataFrame to compatible files\n",
      "Processed 1000 valid spectra out of 1000 total entries.\n",
      "Create data wrapper\n",
      "calculating molecular graphs\n"
     ]
    },
    {
     "name": "stderr",
     "output_type": "stream",
     "text": [
      "100%|██████████| 800/800 [00:01<00:00, 638.18it/s]\n"
     ]
    },
    {
     "name": "stdout",
     "output_type": "stream",
     "text": [
      "Calculated 695 molecular graph-mass spectrometry pairs\n",
      "calculating molecular graphs\n"
     ]
    },
    {
     "name": "stderr",
     "output_type": "stream",
     "text": [
      " 34%|███▎      | 67/200 [00:00<00:00, 668.11it/s]"
     ]
    },
    {
     "name": "stdout",
     "output_type": "stream",
     "text": [
      "SMILES [Cl-].O=C1C2=CC=C(O)C(=C2OC(=C1C=3C=CC=4OCCCOC4C3)C)C[NH+](C)C calculation failure\n"
     ]
    },
    {
     "name": "stderr",
     "output_type": "stream",
     "text": [
      "100%|██████████| 200/200 [00:00<00:00, 652.31it/s]"
     ]
    },
    {
     "name": "stdout",
     "output_type": "stream",
     "text": [
      "Calculated 165 molecular graph-mass spectrometry pairs\n",
      "Successfully processed 1000 samples\n",
      "Number of batches: 3\n"
     ]
    },
    {
     "name": "stderr",
     "output_type": "stream",
     "text": [
      "\n"
     ]
    }
   ],
   "source": [
    "# Cell 6: Prepare validation data loader\n",
    "print(\"Preparing data loaders\")\n",
    "\n",
    "# Create data wrapper from DataFrame\n",
    "wrapper, processed_df = create_wrapper_from_dataframe(\n",
    "    df=df_train_sample,\n",
    "    batch_size=64,  \n",
    "    num_workers=8,\n",
    "    valid_size=0.2,  \n",
    "    use_ddp=False,\n",
    "    output_dir=\"./train_features\",\n",
    ")\n",
    "\n",
    "# Get the data loader\n",
    "train_loader, val_loader = wrapper.get_data_loaders()\n",
    "\n",
    "print(f\"Successfully processed {len(processed_df)} samples\")\n",
    "print(f\"Number of batches: {len(val_loader)}\")"
   ]
  },
  {
   "cell_type": "code",
   "execution_count": 18,
   "id": "d7fba6d3",
   "metadata": {},
   "outputs": [],
   "source": [
    "from model import ModelCLR\n",
    "\n",
    "# Initialize model architecture\n",
    "model = ModelCLR(**config[\"model_config\"]).to(DEVICE)"
   ]
  },
  {
   "cell_type": "code",
   "execution_count": 19,
   "id": "b4012a36",
   "metadata": {},
   "outputs": [
    {
     "name": "stdout",
     "output_type": "stream",
     "text": [
      "MODEL ARCHITECTURE:\n",
      "----------------------------------------\n",
      "Model Type: ModelCLR\n",
      "Device: cuda\n"
     ]
    }
   ],
   "source": [
    "# Model Architecture Overview\n",
    "print(\"MODEL ARCHITECTURE:\")\n",
    "print(\"-\" * 40)\n",
    "print(f\"Model Type: {type(model).__name__}\")\n",
    "print(f\"Device: {DEVICE}\")"
   ]
  },
  {
   "cell_type": "code",
   "execution_count": 20,
   "id": "3c8beedc",
   "metadata": {},
   "outputs": [
    {
     "name": "stdout",
     "output_type": "stream",
     "text": [
      "SUBMODULES:\n",
      "----------------------------------------\n",
      "Smiles_model   : SmilesModel\n",
      "  training    : True\n",
      "  num_layer   : 5\n",
      "  emb_dim     : 300\n",
      "  feat_dim    : 512\n",
      "  drop_ratio  : 0.3\n",
      "MS_model       : MSModel\n",
      "  training    : True\n",
      "smi_esa        : ESA_SMILES\n",
      "  training    : True\n",
      "spec_esa       : ESA_SPEC\n",
      "  training    : True\n",
      "smi_proj       : Linear\n",
      "  training    : True\n",
      "  in_features : 256\n",
      "  out_features: 256\n",
      "spec_proj      : Linear\n",
      "  training    : True\n",
      "  in_features : 256\n",
      "  out_features: 256\n"
     ]
    }
   ],
   "source": [
    "# Submodules Analysis\n",
    "print(\"SUBMODULES:\")\n",
    "print(\"-\" * 40)\n",
    "for name, module in model.named_children():\n",
    "    print(f\"{name:15}: {type(module).__name__}\")\n",
    "    if hasattr(module, '__dict__'):\n",
    "        for attr_name, attr_value in module.__dict__.items():\n",
    "            if not attr_name.startswith('_') and not callable(attr_value):\n",
    "                if isinstance(attr_value, (int, float, str, bool)):\n",
    "                    print(f\"  {attr_name:12}: {attr_value}\")"
   ]
  },
  {
   "cell_type": "code",
   "execution_count": 21,
   "id": "25f14f5c",
   "metadata": {},
   "outputs": [
    {
     "name": "stdout",
     "output_type": "stream",
     "text": [
      "PARAMETER ANALYSIS:\n",
      "----------------------------------------\n",
      "Total Parameters: 5,318,572\n",
      "Trainable Parameters: 5,318,444\n",
      "Non-trainable Parameters: 128\n"
     ]
    }
   ],
   "source": [
    "# Parameter Count\n",
    "print(\"PARAMETER ANALYSIS:\")\n",
    "print(\"-\" * 40)\n",
    "total_params = sum(p.numel() for p in model.parameters())\n",
    "trainable_params = sum(p.numel() for p in model.parameters() if p.requires_grad)\n",
    "\n",
    "print(f\"Total Parameters: {total_params:,}\")\n",
    "print(f\"Trainable Parameters: {trainable_params:,}\")\n",
    "print(f\"Non-trainable Parameters: {total_params - trainable_params:,}\")\n"
   ]
  },
  {
   "cell_type": "code",
   "execution_count": 22,
   "id": "451b63b3",
   "metadata": {},
   "outputs": [
    {
     "name": "stdout",
     "output_type": "stream",
     "text": [
      "MEMORY ANALYSIS:\n",
      "----------------------------------------\n",
      "Model Size: 20.30 MB\n",
      "Parameter Memory: 20.29 MB\n",
      "Buffer Memory: 0.01 MB\n"
     ]
    }
   ],
   "source": [
    "# Memory Usage (approximate)\n",
    "print(\"MEMORY ANALYSIS:\")\n",
    "print(\"-\" * 40)\n",
    "param_size = sum(p.numel() * p.element_size() for p in model.parameters())\n",
    "buffer_size = sum(b.numel() * b.element_size() for b in model.buffers())\n",
    "model_size_mb = (param_size + buffer_size) / 1024 / 1024\n",
    "\n",
    "print(f\"Model Size: {model_size_mb:.2f} MB\")\n",
    "print(f\"Parameter Memory: {param_size / 1024 / 1024:.2f} MB\")\n",
    "print(f\"Buffer Memory: {buffer_size / 1024 / 1024:.2f} MB\")\n"
   ]
  },
  {
   "cell_type": "code",
   "execution_count": 23,
   "id": "44da99f3",
   "metadata": {},
   "outputs": [],
   "source": [
    "from loss.nt_xent import NTXentLoss\n",
    "\n",
    "# Initialize loss function\n",
    "temperature = config.get('loss', {}).get('temperature', 0.1)\n",
    "batch_size = config.get('batch_size', 1024)\n",
    "use_cosine_similarity = config.get('loss', {}).get('use_cosine_similarity', True)\n",
    "alpha_weight = config.get('loss', {}).get('alpha_weight', 1.0)\n",
    "\n",
    "criterion = NTXentLoss(\n",
    "    device=DEVICE, \n",
    "    batch_size=batch_size, \n",
    "    temperature=temperature, \n",
    "    use_cosine_similarity=use_cosine_similarity, \n",
    "    alpha_weight=alpha_weight\n",
    ")"
   ]
  },
  {
   "cell_type": "code",
   "execution_count": 24,
   "id": "1d29b117",
   "metadata": {},
   "outputs": [
    {
     "name": "stdout",
     "output_type": "stream",
     "text": [
      "Setting up training components...\n",
      "Training for 100 epochs\n",
      "Optimizer: AdamW with lr=5e-06\n",
      "Scheduler: CosineAnnealingLR\n",
      "Checkpoint directory: ./model/checkpoints\n"
     ]
    }
   ],
   "source": [
    "# Cell 15: Training Setup and Optimizer\n",
    "import torch.optim as optim\n",
    "from torch.optim.lr_scheduler import CosineAnnealingLR\n",
    "import json\n",
    "import time\n",
    "from collections import defaultdict\n",
    "\n",
    "print(\"Setting up training components...\")\n",
    "OUTPUT_DIR = \"./model\"\n",
    "\n",
    "# Initialize optimizer\n",
    "optimizer = optim.AdamW(\n",
    "    model.parameters(),\n",
    "    lr=float(config.get('learning_rate', 5e-6)),\n",
    "    weight_decay=float(config.get('weight_decay', 1e-4))\n",
    ")\n",
    "\n",
    "# Initialize scheduler\n",
    "scheduler = CosineAnnealingLR(\n",
    "    optimizer, \n",
    "    T_max=config.get('epochs', 4000),\n",
    "    eta_min=1e-7\n",
    ")\n",
    "\n",
    "# Training configuration\n",
    "epochs = config.get('epochs', 4000)\n",
    "eval_every_n_epochs = config.get('eval_every_n_epochs', 5)\n",
    "log_every_n_steps = config.get('log_every_n_steps', 2)\n",
    "\n",
    "# Create checkpoint directory\n",
    "checkpoint_dir = os.path.join(OUTPUT_DIR, \"checkpoints\")\n",
    "os.makedirs(checkpoint_dir, exist_ok=True)\n",
    "\n",
    "print(f\"Training for {epochs} epochs\")\n",
    "print(f\"Optimizer: AdamW with lr={config.get('learning_rate', 5e-6)}\")\n",
    "print(f\"Scheduler: CosineAnnealingLR\")\n",
    "print(f\"Checkpoint directory: {checkpoint_dir}\")"
   ]
  },
  {
   "cell_type": "code",
   "execution_count": 25,
   "id": "51bd679c",
   "metadata": {},
   "outputs": [],
   "source": [
    "# Cell 16: Training and Evaluation Functions\n",
    "def train_epoch(model, train_loader, criterion, optimizer, device, epoch):\n",
    "    model.train()\n",
    "    total_loss = 0\n",
    "    num_batches = 0\n",
    "    batch_losses = []\n",
    "    \n",
    "    progress_bar = tqdm(train_loader, desc=f\"Training Epoch {epoch}\")\n",
    "    \n",
    "    for batch_idx, (graphs, mzs, intensities, num_peaks) in enumerate(progress_bar):\n",
    "        # Move data to device\n",
    "        graphs = graphs.to(device)\n",
    "        mzs = mzs.to(device)\n",
    "        intensities = intensities.to(device)\n",
    "        num_peaks = num_peaks.to(device)\n",
    "        \n",
    "        # Zero gradients\n",
    "        optimizer.zero_grad()\n",
    "        \n",
    "        # Forward pass\n",
    "        mol_features, spec_features = model(graphs, mzs, intensities, num_peaks)\n",
    "        loss = criterion(mol_features, spec_features)\n",
    "        \n",
    "        # Backward pass\n",
    "        loss.backward()\n",
    "        optimizer.step()\n",
    "        \n",
    "        # Track loss\n",
    "        batch_loss = loss.item()\n",
    "        total_loss += batch_loss\n",
    "        batch_losses.append(batch_loss)\n",
    "        num_batches += 1\n",
    "        \n",
    "        # Update progress bar\n",
    "        progress_bar.set_postfix({\n",
    "            'Loss': f'{batch_loss:.4f}',\n",
    "            'Avg Loss': f'{total_loss/num_batches:.4f}'\n",
    "        })\n",
    "        \n",
    "        # Log every n steps\n",
    "        if batch_idx % log_every_n_steps == 0:\n",
    "            print(f\"Epoch {epoch}, Batch {batch_idx}, Loss: {batch_loss:.4f}\")\n",
    "    \n",
    "    avg_loss = total_loss / num_batches\n",
    "    return avg_loss, batch_losses"
   ]
  },
  {
   "cell_type": "code",
   "execution_count": 26,
   "id": "7149a54a",
   "metadata": {},
   "outputs": [],
   "source": [
    "def compute_retrieval_metrics(molecular_features, spectral_features):\n",
    "    from sklearn.metrics import pairwise_distances\n",
    "\n",
    "    # Compute cosine distance matrix\n",
    "    distance_matrix = pairwise_distances(molecular_features, spectral_features, metric='cosine')\n",
    "    \n",
    "    # For each molecular feature, find the rank of the correct spectral feature\n",
    "    ranks = []\n",
    "    for i in range(distance_matrix.shape[0]):\n",
    "        sorted_indices = np.argsort(distance_matrix[i])\n",
    "        rank = np.where(sorted_indices == i)[0][0] + 1  # +1 for 1-based rank\n",
    "        ranks.append(rank)\n",
    "    \n",
    "    ranks = np.array(ranks)\n",
    "    \n",
    "    # Compute top-k accuracies\n",
    "    top_1_accuracy = np.mean(ranks <= 1)\n",
    "    top_5_accuracy = np.mean(ranks <= 5)\n",
    "    top_10_accuracy = np.mean(ranks <= 10)\n",
    "    \n",
    "    return {\n",
    "        'top_1_accuracy': top_1_accuracy,\n",
    "        'top_5_accuracy': top_5_accuracy,\n",
    "        'top_10_accuracy': top_10_accuracy\n",
    "    }\n",
    "\n",
    "\n",
    "def evaluate_model(model, val_loader, criterion, device, epoch):\n",
    "    model.eval()\n",
    "    total_loss = 0\n",
    "    num_batches = 0\n",
    "    \n",
    "    molecular_features_list = []\n",
    "    spectral_features_list = []\n",
    "    \n",
    "    with torch.no_grad():\n",
    "        progress_bar = tqdm(val_loader, desc=f\"Evaluating Epoch {epoch}\")\n",
    "        \n",
    "        for batch_idx, (graphs, mzs, intensities, num_peaks) in enumerate(progress_bar):\n",
    "            # Move data to device\n",
    "            graphs = graphs.to(device)\n",
    "            mzs = mzs.to(device)\n",
    "            intensities = intensities.to(device)\n",
    "            num_peaks = num_peaks.to(device)\n",
    "            \n",
    "            # Forward pass\n",
    "            mol_features, spec_features = model(graphs, mzs, intensities, num_peaks)\n",
    "            loss = criterion(mol_features, spec_features)\n",
    "            \n",
    "            total_loss += loss.item()\n",
    "            num_batches += 1\n",
    "            \n",
    "            # Store features for retrieval metrics\n",
    "            molecular_features_list.append(mol_features.cpu().numpy())\n",
    "            spectral_features_list.append(spec_features.cpu().numpy())\n",
    "            \n",
    "            progress_bar.set_postfix({'Val Loss': f'{loss.item():.4f}'})\n",
    "    \n",
    "    avg_loss = total_loss / num_batches\n",
    "    \n",
    "    # Compute retrieval metrics\n",
    "    all_mol_features = np.vstack(molecular_features_list)\n",
    "    all_spec_features = np.vstack(spectral_features_list)\n",
    "    \n",
    "    # Compute cosine similarities\n",
    "    cosine_similarities = np.sum(all_mol_features * all_spec_features, axis=1)\n",
    "    mean_similarity = np.mean(cosine_similarities)\n",
    "    \n",
    "    # Compute retrieval metrics\n",
    "    retrieval_metrics = compute_retrieval_metrics(all_mol_features, all_spec_features)\n",
    "    \n",
    "    return avg_loss, mean_similarity, retrieval_metrics"
   ]
  },
  {
   "cell_type": "code",
   "execution_count": 27,
   "id": "804819b8",
   "metadata": {},
   "outputs": [
    {
     "name": "stdout",
     "output_type": "stream",
     "text": [
      "Training and evaluation functions defined!\n"
     ]
    }
   ],
   "source": [
    "def save_checkpoint(model, optimizer, scheduler, epoch, train_loss, val_loss, val_metrics, checkpoint_dir):\n",
    "    checkpoint = {\n",
    "        'epoch': epoch,\n",
    "        'model_state_dict': model.state_dict(),\n",
    "        'optimizer_state_dict': optimizer.state_dict(),\n",
    "        'scheduler_state_dict': scheduler.state_dict(),\n",
    "        'train_loss': train_loss,\n",
    "        'val_loss': val_loss,\n",
    "        'val_metrics': val_metrics,\n",
    "        'config': config\n",
    "    }\n",
    "    \n",
    "    checkpoint_path = os.path.join(checkpoint_dir, f'checkpoint_epoch_{epoch}.pth')\n",
    "    torch.save(checkpoint, checkpoint_path)\n",
    "    print(f\"Checkpoint saved: {checkpoint_path}\")\n",
    "    \n",
    "    # Save best model\n",
    "    best_checkpoint_path = os.path.join(checkpoint_dir, 'best_model.pth')\n",
    "    if not os.path.exists(best_checkpoint_path):\n",
    "        torch.save(checkpoint, best_checkpoint_path)\n",
    "        print(f\"Best model saved: {best_checkpoint_path}\")\n",
    "    else:\n",
    "        best_checkpoint = torch.load(best_checkpoint_path)\n",
    "        if val_loss < best_checkpoint['val_loss']:\n",
    "            torch.save(checkpoint, best_checkpoint_path)\n",
    "            print(f\"New best model saved: {best_checkpoint_path}\")\n",
    "\n",
    "print(\"Training and evaluation functions defined!\")"
   ]
  },
  {
   "cell_type": "code",
   "execution_count": 28,
   "id": "06d49afc",
   "metadata": {},
   "outputs": [
    {
     "name": "stdout",
     "output_type": "stream",
     "text": [
      "Starting training...\n",
      "============================================================\n"
     ]
    },
    {
     "name": "stderr",
     "output_type": "stream",
     "text": [
      "Training Epoch 1:  30%|███       | 3/10 [00:00<00:01,  5.30it/s, Loss=4.2076, Avg Loss=4.2049]"
     ]
    },
    {
     "name": "stdout",
     "output_type": "stream",
     "text": [
      "Epoch 1, Batch 0, Loss: 4.2019\n",
      "Epoch 1, Batch 2, Loss: 4.2076\n"
     ]
    },
    {
     "name": "stderr",
     "output_type": "stream",
     "text": [
      "Training Epoch 1:  50%|█████     | 5/10 [00:00<00:00,  7.55it/s, Loss=4.2004, Avg Loss=4.2048]"
     ]
    },
    {
     "name": "stdout",
     "output_type": "stream",
     "text": [
      "Epoch 1, Batch 4, Loss: 4.1979\n"
     ]
    },
    {
     "name": "stderr",
     "output_type": "stream",
     "text": [
      "Training Epoch 1:  70%|███████   | 7/10 [00:01<00:00,  6.56it/s, Loss=4.1802, Avg Loss=4.2013]"
     ]
    },
    {
     "name": "stdout",
     "output_type": "stream",
     "text": [
      "Epoch 1, Batch 6, Loss: 4.1802\n"
     ]
    },
    {
     "name": "stderr",
     "output_type": "stream",
     "text": [
      "Training Epoch 1: 100%|██████████| 10/10 [00:01<00:00,  5.97it/s, Loss=4.1914, Avg Loss=4.1988]\n"
     ]
    },
    {
     "name": "stdout",
     "output_type": "stream",
     "text": [
      "Epoch 1, Batch 8, Loss: 4.2060\n",
      "Epoch 1/100 - Train Loss: 4.198793, LR: 5.00e-06, Time: 1.68s\n"
     ]
    },
    {
     "name": "stderr",
     "output_type": "stream",
     "text": [
      "Training Epoch 2:  30%|███       | 3/10 [00:00<00:01,  5.64it/s, Loss=4.1741, Avg Loss=4.1787]"
     ]
    },
    {
     "name": "stdout",
     "output_type": "stream",
     "text": [
      "Epoch 2, Batch 0, Loss: 4.1834\n",
      "Epoch 2, Batch 2, Loss: 4.1741\n"
     ]
    },
    {
     "name": "stderr",
     "output_type": "stream",
     "text": [
      "Training Epoch 2:  50%|█████     | 5/10 [00:00<00:00,  7.89it/s, Loss=4.1999, Avg Loss=4.1852]"
     ]
    },
    {
     "name": "stdout",
     "output_type": "stream",
     "text": [
      "Epoch 2, Batch 4, Loss: 4.1785\n"
     ]
    },
    {
     "name": "stderr",
     "output_type": "stream",
     "text": [
      "Training Epoch 2:  70%|███████   | 7/10 [00:01<00:00,  6.83it/s, Loss=4.1854, Avg Loss=4.1852]"
     ]
    },
    {
     "name": "stdout",
     "output_type": "stream",
     "text": [
      "Epoch 2, Batch 6, Loss: 4.1854\n"
     ]
    },
    {
     "name": "stderr",
     "output_type": "stream",
     "text": [
      "Training Epoch 2: 100%|██████████| 10/10 [00:01<00:00,  6.06it/s, Loss=4.1824, Avg Loss=4.1823]\n"
     ]
    },
    {
     "name": "stdout",
     "output_type": "stream",
     "text": [
      "Epoch 2, Batch 8, Loss: 4.1649\n",
      "Epoch 2/100 - Train Loss: 4.182287, LR: 5.00e-06, Time: 1.65s\n"
     ]
    },
    {
     "name": "stderr",
     "output_type": "stream",
     "text": [
      "Training Epoch 3:  30%|███       | 3/10 [00:00<00:01,  5.64it/s, Loss=4.1770, Avg Loss=4.1754]"
     ]
    },
    {
     "name": "stdout",
     "output_type": "stream",
     "text": [
      "Epoch 3, Batch 0, Loss: 4.1755\n",
      "Epoch 3, Batch 2, Loss: 4.1770\n"
     ]
    },
    {
     "name": "stderr",
     "output_type": "stream",
     "text": [
      "Training Epoch 3:  50%|█████     | 5/10 [00:00<00:00,  7.87it/s, Loss=4.1782, Avg Loss=4.1751]"
     ]
    },
    {
     "name": "stdout",
     "output_type": "stream",
     "text": [
      "Epoch 3, Batch 4, Loss: 4.1775\n"
     ]
    },
    {
     "name": "stderr",
     "output_type": "stream",
     "text": [
      "Training Epoch 3:  70%|███████   | 7/10 [00:01<00:00,  6.82it/s, Loss=4.1745, Avg Loss=4.1750]"
     ]
    },
    {
     "name": "stdout",
     "output_type": "stream",
     "text": [
      "Epoch 3, Batch 6, Loss: 4.1745\n"
     ]
    },
    {
     "name": "stderr",
     "output_type": "stream",
     "text": [
      "Training Epoch 3: 100%|██████████| 10/10 [00:01<00:00,  5.98it/s, Loss=4.1508, Avg Loss=4.1724]\n"
     ]
    },
    {
     "name": "stdout",
     "output_type": "stream",
     "text": [
      "Epoch 3, Batch 8, Loss: 4.1704\n",
      "Epoch 3/100 - Train Loss: 4.172352, LR: 4.99e-06, Time: 1.67s\n"
     ]
    },
    {
     "name": "stderr",
     "output_type": "stream",
     "text": [
      "Training Epoch 4:  30%|███       | 3/10 [00:00<00:01,  5.66it/s, Loss=4.1765, Avg Loss=4.1764]"
     ]
    },
    {
     "name": "stdout",
     "output_type": "stream",
     "text": [
      "Epoch 4, Batch 0, Loss: 4.1809\n",
      "Epoch 4, Batch 2, Loss: 4.1765\n"
     ]
    },
    {
     "name": "stderr",
     "output_type": "stream",
     "text": [
      "Training Epoch 4:  50%|█████     | 5/10 [00:00<00:00,  8.04it/s, Loss=4.1525, Avg Loss=4.1692]"
     ]
    },
    {
     "name": "stdout",
     "output_type": "stream",
     "text": [
      "Epoch 4, Batch 4, Loss: 4.1525\n"
     ]
    },
    {
     "name": "stderr",
     "output_type": "stream",
     "text": [
      "Training Epoch 4:  90%|█████████ | 9/10 [00:01<00:00,  6.52it/s, Loss=4.1645, Avg Loss=4.1707]"
     ]
    },
    {
     "name": "stdout",
     "output_type": "stream",
     "text": [
      "Epoch 4, Batch 6, Loss: 4.1662\n",
      "Epoch 4, Batch 8, Loss: 4.1645\n"
     ]
    },
    {
     "name": "stderr",
     "output_type": "stream",
     "text": [
      "Training Epoch 4: 100%|██████████| 10/10 [00:01<00:00,  6.06it/s, Loss=4.1752, Avg Loss=4.1712]\n"
     ]
    },
    {
     "name": "stdout",
     "output_type": "stream",
     "text": [
      "Epoch 4/100 - Train Loss: 4.171168, LR: 4.98e-06, Time: 1.65s\n"
     ]
    },
    {
     "name": "stderr",
     "output_type": "stream",
     "text": [
      "Training Epoch 5:  30%|███       | 3/10 [00:00<00:01,  5.73it/s, Loss=4.1625, Avg Loss=4.1646]"
     ]
    },
    {
     "name": "stdout",
     "output_type": "stream",
     "text": [
      "Epoch 5, Batch 0, Loss: 4.1730\n",
      "Epoch 5, Batch 2, Loss: 4.1625\n"
     ]
    },
    {
     "name": "stderr",
     "output_type": "stream",
     "text": [
      "Training Epoch 5:  50%|█████     | 5/10 [00:00<00:00,  8.06it/s, Loss=4.1619, Avg Loss=4.1673]"
     ]
    },
    {
     "name": "stdout",
     "output_type": "stream",
     "text": [
      "Epoch 5, Batch 4, Loss: 4.1619\n"
     ]
    },
    {
     "name": "stderr",
     "output_type": "stream",
     "text": [
      "Training Epoch 5:  80%|████████  | 8/10 [00:01<00:00,  5.78it/s, Loss=4.1708, Avg Loss=4.1709]"
     ]
    },
    {
     "name": "stdout",
     "output_type": "stream",
     "text": [
      "Epoch 5, Batch 6, Loss: 4.1671\n"
     ]
    },
    {
     "name": "stderr",
     "output_type": "stream",
     "text": [
      "Training Epoch 5: 100%|██████████| 10/10 [00:01<00:00,  6.03it/s, Loss=4.1631, Avg Loss=4.1685]\n"
     ]
    },
    {
     "name": "stdout",
     "output_type": "stream",
     "text": [
      "Epoch 5, Batch 8, Loss: 4.1556\n"
     ]
    },
    {
     "name": "stderr",
     "output_type": "stream",
     "text": [
      "Evaluating Epoch 5: 100%|██████████| 3/3 [00:00<00:00,  5.79it/s, Val Loss=3.6148]\n"
     ]
    },
    {
     "name": "stdout",
     "output_type": "stream",
     "text": [
      "\n",
      "Epoch 5/100\n",
      "Train Loss: 4.168545\n",
      "Val Loss: 3.977808\n",
      "Val Similarity: -0.1276\n",
      "Top-1 Accuracy: 0.0061\n",
      "Top-5 Accuracy: 0.0364\n",
      "Top-10 Accuracy: 0.0545\n",
      "Learning Rate: 4.97e-06\n",
      "Epoch Time: 2.20s, Total Time: 8.86s\n",
      "------------------------------------------------------------\n",
      "Checkpoint saved: ./model/checkpoints/checkpoint_epoch_5.pth\n"
     ]
    },
    {
     "name": "stderr",
     "output_type": "stream",
     "text": [
      "Training Epoch 6:  20%|██        | 2/10 [00:00<00:01,  4.06it/s, Loss=4.1521, Avg Loss=4.1591]"
     ]
    },
    {
     "name": "stdout",
     "output_type": "stream",
     "text": [
      "Epoch 6, Batch 0, Loss: 4.1693\n",
      "Epoch 6, Batch 2, Loss: 4.1521\n"
     ]
    },
    {
     "name": "stderr",
     "output_type": "stream",
     "text": [
      "Training Epoch 6:  40%|████      | 4/10 [00:00<00:00,  6.98it/s, Loss=4.1626, Avg Loss=4.1607]"
     ]
    },
    {
     "name": "stdout",
     "output_type": "stream",
     "text": [
      "Epoch 6, Batch 4, Loss: 4.1626\n"
     ]
    },
    {
     "name": "stderr",
     "output_type": "stream",
     "text": [
      "Training Epoch 6:  70%|███████   | 7/10 [00:01<00:00,  5.21it/s, Loss=4.1500, Avg Loss=4.1625]"
     ]
    },
    {
     "name": "stdout",
     "output_type": "stream",
     "text": [
      "Epoch 6, Batch 6, Loss: 4.1672\n"
     ]
    },
    {
     "name": "stderr",
     "output_type": "stream",
     "text": [
      "Training Epoch 6: 100%|██████████| 10/10 [00:01<00:00,  5.83it/s, Loss=4.1553, Avg Loss=4.1618]\n"
     ]
    },
    {
     "name": "stdout",
     "output_type": "stream",
     "text": [
      "Epoch 6, Batch 8, Loss: 4.1500\n",
      "Epoch 6/100 - Train Loss: 4.161757, LR: 4.96e-06, Time: 1.72s\n"
     ]
    },
    {
     "name": "stderr",
     "output_type": "stream",
     "text": [
      "Training Epoch 7:  30%|███       | 3/10 [00:00<00:01,  5.71it/s, Loss=4.1447, Avg Loss=4.1583]"
     ]
    },
    {
     "name": "stdout",
     "output_type": "stream",
     "text": [
      "Epoch 7, Batch 0, Loss: 4.1736\n",
      "Epoch 7, Batch 2, Loss: 4.1447\n"
     ]
    },
    {
     "name": "stderr",
     "output_type": "stream",
     "text": [
      "Training Epoch 7:  50%|█████     | 5/10 [00:00<00:00,  8.08it/s, Loss=4.1310, Avg Loss=4.1541]"
     ]
    },
    {
     "name": "stdout",
     "output_type": "stream",
     "text": [
      "Epoch 7, Batch 4, Loss: 4.1310\n"
     ]
    },
    {
     "name": "stderr",
     "output_type": "stream",
     "text": [
      "Training Epoch 7:  90%|█████████ | 9/10 [00:01<00:00,  6.63it/s, Loss=4.1381, Avg Loss=4.1550]"
     ]
    },
    {
     "name": "stdout",
     "output_type": "stream",
     "text": [
      "Epoch 7, Batch 6, Loss: 4.1494\n",
      "Epoch 7, Batch 8, Loss: 4.1381\n"
     ]
    },
    {
     "name": "stderr",
     "output_type": "stream",
     "text": [
      "Training Epoch 7: 100%|██████████| 10/10 [00:01<00:00,  6.12it/s, Loss=4.1486, Avg Loss=4.1543]\n"
     ]
    },
    {
     "name": "stdout",
     "output_type": "stream",
     "text": [
      "Epoch 7/100 - Train Loss: 4.154339, LR: 4.94e-06, Time: 1.64s\n"
     ]
    },
    {
     "name": "stderr",
     "output_type": "stream",
     "text": [
      "Training Epoch 8:  30%|███       | 3/10 [00:00<00:01,  5.68it/s, Loss=4.1487, Avg Loss=4.1495]"
     ]
    },
    {
     "name": "stdout",
     "output_type": "stream",
     "text": [
      "Epoch 8, Batch 0, Loss: 4.1609\n",
      "Epoch 8, Batch 2, Loss: 4.1487\n"
     ]
    },
    {
     "name": "stderr",
     "output_type": "stream",
     "text": [
      "Training Epoch 8:  50%|█████     | 5/10 [00:00<00:00,  7.99it/s, Loss=4.1569, Avg Loss=4.1531]"
     ]
    },
    {
     "name": "stdout",
     "output_type": "stream",
     "text": [
      "Epoch 8, Batch 4, Loss: 4.1569\n"
     ]
    },
    {
     "name": "stderr",
     "output_type": "stream",
     "text": [
      "Training Epoch 8:  70%|███████   | 7/10 [00:01<00:00,  5.10it/s, Loss=4.1373, Avg Loss=4.1532]"
     ]
    },
    {
     "name": "stdout",
     "output_type": "stream",
     "text": [
      "Epoch 8, Batch 6, Loss: 4.1575\n"
     ]
    },
    {
     "name": "stderr",
     "output_type": "stream",
     "text": [
      "Training Epoch 8: 100%|██████████| 10/10 [00:01<00:00,  6.05it/s, Loss=4.1488, Avg Loss=4.1527]\n"
     ]
    },
    {
     "name": "stdout",
     "output_type": "stream",
     "text": [
      "Epoch 8, Batch 8, Loss: 4.1527\n",
      "Epoch 8/100 - Train Loss: 4.152687, LR: 4.92e-06, Time: 1.66s\n"
     ]
    },
    {
     "name": "stderr",
     "output_type": "stream",
     "text": [
      "Training Epoch 9:  30%|███       | 3/10 [00:00<00:01,  5.69it/s, Loss=4.1518, Avg Loss=4.1478]"
     ]
    },
    {
     "name": "stdout",
     "output_type": "stream",
     "text": [
      "Epoch 9, Batch 0, Loss: 4.1613\n",
      "Epoch 9, Batch 2, Loss: 4.1518\n"
     ]
    },
    {
     "name": "stderr",
     "output_type": "stream",
     "text": [
      "Training Epoch 9:  60%|██████    | 6/10 [00:01<00:00,  5.38it/s, Loss=4.1733, Avg Loss=4.1522]"
     ]
    },
    {
     "name": "stdout",
     "output_type": "stream",
     "text": [
      "Epoch 9, Batch 4, Loss: 4.1406\n"
     ]
    },
    {
     "name": "stderr",
     "output_type": "stream",
     "text": [
      "Training Epoch 9:  90%|█████████ | 9/10 [00:01<00:00,  7.60it/s, Loss=4.1219, Avg Loss=4.1478]"
     ]
    },
    {
     "name": "stdout",
     "output_type": "stream",
     "text": [
      "Epoch 9, Batch 6, Loss: 4.1390\n",
      "Epoch 9, Batch 8, Loss: 4.1219\n"
     ]
    },
    {
     "name": "stderr",
     "output_type": "stream",
     "text": [
      "Training Epoch 9: 100%|██████████| 10/10 [00:01<00:00,  5.94it/s, Loss=4.1379, Avg Loss=4.1468]\n"
     ]
    },
    {
     "name": "stdout",
     "output_type": "stream",
     "text": [
      "Epoch 9/100 - Train Loss: 4.146838, LR: 4.90e-06, Time: 1.68s\n"
     ]
    },
    {
     "name": "stderr",
     "output_type": "stream",
     "text": [
      "Training Epoch 10:  30%|███       | 3/10 [00:00<00:01,  5.99it/s, Loss=4.1419, Avg Loss=4.1389]"
     ]
    },
    {
     "name": "stdout",
     "output_type": "stream",
     "text": [
      "Epoch 10, Batch 0, Loss: 4.1474\n",
      "Epoch 10, Batch 2, Loss: 4.1419\n"
     ]
    },
    {
     "name": "stderr",
     "output_type": "stream",
     "text": [
      "Training Epoch 10:  60%|██████    | 6/10 [00:01<00:00,  5.61it/s, Loss=4.1522, Avg Loss=4.1442]"
     ]
    },
    {
     "name": "stdout",
     "output_type": "stream",
     "text": [
      "Epoch 10, Batch 4, Loss: 4.1465\n"
     ]
    },
    {
     "name": "stderr",
     "output_type": "stream",
     "text": [
      "Training Epoch 10:  90%|█████████ | 9/10 [00:01<00:00,  7.71it/s, Loss=4.1452, Avg Loss=4.1453]"
     ]
    },
    {
     "name": "stdout",
     "output_type": "stream",
     "text": [
      "Epoch 10, Batch 6, Loss: 4.1554\n",
      "Epoch 10, Batch 8, Loss: 4.1452\n"
     ]
    },
    {
     "name": "stderr",
     "output_type": "stream",
     "text": [
      "Training Epoch 10: 100%|██████████| 10/10 [00:01<00:00,  6.11it/s, Loss=4.1321, Avg Loss=4.1440]\n",
      "Evaluating Epoch 10: 100%|██████████| 3/3 [00:00<00:00,  5.79it/s, Val Loss=3.5920]\n"
     ]
    },
    {
     "name": "stdout",
     "output_type": "stream",
     "text": [
      "\n",
      "Epoch 10/100\n",
      "Train Loss: 4.144004\n",
      "Val Loss: 3.964731\n",
      "Val Similarity: 0.3172\n",
      "Top-1 Accuracy: 0.0182\n",
      "Top-5 Accuracy: 0.0545\n",
      "Top-10 Accuracy: 0.0727\n",
      "Learning Rate: 4.88e-06\n",
      "Epoch Time: 2.17s, Total Time: 18.13s\n",
      "------------------------------------------------------------\n",
      "Checkpoint saved: ./model/checkpoints/checkpoint_epoch_10.pth\n",
      "New best model saved: ./model/checkpoints/best_model.pth\n"
     ]
    },
    {
     "name": "stderr",
     "output_type": "stream",
     "text": [
      "Training Epoch 11:  30%|███       | 3/10 [00:00<00:01,  5.87it/s, Loss=4.1293, Avg Loss=4.1399]"
     ]
    },
    {
     "name": "stdout",
     "output_type": "stream",
     "text": [
      "Epoch 11, Batch 0, Loss: 4.1587\n",
      "Epoch 11, Batch 2, Loss: 4.1293\n"
     ]
    },
    {
     "name": "stderr",
     "output_type": "stream",
     "text": [
      "Training Epoch 11:  60%|██████    | 6/10 [00:01<00:00,  5.58it/s, Loss=4.1486, Avg Loss=4.1417]"
     ]
    },
    {
     "name": "stdout",
     "output_type": "stream",
     "text": [
      "Epoch 11, Batch 4, Loss: 4.1378\n"
     ]
    },
    {
     "name": "stderr",
     "output_type": "stream",
     "text": [
      "Training Epoch 11:  70%|███████   | 7/10 [00:01<00:00,  6.35it/s, Loss=4.1497, Avg Loss=4.1433]"
     ]
    },
    {
     "name": "stdout",
     "output_type": "stream",
     "text": [
      "Epoch 11, Batch 6, Loss: 4.1466\n"
     ]
    },
    {
     "name": "stderr",
     "output_type": "stream",
     "text": [
      "Training Epoch 11: 100%|██████████| 10/10 [00:01<00:00,  6.05it/s, Loss=4.1435, Avg Loss=4.1416]\n"
     ]
    },
    {
     "name": "stdout",
     "output_type": "stream",
     "text": [
      "Epoch 11, Batch 8, Loss: 4.1262\n",
      "Epoch 11/100 - Train Loss: 4.141619, LR: 4.86e-06, Time: 1.66s\n"
     ]
    },
    {
     "name": "stderr",
     "output_type": "stream",
     "text": [
      "Training Epoch 12:  10%|█         | 1/10 [00:00<00:03,  2.47it/s, Loss=4.1269, Avg Loss=4.1306]"
     ]
    },
    {
     "name": "stdout",
     "output_type": "stream",
     "text": [
      "Epoch 12, Batch 0, Loss: 4.1343\n"
     ]
    },
    {
     "name": "stderr",
     "output_type": "stream",
     "text": [
      "Training Epoch 12:  30%|███       | 3/10 [00:00<00:01,  4.33it/s, Loss=4.1315, Avg Loss=4.1309]"
     ]
    },
    {
     "name": "stdout",
     "output_type": "stream",
     "text": [
      "Epoch 12, Batch 2, Loss: 4.1315\n"
     ]
    },
    {
     "name": "stderr",
     "output_type": "stream",
     "text": [
      "Training Epoch 12:  70%|███████   | 7/10 [00:01<00:00,  6.72it/s, Loss=4.1317, Avg Loss=4.1344]"
     ]
    },
    {
     "name": "stdout",
     "output_type": "stream",
     "text": [
      "Epoch 12, Batch 4, Loss: 4.1381\n",
      "Epoch 12, Batch 6, Loss: 4.1317\n"
     ]
    },
    {
     "name": "stderr",
     "output_type": "stream",
     "text": [
      "Training Epoch 12: 100%|██████████| 10/10 [00:01<00:00,  6.09it/s, Loss=4.1439, Avg Loss=4.1321]\n"
     ]
    },
    {
     "name": "stdout",
     "output_type": "stream",
     "text": [
      "Epoch 12, Batch 8, Loss: 4.1077\n",
      "Epoch 12/100 - Train Loss: 4.132111, LR: 4.83e-06, Time: 1.64s\n"
     ]
    },
    {
     "name": "stderr",
     "output_type": "stream",
     "text": [
      "Training Epoch 13:  30%|███       | 3/10 [00:00<00:01,  5.97it/s, Loss=4.1232, Avg Loss=4.1232]"
     ]
    },
    {
     "name": "stdout",
     "output_type": "stream",
     "text": [
      "Epoch 13, Batch 0, Loss: 4.1312\n",
      "Epoch 13, Batch 2, Loss: 4.1232\n"
     ]
    },
    {
     "name": "stderr",
     "output_type": "stream",
     "text": [
      "Training Epoch 13:  60%|██████    | 6/10 [00:01<00:00,  5.62it/s, Loss=4.1624, Avg Loss=4.1346]"
     ]
    },
    {
     "name": "stdout",
     "output_type": "stream",
     "text": [
      "Epoch 13, Batch 4, Loss: 4.1282\n"
     ]
    },
    {
     "name": "stderr",
     "output_type": "stream",
     "text": [
      "Training Epoch 13:  80%|████████  | 8/10 [00:01<00:00,  7.09it/s, Loss=4.1291, Avg Loss=4.1356]"
     ]
    },
    {
     "name": "stdout",
     "output_type": "stream",
     "text": [
      "Epoch 13, Batch 6, Loss: 4.1481\n"
     ]
    },
    {
     "name": "stderr",
     "output_type": "stream",
     "text": [
      "Training Epoch 13: 100%|██████████| 10/10 [00:01<00:00,  6.05it/s, Loss=4.1147, Avg Loss=4.1332]\n"
     ]
    },
    {
     "name": "stdout",
     "output_type": "stream",
     "text": [
      "Epoch 13, Batch 8, Loss: 4.1321\n",
      "Epoch 13/100 - Train Loss: 4.133173, LR: 4.80e-06, Time: 1.66s\n"
     ]
    },
    {
     "name": "stderr",
     "output_type": "stream",
     "text": [
      "Training Epoch 14:  10%|█         | 1/10 [00:00<00:03,  2.35it/s, Loss=4.1182, Avg Loss=4.1182]"
     ]
    },
    {
     "name": "stdout",
     "output_type": "stream",
     "text": [
      "Epoch 14, Batch 0, Loss: 4.1182\n"
     ]
    },
    {
     "name": "stderr",
     "output_type": "stream",
     "text": [
      "Training Epoch 14:  50%|█████     | 5/10 [00:01<00:00,  5.73it/s, Loss=4.1155, Avg Loss=4.1181]"
     ]
    },
    {
     "name": "stdout",
     "output_type": "stream",
     "text": [
      "Epoch 14, Batch 2, Loss: 4.1406\n",
      "Epoch 14, Batch 4, Loss: 4.1155\n"
     ]
    },
    {
     "name": "stderr",
     "output_type": "stream",
     "text": [
      "Training Epoch 14:  90%|█████████ | 9/10 [00:01<00:00,  8.16it/s, Loss=4.1092, Avg Loss=4.1221]"
     ]
    },
    {
     "name": "stdout",
     "output_type": "stream",
     "text": [
      "Epoch 14, Batch 6, Loss: 4.1319\n",
      "Epoch 14, Batch 8, Loss: 4.1092\n"
     ]
    },
    {
     "name": "stderr",
     "output_type": "stream",
     "text": [
      "Training Epoch 14: 100%|██████████| 10/10 [00:01<00:00,  5.43it/s, Loss=4.1352, Avg Loss=4.1234]\n"
     ]
    },
    {
     "name": "stdout",
     "output_type": "stream",
     "text": [
      "Epoch 14/100 - Train Loss: 4.123428, LR: 4.77e-06, Time: 1.84s\n"
     ]
    },
    {
     "name": "stderr",
     "output_type": "stream",
     "text": [
      "Training Epoch 15:  20%|██        | 2/10 [00:00<00:02,  3.22it/s, Loss=4.1360, Avg Loss=4.1187]"
     ]
    },
    {
     "name": "stdout",
     "output_type": "stream",
     "text": [
      "Epoch 15, Batch 0, Loss: 4.1182\n",
      "Epoch 15, Batch 2, Loss: 4.1360\n"
     ]
    },
    {
     "name": "stderr",
     "output_type": "stream",
     "text": [
      "Training Epoch 15:  50%|█████     | 5/10 [00:01<00:01,  4.31it/s, Loss=4.1642, Avg Loss=4.1319]"
     ]
    },
    {
     "name": "stdout",
     "output_type": "stream",
     "text": [
      "Epoch 15, Batch 4, Loss: 4.1342\n"
     ]
    },
    {
     "name": "stderr",
     "output_type": "stream",
     "text": [
      "Training Epoch 15:  90%|█████████ | 9/10 [00:01<00:00,  6.99it/s, Loss=4.1127, Avg Loss=4.1307]"
     ]
    },
    {
     "name": "stdout",
     "output_type": "stream",
     "text": [
      "Epoch 15, Batch 6, Loss: 4.1389\n",
      "Epoch 15, Batch 8, Loss: 4.1127\n"
     ]
    },
    {
     "name": "stderr",
     "output_type": "stream",
     "text": [
      "Training Epoch 15: 100%|██████████| 10/10 [00:01<00:00,  5.29it/s, Loss=4.1314, Avg Loss=4.1307]\n",
      "Evaluating Epoch 15: 100%|██████████| 3/3 [00:00<00:00,  3.27it/s, Val Loss=3.5755]\n"
     ]
    },
    {
     "name": "stdout",
     "output_type": "stream",
     "text": [
      "\n",
      "Epoch 15/100\n",
      "Train Loss: 4.130747\n",
      "Val Loss: 3.946928\n",
      "Val Similarity: 0.4124\n",
      "Top-1 Accuracy: 0.0242\n",
      "Top-5 Accuracy: 0.0485\n",
      "Top-10 Accuracy: 0.0788\n",
      "Learning Rate: 4.73e-06\n",
      "Epoch Time: 2.83s, Total Time: 28.25s\n",
      "------------------------------------------------------------\n",
      "Checkpoint saved: ./model/checkpoints/checkpoint_epoch_15.pth\n",
      "New best model saved: ./model/checkpoints/best_model.pth\n"
     ]
    },
    {
     "name": "stderr",
     "output_type": "stream",
     "text": [
      "Training Epoch 16:  20%|██        | 2/10 [00:00<00:03,  2.64it/s, Loss=4.0756, Avg Loss=4.0940]"
     ]
    },
    {
     "name": "stdout",
     "output_type": "stream",
     "text": [
      "Epoch 16, Batch 0, Loss: 4.1124\n"
     ]
    },
    {
     "name": "stderr",
     "output_type": "stream",
     "text": [
      "Training Epoch 16:  50%|█████     | 5/10 [00:01<00:00,  6.24it/s, Loss=4.1009, Avg Loss=4.1070]"
     ]
    },
    {
     "name": "stdout",
     "output_type": "stream",
     "text": [
      "Epoch 16, Batch 2, Loss: 4.1209\n",
      "Epoch 16, Batch 4, Loss: 4.1009\n"
     ]
    },
    {
     "name": "stderr",
     "output_type": "stream",
     "text": [
      "Training Epoch 16:  70%|███████   | 7/10 [00:01<00:00,  6.00it/s, Loss=4.1433, Avg Loss=4.1149]"
     ]
    },
    {
     "name": "stdout",
     "output_type": "stream",
     "text": [
      "Epoch 16, Batch 6, Loss: 4.1433\n"
     ]
    },
    {
     "name": "stderr",
     "output_type": "stream",
     "text": [
      "Training Epoch 16: 100%|██████████| 10/10 [00:02<00:00,  4.80it/s, Loss=4.1312, Avg Loss=4.1162]"
     ]
    },
    {
     "name": "stdout",
     "output_type": "stream",
     "text": [
      "Epoch 16, Batch 8, Loss: 4.1110\n"
     ]
    },
    {
     "name": "stderr",
     "output_type": "stream",
     "text": [
      "\n"
     ]
    },
    {
     "name": "stdout",
     "output_type": "stream",
     "text": [
      "Epoch 16/100 - Train Loss: 4.116163, LR: 4.70e-06, Time: 2.09s\n"
     ]
    },
    {
     "name": "stderr",
     "output_type": "stream",
     "text": [
      "Training Epoch 17:  10%|█         | 1/10 [00:00<00:06,  1.44it/s, Loss=4.1110, Avg Loss=4.1110]"
     ]
    },
    {
     "name": "stdout",
     "output_type": "stream",
     "text": [
      "Epoch 17, Batch 0, Loss: 4.1110\n"
     ]
    },
    {
     "name": "stderr",
     "output_type": "stream",
     "text": [
      "Training Epoch 17:  50%|█████     | 5/10 [00:01<00:00,  6.02it/s, Loss=4.1239, Avg Loss=4.1080]"
     ]
    },
    {
     "name": "stdout",
     "output_type": "stream",
     "text": [
      "Epoch 17, Batch 2, Loss: 4.1057\n",
      "Epoch 17, Batch 4, Loss: 4.1239\n"
     ]
    },
    {
     "name": "stderr",
     "output_type": "stream",
     "text": [
      "Training Epoch 17:  70%|███████   | 7/10 [00:01<00:00,  7.59it/s, Loss=4.1327, Avg Loss=4.1144]"
     ]
    },
    {
     "name": "stdout",
     "output_type": "stream",
     "text": [
      "Epoch 17, Batch 6, Loss: 4.1327\n"
     ]
    },
    {
     "name": "stderr",
     "output_type": "stream",
     "text": [
      "Training Epoch 17: 100%|██████████| 10/10 [00:02<00:00,  4.80it/s, Loss=4.1232, Avg Loss=4.1123]\n"
     ]
    },
    {
     "name": "stdout",
     "output_type": "stream",
     "text": [
      "Epoch 17, Batch 8, Loss: 4.0925\n",
      "Epoch 17/100 - Train Loss: 4.112337, LR: 4.66e-06, Time: 2.09s\n"
     ]
    },
    {
     "name": "stderr",
     "output_type": "stream",
     "text": [
      "Training Epoch 18:  10%|█         | 1/10 [00:00<00:04,  2.14it/s, Loss=4.0714, Avg Loss=4.0902]"
     ]
    },
    {
     "name": "stdout",
     "output_type": "stream",
     "text": [
      "Epoch 18, Batch 0, Loss: 4.1090\n"
     ]
    },
    {
     "name": "stderr",
     "output_type": "stream",
     "text": [
      "Training Epoch 18:  30%|███       | 3/10 [00:00<00:01,  4.03it/s, Loss=4.1108, Avg Loss=4.0971]"
     ]
    },
    {
     "name": "stdout",
     "output_type": "stream",
     "text": [
      "Epoch 18, Batch 2, Loss: 4.1108\n"
     ]
    },
    {
     "name": "stderr",
     "output_type": "stream",
     "text": [
      "Training Epoch 18:  70%|███████   | 7/10 [00:01<00:00,  6.54it/s, Loss=4.1177, Avg Loss=4.1034]"
     ]
    },
    {
     "name": "stdout",
     "output_type": "stream",
     "text": [
      "Epoch 18, Batch 4, Loss: 4.0708\n",
      "Epoch 18, Batch 6, Loss: 4.1177\n"
     ]
    },
    {
     "name": "stderr",
     "output_type": "stream",
     "text": [
      "Training Epoch 18: 100%|██████████| 10/10 [00:01<00:00,  5.82it/s, Loss=4.1070, Avg Loss=4.1002]\n"
     ]
    },
    {
     "name": "stdout",
     "output_type": "stream",
     "text": [
      "Epoch 18, Batch 8, Loss: 4.0774\n",
      "Epoch 18/100 - Train Loss: 4.100247, LR: 4.62e-06, Time: 1.72s\n"
     ]
    },
    {
     "name": "stderr",
     "output_type": "stream",
     "text": [
      "Training Epoch 19:  20%|██        | 2/10 [00:00<00:03,  2.62it/s, Loss=4.0408, Avg Loss=4.0666]"
     ]
    },
    {
     "name": "stdout",
     "output_type": "stream",
     "text": [
      "Epoch 19, Batch 0, Loss: 4.0925\n"
     ]
    },
    {
     "name": "stderr",
     "output_type": "stream",
     "text": [
      "Training Epoch 19:  40%|████      | 4/10 [00:01<00:01,  5.13it/s, Loss=4.0879, Avg Loss=4.0826]"
     ]
    },
    {
     "name": "stdout",
     "output_type": "stream",
     "text": [
      "Epoch 19, Batch 2, Loss: 4.1067\n",
      "Epoch 19, Batch 4, Loss: 4.0879\n"
     ]
    },
    {
     "name": "stderr",
     "output_type": "stream",
     "text": [
      "Training Epoch 19:  70%|███████   | 7/10 [00:01<00:00,  7.51it/s, Loss=4.1093, Avg Loss=4.0914]"
     ]
    },
    {
     "name": "stdout",
     "output_type": "stream",
     "text": [
      "Epoch 19, Batch 6, Loss: 4.1093\n"
     ]
    },
    {
     "name": "stderr",
     "output_type": "stream",
     "text": [
      "Training Epoch 19: 100%|██████████| 10/10 [00:02<00:00,  4.97it/s, Loss=4.0938, Avg Loss=4.0925]\n"
     ]
    },
    {
     "name": "stdout",
     "output_type": "stream",
     "text": [
      "Epoch 19, Batch 8, Loss: 4.0819\n",
      "Epoch 19/100 - Train Loss: 4.092536, LR: 4.58e-06, Time: 2.02s\n"
     ]
    },
    {
     "name": "stderr",
     "output_type": "stream",
     "text": [
      "Training Epoch 20:  10%|█         | 1/10 [00:00<00:04,  2.12it/s, Loss=4.0216, Avg Loss=4.0480]"
     ]
    },
    {
     "name": "stdout",
     "output_type": "stream",
     "text": [
      "Epoch 20, Batch 0, Loss: 4.0745\n"
     ]
    },
    {
     "name": "stderr",
     "output_type": "stream",
     "text": [
      "Training Epoch 20:  30%|███       | 3/10 [00:00<00:01,  3.99it/s, Loss=4.0834, Avg Loss=4.0598]"
     ]
    },
    {
     "name": "stdout",
     "output_type": "stream",
     "text": [
      "Epoch 20, Batch 2, Loss: 4.0834\n"
     ]
    },
    {
     "name": "stderr",
     "output_type": "stream",
     "text": [
      "Training Epoch 20:  70%|███████   | 7/10 [00:01<00:00,  6.54it/s, Loss=4.1339, Avg Loss=4.0762]"
     ]
    },
    {
     "name": "stdout",
     "output_type": "stream",
     "text": [
      "Epoch 20, Batch 4, Loss: 4.0538\n",
      "Epoch 20, Batch 6, Loss: 4.1339\n"
     ]
    },
    {
     "name": "stderr",
     "output_type": "stream",
     "text": [
      "Training Epoch 20: 100%|██████████| 10/10 [00:01<00:00,  5.80it/s, Loss=4.0730, Avg Loss=4.0765]\n"
     ]
    },
    {
     "name": "stdout",
     "output_type": "stream",
     "text": [
      "Epoch 20, Batch 8, Loss: 4.0624\n"
     ]
    },
    {
     "name": "stderr",
     "output_type": "stream",
     "text": [
      "Evaluating Epoch 20: 100%|██████████| 3/3 [00:00<00:00,  3.33it/s, Val Loss=3.5526]\n"
     ]
    },
    {
     "name": "stdout",
     "output_type": "stream",
     "text": [
      "\n",
      "Epoch 20/100\n",
      "Train Loss: 4.076453\n",
      "Val Loss: 3.910990\n",
      "Val Similarity: 0.4480\n",
      "Top-1 Accuracy: 0.0182\n",
      "Top-5 Accuracy: 0.0848\n",
      "Top-10 Accuracy: 0.1273\n",
      "Learning Rate: 4.53e-06\n",
      "Epoch Time: 2.64s, Total Time: 39.35s\n",
      "------------------------------------------------------------\n",
      "Checkpoint saved: ./model/checkpoints/checkpoint_epoch_20.pth\n",
      "New best model saved: ./model/checkpoints/best_model.pth\n"
     ]
    },
    {
     "name": "stderr",
     "output_type": "stream",
     "text": [
      "Training Epoch 21:  20%|██        | 2/10 [00:00<00:03,  2.58it/s, Loss=4.0144, Avg Loss=4.0352]"
     ]
    },
    {
     "name": "stdout",
     "output_type": "stream",
     "text": [
      "Epoch 21, Batch 0, Loss: 4.0560\n"
     ]
    },
    {
     "name": "stderr",
     "output_type": "stream",
     "text": [
      "Training Epoch 21:  50%|█████     | 5/10 [00:01<00:00,  6.36it/s, Loss=4.0553, Avg Loss=4.0468]"
     ]
    },
    {
     "name": "stdout",
     "output_type": "stream",
     "text": [
      "Epoch 21, Batch 2, Loss: 4.0488\n",
      "Epoch 21, Batch 4, Loss: 4.0553\n"
     ]
    },
    {
     "name": "stderr",
     "output_type": "stream",
     "text": [
      "Training Epoch 21:  70%|███████   | 7/10 [00:01<00:00,  7.95it/s, Loss=4.1141, Avg Loss=4.0611]"
     ]
    },
    {
     "name": "stdout",
     "output_type": "stream",
     "text": [
      "Epoch 21, Batch 6, Loss: 4.1141\n"
     ]
    },
    {
     "name": "stderr",
     "output_type": "stream",
     "text": [
      "Training Epoch 21: 100%|██████████| 10/10 [00:02<00:00,  4.90it/s, Loss=4.0503, Avg Loss=4.0548]\n"
     ]
    },
    {
     "name": "stdout",
     "output_type": "stream",
     "text": [
      "Epoch 21, Batch 8, Loss: 4.0086\n",
      "Epoch 21/100 - Train Loss: 4.054813, LR: 4.49e-06, Time: 2.04s\n"
     ]
    },
    {
     "name": "stderr",
     "output_type": "stream",
     "text": [
      "Training Epoch 22:  10%|█         | 1/10 [00:00<00:04,  2.12it/s, Loss=3.9354, Avg Loss=3.9829]"
     ]
    },
    {
     "name": "stdout",
     "output_type": "stream",
     "text": [
      "Epoch 22, Batch 0, Loss: 4.0304\n"
     ]
    },
    {
     "name": "stderr",
     "output_type": "stream",
     "text": [
      "Training Epoch 22:  30%|███       | 3/10 [00:00<00:01,  4.03it/s, Loss=4.0414, Avg Loss=4.0024]"
     ]
    },
    {
     "name": "stdout",
     "output_type": "stream",
     "text": [
      "Epoch 22, Batch 2, Loss: 4.0414\n"
     ]
    },
    {
     "name": "stderr",
     "output_type": "stream",
     "text": [
      "Training Epoch 22:  70%|███████   | 7/10 [00:01<00:00,  6.54it/s, Loss=4.1101, Avg Loss=4.0325]"
     ]
    },
    {
     "name": "stdout",
     "output_type": "stream",
     "text": [
      "Epoch 22, Batch 4, Loss: 3.9888\n",
      "Epoch 22, Batch 6, Loss: 4.1101\n"
     ]
    },
    {
     "name": "stderr",
     "output_type": "stream",
     "text": [
      "Training Epoch 22:  90%|█████████ | 9/10 [00:01<00:00,  7.68it/s, Loss=3.9969, Avg Loss=4.0297]"
     ]
    },
    {
     "name": "stdout",
     "output_type": "stream",
     "text": [
      "Epoch 22, Batch 8, Loss: 3.9969\n"
     ]
    },
    {
     "name": "stderr",
     "output_type": "stream",
     "text": [
      "Training Epoch 22: 100%|██████████| 10/10 [00:01<00:00,  5.19it/s, Loss=4.0306, Avg Loss=4.0298]\n"
     ]
    },
    {
     "name": "stdout",
     "output_type": "stream",
     "text": [
      "Epoch 22/100 - Train Loss: 4.029799, LR: 4.44e-06, Time: 1.93s\n"
     ]
    },
    {
     "name": "stderr",
     "output_type": "stream",
     "text": [
      "Training Epoch 23:  30%|███       | 3/10 [00:00<00:01,  4.62it/s, Loss=4.0394, Avg Loss=4.0004]"
     ]
    },
    {
     "name": "stdout",
     "output_type": "stream",
     "text": [
      "Epoch 23, Batch 0, Loss: 4.0330\n",
      "Epoch 23, Batch 2, Loss: 4.0394\n"
     ]
    },
    {
     "name": "stderr",
     "output_type": "stream",
     "text": [
      "Training Epoch 23:  50%|█████     | 5/10 [00:00<00:00,  6.86it/s, Loss=4.0661, Avg Loss=4.0119]"
     ]
    },
    {
     "name": "stdout",
     "output_type": "stream",
     "text": [
      "Epoch 23, Batch 4, Loss: 3.9799\n"
     ]
    },
    {
     "name": "stderr",
     "output_type": "stream",
     "text": [
      "Training Epoch 23:  70%|███████   | 7/10 [00:01<00:00,  6.33it/s, Loss=4.0356, Avg Loss=4.0153]"
     ]
    },
    {
     "name": "stdout",
     "output_type": "stream",
     "text": [
      "Epoch 23, Batch 6, Loss: 4.0356\n"
     ]
    },
    {
     "name": "stderr",
     "output_type": "stream",
     "text": [
      "Training Epoch 23: 100%|██████████| 10/10 [00:01<00:00,  5.49it/s, Loss=4.0277, Avg Loss=4.0092]\n"
     ]
    },
    {
     "name": "stdout",
     "output_type": "stream",
     "text": [
      "Epoch 23, Batch 8, Loss: 3.9865\n",
      "Epoch 23/100 - Train Loss: 4.009229, LR: 4.39e-06, Time: 1.82s\n"
     ]
    },
    {
     "name": "stderr",
     "output_type": "stream",
     "text": [
      "Training Epoch 24:  10%|█         | 1/10 [00:00<00:04,  2.11it/s, Loss=3.9692, Avg Loss=3.9692]"
     ]
    },
    {
     "name": "stdout",
     "output_type": "stream",
     "text": [
      "Epoch 24, Batch 0, Loss: 3.9692\n"
     ]
    },
    {
     "name": "stderr",
     "output_type": "stream",
     "text": [
      "Training Epoch 24:  50%|█████     | 5/10 [00:01<00:00,  5.63it/s, Loss=3.9983, Avg Loss=3.9659]"
     ]
    },
    {
     "name": "stdout",
     "output_type": "stream",
     "text": [
      "Epoch 24, Batch 2, Loss: 4.0017\n",
      "Epoch 24, Batch 4, Loss: 3.9983\n"
     ]
    },
    {
     "name": "stderr",
     "output_type": "stream",
     "text": [
      "Training Epoch 24:  80%|████████  | 8/10 [00:01<00:00,  7.62it/s, Loss=4.0253, Avg Loss=3.9969]"
     ]
    },
    {
     "name": "stdout",
     "output_type": "stream",
     "text": [
      "Epoch 24, Batch 6, Loss: 4.0785\n"
     ]
    },
    {
     "name": "stderr",
     "output_type": "stream",
     "text": [
      "Training Epoch 24:  90%|█████████ | 9/10 [00:01<00:00,  6.26it/s, Loss=3.9828, Avg Loss=3.9954]"
     ]
    },
    {
     "name": "stdout",
     "output_type": "stream",
     "text": [
      "Epoch 24, Batch 8, Loss: 3.9828\n"
     ]
    },
    {
     "name": "stderr",
     "output_type": "stream",
     "text": [
      "Training Epoch 24: 100%|██████████| 10/10 [00:02<00:00,  4.87it/s, Loss=3.9927, Avg Loss=3.9951]\n"
     ]
    },
    {
     "name": "stdout",
     "output_type": "stream",
     "text": [
      "Epoch 24/100 - Train Loss: 3.995092, LR: 4.34e-06, Time: 2.06s\n"
     ]
    },
    {
     "name": "stderr",
     "output_type": "stream",
     "text": [
      "Training Epoch 25:  30%|███       | 3/10 [00:00<00:01,  5.25it/s, Loss=3.9626, Avg Loss=3.9418]"
     ]
    },
    {
     "name": "stdout",
     "output_type": "stream",
     "text": [
      "Epoch 25, Batch 0, Loss: 3.9759\n",
      "Epoch 25, Batch 2, Loss: 3.9626\n"
     ]
    },
    {
     "name": "stderr",
     "output_type": "stream",
     "text": [
      "Training Epoch 25:  50%|█████     | 5/10 [00:00<00:00,  7.66it/s, Loss=3.9163, Avg Loss=3.9390]"
     ]
    },
    {
     "name": "stdout",
     "output_type": "stream",
     "text": [
      "Epoch 25, Batch 4, Loss: 3.9163\n"
     ]
    },
    {
     "name": "stderr",
     "output_type": "stream",
     "text": [
      "Training Epoch 25:  80%|████████  | 8/10 [00:01<00:00,  5.91it/s, Loss=3.9682, Avg Loss=3.9724]"
     ]
    },
    {
     "name": "stdout",
     "output_type": "stream",
     "text": [
      "Epoch 25, Batch 6, Loss: 4.0271\n"
     ]
    },
    {
     "name": "stderr",
     "output_type": "stream",
     "text": [
      "Training Epoch 25: 100%|██████████| 10/10 [00:01<00:00,  5.74it/s, Loss=3.9817, Avg Loss=3.9717]\n"
     ]
    },
    {
     "name": "stdout",
     "output_type": "stream",
     "text": [
      "Epoch 25, Batch 8, Loss: 3.9563\n"
     ]
    },
    {
     "name": "stderr",
     "output_type": "stream",
     "text": [
      "Evaluating Epoch 25: 100%|██████████| 3/3 [00:00<00:00,  3.25it/s, Val Loss=3.5847]\n"
     ]
    },
    {
     "name": "stdout",
     "output_type": "stream",
     "text": [
      "\n",
      "Epoch 25/100\n",
      "Train Loss: 3.971738\n",
      "Val Loss: 3.897513\n",
      "Val Similarity: 0.6276\n",
      "Top-1 Accuracy: 0.0061\n",
      "Top-5 Accuracy: 0.0545\n",
      "Top-10 Accuracy: 0.1212\n",
      "Learning Rate: 4.28e-06\n",
      "Epoch Time: 2.70s, Total Time: 50.46s\n",
      "------------------------------------------------------------\n",
      "Checkpoint saved: ./model/checkpoints/checkpoint_epoch_25.pth\n",
      "New best model saved: ./model/checkpoints/best_model.pth\n"
     ]
    },
    {
     "name": "stderr",
     "output_type": "stream",
     "text": [
      "Training Epoch 26:  30%|███       | 3/10 [00:00<00:01,  4.63it/s, Loss=3.9512, Avg Loss=3.9306]"
     ]
    },
    {
     "name": "stdout",
     "output_type": "stream",
     "text": [
      "Epoch 26, Batch 0, Loss: 3.9845\n",
      "Epoch 26, Batch 2, Loss: 3.9512\n"
     ]
    },
    {
     "name": "stderr",
     "output_type": "stream",
     "text": [
      "Training Epoch 26:  50%|█████     | 5/10 [00:00<00:00,  6.86it/s, Loss=4.0410, Avg Loss=3.9531]"
     ]
    },
    {
     "name": "stdout",
     "output_type": "stream",
     "text": [
      "Epoch 26, Batch 4, Loss: 3.9107\n"
     ]
    },
    {
     "name": "stderr",
     "output_type": "stream",
     "text": [
      "Training Epoch 26:  70%|███████   | 7/10 [00:01<00:00,  6.31it/s, Loss=4.0325, Avg Loss=3.9645]"
     ]
    },
    {
     "name": "stdout",
     "output_type": "stream",
     "text": [
      "Epoch 26, Batch 6, Loss: 4.0325\n"
     ]
    },
    {
     "name": "stderr",
     "output_type": "stream",
     "text": [
      "Training Epoch 26: 100%|██████████| 10/10 [00:01<00:00,  5.45it/s, Loss=3.9676, Avg Loss=3.9629]\n"
     ]
    },
    {
     "name": "stdout",
     "output_type": "stream",
     "text": [
      "Epoch 26, Batch 8, Loss: 3.9158\n",
      "Epoch 26/100 - Train Loss: 3.962890, LR: 4.23e-06, Time: 1.84s\n"
     ]
    },
    {
     "name": "stderr",
     "output_type": "stream",
     "text": [
      "Training Epoch 27:  20%|██        | 2/10 [00:00<00:03,  2.46it/s, Loss=3.8309, Avg Loss=3.9013]"
     ]
    },
    {
     "name": "stdout",
     "output_type": "stream",
     "text": [
      "Epoch 27, Batch 0, Loss: 3.9716\n"
     ]
    },
    {
     "name": "stderr",
     "output_type": "stream",
     "text": [
      "Training Epoch 27:  40%|████      | 4/10 [00:01<00:01,  4.78it/s, Loss=3.9343, Avg Loss=3.9364]"
     ]
    },
    {
     "name": "stdout",
     "output_type": "stream",
     "text": [
      "Epoch 27, Batch 2, Loss: 3.9497\n",
      "Epoch 27, Batch 4, Loss: 3.9343\n"
     ]
    },
    {
     "name": "stderr",
     "output_type": "stream",
     "text": [
      "Training Epoch 27:  70%|███████   | 7/10 [00:01<00:00,  7.27it/s, Loss=4.0201, Avg Loss=3.9561]"
     ]
    },
    {
     "name": "stdout",
     "output_type": "stream",
     "text": [
      "Epoch 27, Batch 6, Loss: 4.0201\n"
     ]
    },
    {
     "name": "stderr",
     "output_type": "stream",
     "text": [
      "Training Epoch 27: 100%|██████████| 10/10 [00:02<00:00,  4.79it/s, Loss=3.9370, Avg Loss=3.9479]\n"
     ]
    },
    {
     "name": "stdout",
     "output_type": "stream",
     "text": [
      "Epoch 27, Batch 8, Loss: 3.9089\n",
      "Epoch 27/100 - Train Loss: 3.947876, LR: 4.17e-06, Time: 2.09s\n"
     ]
    },
    {
     "name": "stderr",
     "output_type": "stream",
     "text": [
      "Training Epoch 28:  20%|██        | 2/10 [00:00<00:03,  2.41it/s, Loss=3.8109, Avg Loss=3.8870]"
     ]
    },
    {
     "name": "stdout",
     "output_type": "stream",
     "text": [
      "Epoch 28, Batch 0, Loss: 3.9630\n"
     ]
    },
    {
     "name": "stderr",
     "output_type": "stream",
     "text": [
      "Training Epoch 28:  50%|█████     | 5/10 [00:01<00:00,  5.96it/s, Loss=3.8913, Avg Loss=3.9141]"
     ]
    },
    {
     "name": "stdout",
     "output_type": "stream",
     "text": [
      "Epoch 28, Batch 2, Loss: 3.9208\n",
      "Epoch 28, Batch 4, Loss: 3.8913\n"
     ]
    },
    {
     "name": "stderr",
     "output_type": "stream",
     "text": [
      "Training Epoch 28:  70%|███████   | 7/10 [00:01<00:00,  5.87it/s, Loss=3.9257, Avg Loss=3.9261]"
     ]
    },
    {
     "name": "stdout",
     "output_type": "stream",
     "text": [
      "Epoch 28, Batch 6, Loss: 3.9257\n"
     ]
    },
    {
     "name": "stderr",
     "output_type": "stream",
     "text": [
      "Training Epoch 28: 100%|██████████| 10/10 [00:02<00:00,  4.69it/s, Loss=3.9568, Avg Loss=3.9330]\n"
     ]
    },
    {
     "name": "stdout",
     "output_type": "stream",
     "text": [
      "Epoch 28, Batch 8, Loss: 3.9216\n",
      "Epoch 28/100 - Train Loss: 3.932997, LR: 4.11e-06, Time: 2.14s\n"
     ]
    },
    {
     "name": "stderr",
     "output_type": "stream",
     "text": [
      "Training Epoch 29:  10%|█         | 1/10 [00:00<00:06,  1.44it/s, Loss=3.9867, Avg Loss=3.9867]"
     ]
    },
    {
     "name": "stdout",
     "output_type": "stream",
     "text": [
      "Epoch 29, Batch 0, Loss: 3.9867\n"
     ]
    },
    {
     "name": "stderr",
     "output_type": "stream",
     "text": [
      "Training Epoch 29:  50%|█████     | 5/10 [00:01<00:00,  6.10it/s, Loss=3.8556, Avg Loss=3.8933]"
     ]
    },
    {
     "name": "stdout",
     "output_type": "stream",
     "text": [
      "Epoch 29, Batch 2, Loss: 3.9067\n",
      "Epoch 29, Batch 4, Loss: 3.8556\n"
     ]
    },
    {
     "name": "stderr",
     "output_type": "stream",
     "text": [
      "Training Epoch 29:  70%|███████   | 7/10 [00:01<00:00,  7.54it/s, Loss=3.9607, Avg Loss=3.9230]"
     ]
    },
    {
     "name": "stdout",
     "output_type": "stream",
     "text": [
      "Epoch 29, Batch 6, Loss: 3.9607\n"
     ]
    },
    {
     "name": "stderr",
     "output_type": "stream",
     "text": [
      "Training Epoch 29: 100%|██████████| 10/10 [00:02<00:00,  4.75it/s, Loss=3.9122, Avg Loss=3.9224]\n"
     ]
    },
    {
     "name": "stdout",
     "output_type": "stream",
     "text": [
      "Epoch 29, Batch 8, Loss: 3.8758\n",
      "Epoch 29/100 - Train Loss: 3.922396, LR: 4.05e-06, Time: 2.11s\n"
     ]
    },
    {
     "name": "stderr",
     "output_type": "stream",
     "text": [
      "Training Epoch 30:  10%|█         | 1/10 [00:00<00:04,  2.08it/s, Loss=3.9807, Avg Loss=3.9807]"
     ]
    },
    {
     "name": "stdout",
     "output_type": "stream",
     "text": [
      "Epoch 30, Batch 0, Loss: 3.9807\n"
     ]
    },
    {
     "name": "stderr",
     "output_type": "stream",
     "text": [
      "Training Epoch 30:  50%|█████     | 5/10 [00:01<00:00,  5.61it/s, Loss=3.8435, Avg Loss=3.8928]"
     ]
    },
    {
     "name": "stdout",
     "output_type": "stream",
     "text": [
      "Epoch 30, Batch 2, Loss: 3.9320\n",
      "Epoch 30, Batch 4, Loss: 3.8435\n"
     ]
    },
    {
     "name": "stderr",
     "output_type": "stream",
     "text": [
      "Training Epoch 30:  90%|█████████ | 9/10 [00:01<00:00,  8.13it/s, Loss=3.8265, Avg Loss=3.9092]"
     ]
    },
    {
     "name": "stdout",
     "output_type": "stream",
     "text": [
      "Epoch 30, Batch 6, Loss: 3.9711\n",
      "Epoch 30, Batch 8, Loss: 3.8265\n"
     ]
    },
    {
     "name": "stderr",
     "output_type": "stream",
     "text": [
      "Training Epoch 30: 100%|██████████| 10/10 [00:01<00:00,  5.25it/s, Loss=3.9130, Avg Loss=3.9096]\n",
      "Evaluating Epoch 30: 100%|██████████| 3/3 [00:00<00:00,  4.15it/s, Val Loss=3.6134]\n"
     ]
    },
    {
     "name": "stdout",
     "output_type": "stream",
     "text": [
      "\n",
      "Epoch 30/100\n",
      "Train Loss: 3.909553\n",
      "Val Loss: 3.890784\n",
      "Val Similarity: 0.9096\n",
      "Top-1 Accuracy: 0.0121\n",
      "Top-5 Accuracy: 0.0485\n",
      "Top-10 Accuracy: 0.1152\n",
      "Learning Rate: 3.99e-06\n",
      "Epoch Time: 2.66s, Total Time: 62.03s\n",
      "------------------------------------------------------------\n",
      "Checkpoint saved: ./model/checkpoints/checkpoint_epoch_30.pth\n",
      "New best model saved: ./model/checkpoints/best_model.pth\n"
     ]
    },
    {
     "name": "stderr",
     "output_type": "stream",
     "text": [
      "Training Epoch 31:  20%|██        | 2/10 [00:00<00:03,  2.66it/s, Loss=3.8001, Avg Loss=3.8707]"
     ]
    },
    {
     "name": "stdout",
     "output_type": "stream",
     "text": [
      "Epoch 31, Batch 0, Loss: 3.9412\n"
     ]
    },
    {
     "name": "stderr",
     "output_type": "stream",
     "text": [
      "Training Epoch 31:  50%|█████     | 5/10 [00:01<00:00,  6.50it/s, Loss=3.8463, Avg Loss=3.8765]"
     ]
    },
    {
     "name": "stdout",
     "output_type": "stream",
     "text": [
      "Epoch 31, Batch 2, Loss: 3.8694\n",
      "Epoch 31, Batch 4, Loss: 3.8463\n"
     ]
    },
    {
     "name": "stderr",
     "output_type": "stream",
     "text": [
      "Training Epoch 31:  70%|███████   | 7/10 [00:01<00:00,  7.98it/s, Loss=3.9551, Avg Loss=3.9103]"
     ]
    },
    {
     "name": "stdout",
     "output_type": "stream",
     "text": [
      "Epoch 31, Batch 6, Loss: 3.9551\n"
     ]
    },
    {
     "name": "stderr",
     "output_type": "stream",
     "text": [
      "Training Epoch 31: 100%|██████████| 10/10 [00:02<00:00,  4.88it/s, Loss=3.8740, Avg Loss=3.8977]\n"
     ]
    },
    {
     "name": "stdout",
     "output_type": "stream",
     "text": [
      "Epoch 31, Batch 8, Loss: 3.8747\n",
      "Epoch 31/100 - Train Loss: 3.897735, LR: 3.93e-06, Time: 2.05s\n"
     ]
    },
    {
     "name": "stderr",
     "output_type": "stream",
     "text": [
      "Training Epoch 32:  10%|█         | 1/10 [00:00<00:06,  1.39it/s, Loss=3.9879, Avg Loss=3.9879]"
     ]
    },
    {
     "name": "stdout",
     "output_type": "stream",
     "text": [
      "Epoch 32, Batch 0, Loss: 3.9879\n"
     ]
    },
    {
     "name": "stderr",
     "output_type": "stream",
     "text": [
      "Training Epoch 32:  50%|█████     | 5/10 [00:01<00:00,  5.98it/s, Loss=3.8750, Avg Loss=3.8737]"
     ]
    },
    {
     "name": "stdout",
     "output_type": "stream",
     "text": [
      "Epoch 32, Batch 2, Loss: 3.8852\n",
      "Epoch 32, Batch 4, Loss: 3.8750\n"
     ]
    },
    {
     "name": "stderr",
     "output_type": "stream",
     "text": [
      "Training Epoch 32:  70%|███████   | 7/10 [00:01<00:00,  7.56it/s, Loss=3.9388, Avg Loss=3.8978]"
     ]
    },
    {
     "name": "stdout",
     "output_type": "stream",
     "text": [
      "Epoch 32, Batch 6, Loss: 3.9388\n"
     ]
    },
    {
     "name": "stderr",
     "output_type": "stream",
     "text": [
      "Training Epoch 32: 100%|██████████| 10/10 [00:02<00:00,  4.74it/s, Loss=3.8567, Avg Loss=3.8823]\n"
     ]
    },
    {
     "name": "stdout",
     "output_type": "stream",
     "text": [
      "Epoch 32, Batch 8, Loss: 3.7836\n",
      "Epoch 32/100 - Train Loss: 3.882284, LR: 3.86e-06, Time: 2.11s\n"
     ]
    },
    {
     "name": "stderr",
     "output_type": "stream",
     "text": [
      "Training Epoch 33:  20%|██        | 2/10 [00:00<00:03,  2.43it/s, Loss=3.7356, Avg Loss=3.8506]"
     ]
    },
    {
     "name": "stdout",
     "output_type": "stream",
     "text": [
      "Epoch 33, Batch 0, Loss: 3.9656\n"
     ]
    },
    {
     "name": "stderr",
     "output_type": "stream",
     "text": [
      "Training Epoch 33:  50%|█████     | 5/10 [00:01<00:00,  6.00it/s, Loss=3.8642, Avg Loss=3.8493]"
     ]
    },
    {
     "name": "stdout",
     "output_type": "stream",
     "text": [
      "Epoch 33, Batch 2, Loss: 3.8265\n",
      "Epoch 33, Batch 4, Loss: 3.8642\n"
     ]
    },
    {
     "name": "stderr",
     "output_type": "stream",
     "text": [
      "Training Epoch 33:  70%|███████   | 7/10 [00:01<00:00,  7.59it/s, Loss=3.9199, Avg Loss=3.8668]"
     ]
    },
    {
     "name": "stdout",
     "output_type": "stream",
     "text": [
      "Epoch 33, Batch 6, Loss: 3.9199\n"
     ]
    },
    {
     "name": "stderr",
     "output_type": "stream",
     "text": [
      "Training Epoch 33:  90%|█████████ | 9/10 [00:02<00:00,  5.20it/s, Loss=3.9155, Avg Loss=3.8687]"
     ]
    },
    {
     "name": "stdout",
     "output_type": "stream",
     "text": [
      "Epoch 33, Batch 8, Loss: 3.8152\n"
     ]
    },
    {
     "name": "stderr",
     "output_type": "stream",
     "text": [
      "Training Epoch 33: 100%|██████████| 10/10 [00:02<00:00,  4.70it/s, Loss=3.9155, Avg Loss=3.8687]\n"
     ]
    },
    {
     "name": "stdout",
     "output_type": "stream",
     "text": [
      "Epoch 33/100 - Train Loss: 3.868706, LR: 3.80e-06, Time: 2.13s\n"
     ]
    },
    {
     "name": "stderr",
     "output_type": "stream",
     "text": [
      "Training Epoch 34:  20%|██        | 2/10 [00:00<00:03,  2.44it/s, Loss=3.7240, Avg Loss=3.8196]"
     ]
    },
    {
     "name": "stdout",
     "output_type": "stream",
     "text": [
      "Epoch 34, Batch 0, Loss: 3.9151\n"
     ]
    },
    {
     "name": "stderr",
     "output_type": "stream",
     "text": [
      "Training Epoch 34:  50%|█████     | 5/10 [00:01<00:00,  6.12it/s, Loss=3.7744, Avg Loss=3.8311]"
     ]
    },
    {
     "name": "stdout",
     "output_type": "stream",
     "text": [
      "Epoch 34, Batch 2, Loss: 3.8406\n",
      "Epoch 34, Batch 4, Loss: 3.7744\n"
     ]
    },
    {
     "name": "stderr",
     "output_type": "stream",
     "text": [
      "Training Epoch 34:  70%|███████   | 7/10 [00:01<00:00,  7.57it/s, Loss=3.9332, Avg Loss=3.8691]"
     ]
    },
    {
     "name": "stdout",
     "output_type": "stream",
     "text": [
      "Epoch 34, Batch 6, Loss: 3.9332\n"
     ]
    },
    {
     "name": "stderr",
     "output_type": "stream",
     "text": [
      "Training Epoch 34:  90%|█████████ | 9/10 [00:02<00:00,  5.09it/s, Loss=3.8541, Avg Loss=3.8592]"
     ]
    },
    {
     "name": "stdout",
     "output_type": "stream",
     "text": [
      "Epoch 34, Batch 8, Loss: 3.7904\n"
     ]
    },
    {
     "name": "stderr",
     "output_type": "stream",
     "text": [
      "Training Epoch 34: 100%|██████████| 10/10 [00:02<00:00,  4.72it/s, Loss=3.8541, Avg Loss=3.8592]\n"
     ]
    },
    {
     "name": "stdout",
     "output_type": "stream",
     "text": [
      "Epoch 34/100 - Train Loss: 3.859214, LR: 3.73e-06, Time: 2.12s\n"
     ]
    },
    {
     "name": "stderr",
     "output_type": "stream",
     "text": [
      "Training Epoch 35:  10%|█         | 1/10 [00:00<00:04,  2.09it/s, Loss=3.9262, Avg Loss=3.9262]"
     ]
    },
    {
     "name": "stdout",
     "output_type": "stream",
     "text": [
      "Epoch 35, Batch 0, Loss: 3.9262\n"
     ]
    },
    {
     "name": "stderr",
     "output_type": "stream",
     "text": [
      "Training Epoch 35:  50%|█████     | 5/10 [00:01<00:00,  5.64it/s, Loss=3.8096, Avg Loss=3.8501]"
     ]
    },
    {
     "name": "stdout",
     "output_type": "stream",
     "text": [
      "Epoch 35, Batch 2, Loss: 3.8985\n",
      "Epoch 35, Batch 4, Loss: 3.8096\n"
     ]
    },
    {
     "name": "stderr",
     "output_type": "stream",
     "text": [
      "Training Epoch 35:  80%|████████  | 8/10 [00:01<00:00,  7.60it/s, Loss=3.8258, Avg Loss=3.8623]"
     ]
    },
    {
     "name": "stdout",
     "output_type": "stream",
     "text": [
      "Epoch 35, Batch 6, Loss: 3.9321\n",
      "Epoch 35, Batch 8, Loss: 3.8258\n"
     ]
    },
    {
     "name": "stderr",
     "output_type": "stream",
     "text": [
      "Training Epoch 35: 100%|██████████| 10/10 [00:01<00:00,  5.19it/s, Loss=3.9072, Avg Loss=3.8667]\n",
      "Evaluating Epoch 35: 100%|██████████| 3/3 [00:00<00:00,  4.21it/s, Val Loss=3.6260]\n"
     ]
    },
    {
     "name": "stdout",
     "output_type": "stream",
     "text": [
      "\n",
      "Epoch 35/100\n",
      "Train Loss: 3.866743\n",
      "Val Loss: 3.890868\n",
      "Val Similarity: 0.9975\n",
      "Top-1 Accuracy: 0.0121\n",
      "Top-5 Accuracy: 0.0545\n",
      "Top-10 Accuracy: 0.1212\n",
      "Learning Rate: 3.66e-06\n",
      "Epoch Time: 2.67s, Total Time: 73.63s\n",
      "------------------------------------------------------------\n",
      "Checkpoint saved: ./model/checkpoints/checkpoint_epoch_35.pth\n"
     ]
    },
    {
     "name": "stderr",
     "output_type": "stream",
     "text": [
      "Training Epoch 36:  10%|█         | 1/10 [00:00<00:04,  1.87it/s, Loss=3.7518, Avg Loss=3.8366]"
     ]
    },
    {
     "name": "stdout",
     "output_type": "stream",
     "text": [
      "Epoch 36, Batch 0, Loss: 3.9213\n"
     ]
    },
    {
     "name": "stderr",
     "output_type": "stream",
     "text": [
      "Training Epoch 36:  30%|███       | 3/10 [00:00<00:01,  3.75it/s, Loss=3.8448, Avg Loss=3.8393]"
     ]
    },
    {
     "name": "stdout",
     "output_type": "stream",
     "text": [
      "Epoch 36, Batch 2, Loss: 3.8448\n"
     ]
    },
    {
     "name": "stderr",
     "output_type": "stream",
     "text": [
      "Training Epoch 36:  70%|███████   | 7/10 [00:01<00:00,  6.37it/s, Loss=3.8735, Avg Loss=3.8634]"
     ]
    },
    {
     "name": "stdout",
     "output_type": "stream",
     "text": [
      "Epoch 36, Batch 4, Loss: 3.8738\n",
      "Epoch 36, Batch 6, Loss: 3.8735\n"
     ]
    },
    {
     "name": "stderr",
     "output_type": "stream",
     "text": [
      "Training Epoch 36: 100%|██████████| 10/10 [00:01<00:00,  5.59it/s, Loss=3.8149, Avg Loss=3.8483]\n"
     ]
    },
    {
     "name": "stdout",
     "output_type": "stream",
     "text": [
      "Epoch 36, Batch 8, Loss: 3.7575\n",
      "Epoch 36/100 - Train Loss: 3.848347, LR: 3.59e-06, Time: 1.79s\n"
     ]
    },
    {
     "name": "stderr",
     "output_type": "stream",
     "text": [
      "Training Epoch 37:  20%|██        | 2/10 [00:00<00:03,  2.66it/s, Loss=3.6611, Avg Loss=3.8084]"
     ]
    },
    {
     "name": "stdout",
     "output_type": "stream",
     "text": [
      "Epoch 37, Batch 0, Loss: 3.9557\n"
     ]
    },
    {
     "name": "stderr",
     "output_type": "stream",
     "text": [
      "Training Epoch 37:  50%|█████     | 5/10 [00:01<00:00,  6.48it/s, Loss=3.7887, Avg Loss=3.8211]"
     ]
    },
    {
     "name": "stdout",
     "output_type": "stream",
     "text": [
      "Epoch 37, Batch 2, Loss: 3.7883\n",
      "Epoch 37, Batch 4, Loss: 3.7887\n"
     ]
    },
    {
     "name": "stderr",
     "output_type": "stream",
     "text": [
      "Training Epoch 37:  70%|███████   | 7/10 [00:01<00:00,  7.93it/s, Loss=3.8572, Avg Loss=3.8476]"
     ]
    },
    {
     "name": "stdout",
     "output_type": "stream",
     "text": [
      "Epoch 37, Batch 6, Loss: 3.8572\n"
     ]
    },
    {
     "name": "stderr",
     "output_type": "stream",
     "text": [
      "Training Epoch 37: 100%|██████████| 10/10 [00:02<00:00,  4.94it/s, Loss=3.7915, Avg Loss=3.8288]\n"
     ]
    },
    {
     "name": "stdout",
     "output_type": "stream",
     "text": [
      "Epoch 37, Batch 8, Loss: 3.7677\n",
      "Epoch 37/100 - Train Loss: 3.828809, LR: 3.52e-06, Time: 2.03s\n"
     ]
    },
    {
     "name": "stderr",
     "output_type": "stream",
     "text": [
      "Training Epoch 38:  10%|█         | 1/10 [00:00<00:06,  1.49it/s, Loss=3.9813, Avg Loss=3.9813]"
     ]
    },
    {
     "name": "stdout",
     "output_type": "stream",
     "text": [
      "Epoch 38, Batch 0, Loss: 3.9813\n"
     ]
    },
    {
     "name": "stderr",
     "output_type": "stream",
     "text": [
      "Training Epoch 38:  50%|█████     | 5/10 [00:01<00:00,  5.96it/s, Loss=3.7982, Avg Loss=3.8239]"
     ]
    },
    {
     "name": "stdout",
     "output_type": "stream",
     "text": [
      "Epoch 38, Batch 2, Loss: 3.7844\n",
      "Epoch 38, Batch 4, Loss: 3.7982\n"
     ]
    },
    {
     "name": "stderr",
     "output_type": "stream",
     "text": [
      "Training Epoch 38:  70%|███████   | 7/10 [00:01<00:00,  7.43it/s, Loss=3.8549, Avg Loss=3.8506]"
     ]
    },
    {
     "name": "stdout",
     "output_type": "stream",
     "text": [
      "Epoch 38, Batch 6, Loss: 3.8820\n"
     ]
    },
    {
     "name": "stderr",
     "output_type": "stream",
     "text": [
      "Training Epoch 38:  90%|█████████ | 9/10 [00:01<00:00,  7.31it/s, Loss=3.7465, Avg Loss=3.8390]"
     ]
    },
    {
     "name": "stdout",
     "output_type": "stream",
     "text": [
      "Epoch 38, Batch 8, Loss: 3.7465\n"
     ]
    },
    {
     "name": "stderr",
     "output_type": "stream",
     "text": [
      "Training Epoch 38: 100%|██████████| 10/10 [00:02<00:00,  4.89it/s, Loss=3.8212, Avg Loss=3.8372]\n"
     ]
    },
    {
     "name": "stdout",
     "output_type": "stream",
     "text": [
      "Epoch 38/100 - Train Loss: 3.837217, LR: 3.45e-06, Time: 2.05s\n"
     ]
    },
    {
     "name": "stderr",
     "output_type": "stream",
     "text": [
      "Training Epoch 39:  10%|█         | 1/10 [00:00<00:04,  1.96it/s, Loss=3.6391, Avg Loss=3.8240]"
     ]
    },
    {
     "name": "stdout",
     "output_type": "stream",
     "text": [
      "Epoch 39, Batch 0, Loss: 4.0090\n"
     ]
    },
    {
     "name": "stderr",
     "output_type": "stream",
     "text": [
      "Training Epoch 39:  30%|███       | 3/10 [00:00<00:01,  4.65it/s, Loss=3.7777, Avg Loss=3.8086]"
     ]
    },
    {
     "name": "stdout",
     "output_type": "stream",
     "text": [
      "Epoch 39, Batch 2, Loss: 3.7777\n"
     ]
    },
    {
     "name": "stderr",
     "output_type": "stream",
     "text": [
      "Training Epoch 39:  70%|███████   | 7/10 [00:01<00:00,  6.26it/s, Loss=3.9470, Avg Loss=3.8419]"
     ]
    },
    {
     "name": "stdout",
     "output_type": "stream",
     "text": [
      "Epoch 39, Batch 4, Loss: 3.7645\n",
      "Epoch 39, Batch 6, Loss: 3.9470\n"
     ]
    },
    {
     "name": "stderr",
     "output_type": "stream",
     "text": [
      "Training Epoch 39: 100%|██████████| 10/10 [00:01<00:00,  5.64it/s, Loss=3.8575, Avg Loss=3.8326]\n"
     ]
    },
    {
     "name": "stdout",
     "output_type": "stream",
     "text": [
      "Epoch 39, Batch 8, Loss: 3.7515\n",
      "Epoch 39/100 - Train Loss: 3.832556, LR: 3.38e-06, Time: 1.78s\n"
     ]
    },
    {
     "name": "stderr",
     "output_type": "stream",
     "text": [
      "Training Epoch 40:  20%|██        | 2/10 [00:00<00:03,  2.65it/s, Loss=3.7114, Avg Loss=3.8010]"
     ]
    },
    {
     "name": "stdout",
     "output_type": "stream",
     "text": [
      "Epoch 40, Batch 0, Loss: 3.8906\n"
     ]
    },
    {
     "name": "stderr",
     "output_type": "stream",
     "text": [
      "Training Epoch 40:  50%|█████     | 5/10 [00:01<00:00,  6.44it/s, Loss=3.8051, Avg Loss=3.8334]"
     ]
    },
    {
     "name": "stdout",
     "output_type": "stream",
     "text": [
      "Epoch 40, Batch 2, Loss: 3.8758\n",
      "Epoch 40, Batch 4, Loss: 3.8051\n"
     ]
    },
    {
     "name": "stderr",
     "output_type": "stream",
     "text": [
      "Training Epoch 40:  70%|███████   | 7/10 [00:01<00:00,  7.91it/s, Loss=3.8398, Avg Loss=3.8487]"
     ]
    },
    {
     "name": "stdout",
     "output_type": "stream",
     "text": [
      "Epoch 40, Batch 6, Loss: 3.8398\n"
     ]
    },
    {
     "name": "stderr",
     "output_type": "stream",
     "text": [
      "Training Epoch 40: 100%|██████████| 10/10 [00:02<00:00,  4.93it/s, Loss=3.9253, Avg Loss=3.8385]\n"
     ]
    },
    {
     "name": "stdout",
     "output_type": "stream",
     "text": [
      "Epoch 40, Batch 8, Loss: 3.7363\n"
     ]
    },
    {
     "name": "stderr",
     "output_type": "stream",
     "text": [
      "Evaluating Epoch 40: 100%|██████████| 3/3 [00:00<00:00,  3.01it/s, Val Loss=3.6373]\n"
     ]
    },
    {
     "name": "stdout",
     "output_type": "stream",
     "text": [
      "\n",
      "Epoch 40/100\n",
      "Train Loss: 3.838465\n",
      "Val Loss: 3.888953\n",
      "Val Similarity: 1.1418\n",
      "Top-1 Accuracy: 0.0061\n",
      "Top-5 Accuracy: 0.0424\n",
      "Top-10 Accuracy: 0.0970\n",
      "Learning Rate: 3.31e-06\n",
      "Epoch Time: 3.04s, Total Time: 84.69s\n",
      "------------------------------------------------------------\n",
      "Checkpoint saved: ./model/checkpoints/checkpoint_epoch_40.pth\n",
      "New best model saved: ./model/checkpoints/best_model.pth\n"
     ]
    },
    {
     "name": "stderr",
     "output_type": "stream",
     "text": [
      "Training Epoch 41:  10%|█         | 1/10 [00:00<00:06,  1.48it/s, Loss=3.9389, Avg Loss=3.9389]"
     ]
    },
    {
     "name": "stdout",
     "output_type": "stream",
     "text": [
      "Epoch 41, Batch 0, Loss: 3.9389\n"
     ]
    },
    {
     "name": "stderr",
     "output_type": "stream",
     "text": [
      "Training Epoch 41:  50%|█████     | 5/10 [00:01<00:00,  6.27it/s, Loss=3.7401, Avg Loss=3.8198]"
     ]
    },
    {
     "name": "stdout",
     "output_type": "stream",
     "text": [
      "Epoch 41, Batch 2, Loss: 3.7918\n",
      "Epoch 41, Batch 4, Loss: 3.7401\n"
     ]
    },
    {
     "name": "stderr",
     "output_type": "stream",
     "text": [
      "Training Epoch 41:  70%|███████   | 7/10 [00:01<00:00,  7.69it/s, Loss=3.8493, Avg Loss=3.8337]"
     ]
    },
    {
     "name": "stdout",
     "output_type": "stream",
     "text": [
      "Epoch 41, Batch 6, Loss: 3.8665\n"
     ]
    },
    {
     "name": "stderr",
     "output_type": "stream",
     "text": [
      "Training Epoch 41: 100%|██████████| 10/10 [00:01<00:00,  5.77it/s, Loss=3.8271, Avg Loss=3.8268]"
     ]
    },
    {
     "name": "stdout",
     "output_type": "stream",
     "text": [
      "Epoch 41, Batch 8, Loss: 3.7707\n"
     ]
    },
    {
     "name": "stderr",
     "output_type": "stream",
     "text": [
      "Training Epoch 41: 100%|██████████| 10/10 [00:02<00:00,  4.88it/s, Loss=3.8271, Avg Loss=3.8268]\n"
     ]
    },
    {
     "name": "stdout",
     "output_type": "stream",
     "text": [
      "Epoch 41/100 - Train Loss: 3.826774, LR: 3.23e-06, Time: 2.05s\n"
     ]
    },
    {
     "name": "stderr",
     "output_type": "stream",
     "text": [
      "Training Epoch 42:  30%|███       | 3/10 [00:00<00:01,  5.31it/s, Loss=3.8058, Avg Loss=3.7988]"
     ]
    },
    {
     "name": "stdout",
     "output_type": "stream",
     "text": [
      "Epoch 42, Batch 0, Loss: 3.9468\n",
      "Epoch 42, Batch 2, Loss: 3.8058\n"
     ]
    },
    {
     "name": "stderr",
     "output_type": "stream",
     "text": [
      "Training Epoch 42:  60%|██████    | 6/10 [00:01<00:00,  5.44it/s, Loss=3.9426, Avg Loss=3.8141]"
     ]
    },
    {
     "name": "stdout",
     "output_type": "stream",
     "text": [
      "Epoch 42, Batch 4, Loss: 3.7193\n"
     ]
    },
    {
     "name": "stderr",
     "output_type": "stream",
     "text": [
      "Training Epoch 42:  90%|█████████ | 9/10 [00:01<00:00,  7.59it/s, Loss=3.8336, Avg Loss=3.8234]"
     ]
    },
    {
     "name": "stdout",
     "output_type": "stream",
     "text": [
      "Epoch 42, Batch 6, Loss: 3.8780\n",
      "Epoch 42, Batch 8, Loss: 3.8336\n"
     ]
    },
    {
     "name": "stderr",
     "output_type": "stream",
     "text": [
      "Training Epoch 42: 100%|██████████| 10/10 [00:01<00:00,  5.81it/s, Loss=3.8298, Avg Loss=3.8240]\n"
     ]
    },
    {
     "name": "stdout",
     "output_type": "stream",
     "text": [
      "Epoch 42/100 - Train Loss: 3.824024, LR: 3.16e-06, Time: 1.72s\n"
     ]
    },
    {
     "name": "stderr",
     "output_type": "stream",
     "text": [
      "Training Epoch 43:  10%|█         | 1/10 [00:00<00:03,  2.29it/s, Loss=3.9185, Avg Loss=3.9185]"
     ]
    },
    {
     "name": "stdout",
     "output_type": "stream",
     "text": [
      "Epoch 43, Batch 0, Loss: 3.9185\n"
     ]
    },
    {
     "name": "stderr",
     "output_type": "stream",
     "text": [
      "Training Epoch 43:  50%|█████     | 5/10 [00:01<00:00,  5.61it/s, Loss=3.7120, Avg Loss=3.8021]"
     ]
    },
    {
     "name": "stdout",
     "output_type": "stream",
     "text": [
      "Epoch 43, Batch 2, Loss: 3.7745\n",
      "Epoch 43, Batch 4, Loss: 3.7120\n"
     ]
    },
    {
     "name": "stderr",
     "output_type": "stream",
     "text": [
      "Training Epoch 43:  70%|███████   | 7/10 [00:01<00:00,  7.07it/s, Loss=3.7854, Avg Loss=3.8116]"
     ]
    },
    {
     "name": "stdout",
     "output_type": "stream",
     "text": [
      "Epoch 43, Batch 6, Loss: 3.8113\n"
     ]
    },
    {
     "name": "stderr",
     "output_type": "stream",
     "text": [
      "Training Epoch 43:  90%|█████████ | 9/10 [00:01<00:00,  6.10it/s, Loss=3.7022, Avg Loss=3.7994]"
     ]
    },
    {
     "name": "stdout",
     "output_type": "stream",
     "text": [
      "Epoch 43, Batch 8, Loss: 3.7022\n"
     ]
    },
    {
     "name": "stderr",
     "output_type": "stream",
     "text": [
      "Training Epoch 43: 100%|██████████| 10/10 [00:02<00:00,  4.84it/s, Loss=3.7966, Avg Loss=3.7991]\n"
     ]
    },
    {
     "name": "stdout",
     "output_type": "stream",
     "text": [
      "Epoch 43/100 - Train Loss: 3.799113, LR: 3.08e-06, Time: 2.07s\n"
     ]
    },
    {
     "name": "stderr",
     "output_type": "stream",
     "text": [
      "Training Epoch 44:  10%|█         | 1/10 [00:00<00:06,  1.36it/s, Loss=3.6473, Avg Loss=3.7606]"
     ]
    },
    {
     "name": "stdout",
     "output_type": "stream",
     "text": [
      "Epoch 44, Batch 0, Loss: 3.8739\n"
     ]
    },
    {
     "name": "stderr",
     "output_type": "stream",
     "text": [
      "Training Epoch 44:  50%|█████     | 5/10 [00:01<00:00,  6.01it/s, Loss=3.7269, Avg Loss=3.7682]"
     ]
    },
    {
     "name": "stdout",
     "output_type": "stream",
     "text": [
      "Epoch 44, Batch 2, Loss: 3.7611\n",
      "Epoch 44, Batch 4, Loss: 3.7269\n"
     ]
    },
    {
     "name": "stderr",
     "output_type": "stream",
     "text": [
      "Training Epoch 44:  70%|███████   | 7/10 [00:01<00:00,  7.48it/s, Loss=3.8509, Avg Loss=3.7980]"
     ]
    },
    {
     "name": "stdout",
     "output_type": "stream",
     "text": [
      "Epoch 44, Batch 6, Loss: 3.8509\n"
     ]
    },
    {
     "name": "stderr",
     "output_type": "stream",
     "text": [
      "Training Epoch 44: 100%|██████████| 10/10 [00:02<00:00,  4.69it/s, Loss=3.7906, Avg Loss=3.7924]\n"
     ]
    },
    {
     "name": "stdout",
     "output_type": "stream",
     "text": [
      "Epoch 44, Batch 8, Loss: 3.7014\n",
      "Epoch 44/100 - Train Loss: 3.792364, LR: 3.01e-06, Time: 2.14s\n"
     ]
    },
    {
     "name": "stderr",
     "output_type": "stream",
     "text": [
      "Training Epoch 45:  10%|█         | 1/10 [00:00<00:05,  1.52it/s, Loss=3.8749, Avg Loss=3.8749]"
     ]
    },
    {
     "name": "stdout",
     "output_type": "stream",
     "text": [
      "Epoch 45, Batch 0, Loss: 3.8749\n"
     ]
    },
    {
     "name": "stderr",
     "output_type": "stream",
     "text": [
      "Training Epoch 45:  50%|█████     | 5/10 [00:01<00:00,  5.79it/s, Loss=3.7163, Avg Loss=3.7719]"
     ]
    },
    {
     "name": "stdout",
     "output_type": "stream",
     "text": [
      "Epoch 45, Batch 2, Loss: 3.7608\n",
      "Epoch 45, Batch 4, Loss: 3.7163\n"
     ]
    },
    {
     "name": "stderr",
     "output_type": "stream",
     "text": [
      "Training Epoch 45:  70%|███████   | 7/10 [00:01<00:00,  7.37it/s, Loss=3.8062, Avg Loss=3.7955]"
     ]
    },
    {
     "name": "stdout",
     "output_type": "stream",
     "text": [
      "Epoch 45, Batch 6, Loss: 3.8062\n"
     ]
    },
    {
     "name": "stderr",
     "output_type": "stream",
     "text": [
      "Training Epoch 45: 100%|██████████| 10/10 [00:02<00:00,  4.71it/s, Loss=3.8200, Avg Loss=3.7908]\n"
     ]
    },
    {
     "name": "stdout",
     "output_type": "stream",
     "text": [
      "Epoch 45, Batch 8, Loss: 3.7718\n"
     ]
    },
    {
     "name": "stderr",
     "output_type": "stream",
     "text": [
      "Evaluating Epoch 45: 100%|██████████| 3/3 [00:00<00:00,  3.50it/s, Val Loss=3.6315]\n"
     ]
    },
    {
     "name": "stdout",
     "output_type": "stream",
     "text": [
      "\n",
      "Epoch 45/100\n",
      "Train Loss: 3.790791\n",
      "Val Loss: 3.883896\n",
      "Val Similarity: 1.2297\n",
      "Top-1 Accuracy: 0.0061\n",
      "Top-5 Accuracy: 0.0424\n",
      "Top-10 Accuracy: 0.1152\n",
      "Learning Rate: 2.93e-06\n",
      "Epoch Time: 3.00s, Total Time: 96.24s\n",
      "------------------------------------------------------------\n",
      "Checkpoint saved: ./model/checkpoints/checkpoint_epoch_45.pth\n",
      "New best model saved: ./model/checkpoints/best_model.pth\n"
     ]
    },
    {
     "name": "stderr",
     "output_type": "stream",
     "text": [
      "Training Epoch 46:  10%|█         | 1/10 [00:00<00:05,  1.55it/s, Loss=3.8164, Avg Loss=3.8164]"
     ]
    },
    {
     "name": "stdout",
     "output_type": "stream",
     "text": [
      "Epoch 46, Batch 0, Loss: 3.8164\n"
     ]
    },
    {
     "name": "stderr",
     "output_type": "stream",
     "text": [
      "Training Epoch 46:  50%|█████     | 5/10 [00:01<00:00,  6.06it/s, Loss=3.7403, Avg Loss=3.7540]"
     ]
    },
    {
     "name": "stdout",
     "output_type": "stream",
     "text": [
      "Epoch 46, Batch 2, Loss: 3.7537\n",
      "Epoch 46, Batch 4, Loss: 3.7403\n"
     ]
    },
    {
     "name": "stderr",
     "output_type": "stream",
     "text": [
      "Training Epoch 46:  70%|███████   | 7/10 [00:01<00:00,  7.48it/s, Loss=3.7912, Avg Loss=3.7746]"
     ]
    },
    {
     "name": "stdout",
     "output_type": "stream",
     "text": [
      "Epoch 46, Batch 6, Loss: 3.7912\n"
     ]
    },
    {
     "name": "stderr",
     "output_type": "stream",
     "text": [
      "Training Epoch 46: 100%|██████████| 10/10 [00:02<00:00,  4.79it/s, Loss=3.8239, Avg Loss=3.7792]\n"
     ]
    },
    {
     "name": "stdout",
     "output_type": "stream",
     "text": [
      "Epoch 46, Batch 8, Loss: 3.7536\n",
      "Epoch 46/100 - Train Loss: 3.779195, LR: 2.86e-06, Time: 2.09s\n"
     ]
    },
    {
     "name": "stderr",
     "output_type": "stream",
     "text": [
      "Training Epoch 47:  30%|███       | 3/10 [00:00<00:01,  5.43it/s, Loss=3.7064, Avg Loss=3.7731]"
     ]
    },
    {
     "name": "stdout",
     "output_type": "stream",
     "text": [
      "Epoch 47, Batch 0, Loss: 3.9644\n",
      "Epoch 47, Batch 2, Loss: 3.7064\n"
     ]
    },
    {
     "name": "stderr",
     "output_type": "stream",
     "text": [
      "Training Epoch 47:  70%|███████   | 7/10 [00:01<00:00,  6.17it/s, Loss=3.8231, Avg Loss=3.7869]"
     ]
    },
    {
     "name": "stdout",
     "output_type": "stream",
     "text": [
      "Epoch 47, Batch 4, Loss: 3.7434\n",
      "Epoch 47, Batch 6, Loss: 3.8231\n"
     ]
    },
    {
     "name": "stderr",
     "output_type": "stream",
     "text": [
      "Training Epoch 47: 100%|██████████| 10/10 [00:01<00:00,  5.83it/s, Loss=3.8669, Avg Loss=3.7895]\n"
     ]
    },
    {
     "name": "stdout",
     "output_type": "stream",
     "text": [
      "Epoch 47, Batch 8, Loss: 3.7734\n",
      "Epoch 47/100 - Train Loss: 3.789518, LR: 2.78e-06, Time: 1.72s\n"
     ]
    },
    {
     "name": "stderr",
     "output_type": "stream",
     "text": [
      "Training Epoch 48:  10%|█         | 1/10 [00:00<00:05,  1.58it/s, Loss=3.9789, Avg Loss=3.9789]"
     ]
    },
    {
     "name": "stdout",
     "output_type": "stream",
     "text": [
      "Epoch 48, Batch 0, Loss: 3.9789\n"
     ]
    },
    {
     "name": "stderr",
     "output_type": "stream",
     "text": [
      "Training Epoch 48:  50%|█████     | 5/10 [00:01<00:00,  6.29it/s, Loss=3.7298, Avg Loss=3.7802]"
     ]
    },
    {
     "name": "stdout",
     "output_type": "stream",
     "text": [
      "Epoch 48, Batch 2, Loss: 3.7906\n",
      "Epoch 48, Batch 4, Loss: 3.7298\n"
     ]
    },
    {
     "name": "stderr",
     "output_type": "stream",
     "text": [
      "Training Epoch 48:  70%|███████   | 7/10 [00:01<00:00,  7.69it/s, Loss=3.7839, Avg Loss=3.7880]"
     ]
    },
    {
     "name": "stdout",
     "output_type": "stream",
     "text": [
      "Epoch 48, Batch 6, Loss: 3.7512\n"
     ]
    },
    {
     "name": "stderr",
     "output_type": "stream",
     "text": [
      "Training Epoch 48:  90%|█████████ | 9/10 [00:01<00:00,  6.44it/s, Loss=3.7583, Avg Loss=3.7847]"
     ]
    },
    {
     "name": "stdout",
     "output_type": "stream",
     "text": [
      "Epoch 48, Batch 8, Loss: 3.7583\n"
     ]
    },
    {
     "name": "stderr",
     "output_type": "stream",
     "text": [
      "Training Epoch 48: 100%|██████████| 10/10 [00:02<00:00,  4.96it/s, Loss=3.8415, Avg Loss=3.7904]\n"
     ]
    },
    {
     "name": "stdout",
     "output_type": "stream",
     "text": [
      "Epoch 48/100 - Train Loss: 3.790391, LR: 2.70e-06, Time: 2.02s\n"
     ]
    },
    {
     "name": "stderr",
     "output_type": "stream",
     "text": [
      "Training Epoch 49:  30%|███       | 3/10 [00:00<00:01,  5.31it/s, Loss=3.7399, Avg Loss=3.7615]"
     ]
    },
    {
     "name": "stdout",
     "output_type": "stream",
     "text": [
      "Epoch 49, Batch 0, Loss: 3.9061\n",
      "Epoch 49, Batch 2, Loss: 3.7399\n"
     ]
    },
    {
     "name": "stderr",
     "output_type": "stream",
     "text": [
      "Training Epoch 49:  50%|█████     | 5/10 [00:00<00:00,  5.65it/s, Loss=3.7374, Avg Loss=3.7617]"
     ]
    },
    {
     "name": "stdout",
     "output_type": "stream",
     "text": [
      "Epoch 49, Batch 4, Loss: 3.7374\n"
     ]
    },
    {
     "name": "stderr",
     "output_type": "stream",
     "text": [
      "Training Epoch 49:  90%|█████████ | 9/10 [00:01<00:00,  7.20it/s, Loss=3.7207, Avg Loss=3.7748]"
     ]
    },
    {
     "name": "stdout",
     "output_type": "stream",
     "text": [
      "Epoch 49, Batch 6, Loss: 3.8435\n",
      "Epoch 49, Batch 8, Loss: 3.7207\n"
     ]
    },
    {
     "name": "stderr",
     "output_type": "stream",
     "text": [
      "Training Epoch 49: 100%|██████████| 10/10 [00:01<00:00,  5.79it/s, Loss=3.7675, Avg Loss=3.7741]\n"
     ]
    },
    {
     "name": "stdout",
     "output_type": "stream",
     "text": [
      "Epoch 49/100 - Train Loss: 3.774113, LR: 2.63e-06, Time: 1.73s\n"
     ]
    },
    {
     "name": "stderr",
     "output_type": "stream",
     "text": [
      "Training Epoch 50:  20%|██        | 2/10 [00:00<00:03,  2.67it/s, Loss=3.6848, Avg Loss=3.7941]"
     ]
    },
    {
     "name": "stdout",
     "output_type": "stream",
     "text": [
      "Epoch 50, Batch 0, Loss: 3.9034\n"
     ]
    },
    {
     "name": "stderr",
     "output_type": "stream",
     "text": [
      "Training Epoch 50:  50%|█████     | 5/10 [00:01<00:00,  6.45it/s, Loss=3.7037, Avg Loss=3.7620]"
     ]
    },
    {
     "name": "stdout",
     "output_type": "stream",
     "text": [
      "Epoch 50, Batch 2, Loss: 3.6940\n",
      "Epoch 50, Batch 4, Loss: 3.7037\n"
     ]
    },
    {
     "name": "stderr",
     "output_type": "stream",
     "text": [
      "Training Epoch 50:  70%|███████   | 7/10 [00:01<00:00,  7.89it/s, Loss=3.8323, Avg Loss=3.7883]"
     ]
    },
    {
     "name": "stdout",
     "output_type": "stream",
     "text": [
      "Epoch 50, Batch 6, Loss: 3.8323\n"
     ]
    },
    {
     "name": "stderr",
     "output_type": "stream",
     "text": [
      "Training Epoch 50: 100%|██████████| 10/10 [00:02<00:00,  4.90it/s, Loss=3.7415, Avg Loss=3.7696]\n"
     ]
    },
    {
     "name": "stdout",
     "output_type": "stream",
     "text": [
      "Epoch 50, Batch 8, Loss: 3.7383\n"
     ]
    },
    {
     "name": "stderr",
     "output_type": "stream",
     "text": [
      "Evaluating Epoch 50: 100%|██████████| 3/3 [00:00<00:00,  3.43it/s, Val Loss=3.6340]\n"
     ]
    },
    {
     "name": "stdout",
     "output_type": "stream",
     "text": [
      "\n",
      "Epoch 50/100\n",
      "Train Loss: 3.769631\n",
      "Val Loss: 3.880932\n",
      "Val Similarity: 1.2470\n",
      "Top-1 Accuracy: 0.0061\n",
      "Top-5 Accuracy: 0.0424\n",
      "Top-10 Accuracy: 0.1091\n",
      "Learning Rate: 2.55e-06\n",
      "Epoch Time: 2.94s, Total Time: 107.45s\n",
      "------------------------------------------------------------\n",
      "Checkpoint saved: ./model/checkpoints/checkpoint_epoch_50.pth\n",
      "New best model saved: ./model/checkpoints/best_model.pth\n"
     ]
    },
    {
     "name": "stderr",
     "output_type": "stream",
     "text": [
      "Training Epoch 51:  20%|██        | 2/10 [00:00<00:03,  2.48it/s, Loss=3.6547, Avg Loss=3.7702]"
     ]
    },
    {
     "name": "stdout",
     "output_type": "stream",
     "text": [
      "Epoch 51, Batch 0, Loss: 3.8857\n"
     ]
    },
    {
     "name": "stderr",
     "output_type": "stream",
     "text": [
      "Training Epoch 51:  40%|████      | 4/10 [00:01<00:01,  4.91it/s, Loss=3.7483, Avg Loss=3.7656]"
     ]
    },
    {
     "name": "stdout",
     "output_type": "stream",
     "text": [
      "Epoch 51, Batch 2, Loss: 3.7794\n",
      "Epoch 51, Batch 4, Loss: 3.7483\n"
     ]
    },
    {
     "name": "stderr",
     "output_type": "stream",
     "text": [
      "Training Epoch 51:  70%|███████   | 7/10 [00:01<00:00,  7.22it/s, Loss=3.7395, Avg Loss=3.7771]"
     ]
    },
    {
     "name": "stdout",
     "output_type": "stream",
     "text": [
      "Epoch 51, Batch 6, Loss: 3.7395\n"
     ]
    },
    {
     "name": "stderr",
     "output_type": "stream",
     "text": [
      "Training Epoch 51: 100%|██████████| 10/10 [00:02<00:00,  4.78it/s, Loss=3.7577, Avg Loss=3.7672]\n"
     ]
    },
    {
     "name": "stdout",
     "output_type": "stream",
     "text": [
      "Epoch 51, Batch 8, Loss: 3.7236\n",
      "Epoch 51/100 - Train Loss: 3.767237, LR: 2.47e-06, Time: 2.09s\n"
     ]
    },
    {
     "name": "stderr",
     "output_type": "stream",
     "text": [
      "Training Epoch 52:  10%|█         | 1/10 [00:00<00:04,  2.13it/s, Loss=3.6126, Avg Loss=3.7900]"
     ]
    },
    {
     "name": "stdout",
     "output_type": "stream",
     "text": [
      "Epoch 52, Batch 0, Loss: 3.9674\n"
     ]
    },
    {
     "name": "stderr",
     "output_type": "stream",
     "text": [
      "Training Epoch 52:  30%|███       | 3/10 [00:00<00:01,  4.06it/s, Loss=3.6729, Avg Loss=3.7509]"
     ]
    },
    {
     "name": "stdout",
     "output_type": "stream",
     "text": [
      "Epoch 52, Batch 2, Loss: 3.6729\n"
     ]
    },
    {
     "name": "stderr",
     "output_type": "stream",
     "text": [
      "Training Epoch 52:  70%|███████   | 7/10 [00:01<00:00,  6.58it/s, Loss=3.8086, Avg Loss=3.7799]"
     ]
    },
    {
     "name": "stdout",
     "output_type": "stream",
     "text": [
      "Epoch 52, Batch 4, Loss: 3.7071\n",
      "Epoch 52, Batch 6, Loss: 3.8086\n"
     ]
    },
    {
     "name": "stderr",
     "output_type": "stream",
     "text": [
      "Training Epoch 52: 100%|██████████| 10/10 [00:01<00:00,  5.85it/s, Loss=3.8497, Avg Loss=3.7801]\n"
     ]
    },
    {
     "name": "stdout",
     "output_type": "stream",
     "text": [
      "Epoch 52, Batch 8, Loss: 3.7215\n",
      "Epoch 52/100 - Train Loss: 3.780069, LR: 2.40e-06, Time: 1.71s\n"
     ]
    },
    {
     "name": "stderr",
     "output_type": "stream",
     "text": [
      "Training Epoch 53:  20%|██        | 2/10 [00:00<00:03,  2.60it/s, Loss=3.6595, Avg Loss=3.7760]"
     ]
    },
    {
     "name": "stdout",
     "output_type": "stream",
     "text": [
      "Epoch 53, Batch 0, Loss: 3.8926\n"
     ]
    },
    {
     "name": "stderr",
     "output_type": "stream",
     "text": [
      "Training Epoch 53:  50%|█████     | 5/10 [00:01<00:00,  6.40it/s, Loss=3.6917, Avg Loss=3.7483]"
     ]
    },
    {
     "name": "stdout",
     "output_type": "stream",
     "text": [
      "Epoch 53, Batch 2, Loss: 3.7299\n",
      "Epoch 53, Batch 4, Loss: 3.6917\n"
     ]
    },
    {
     "name": "stderr",
     "output_type": "stream",
     "text": [
      "Training Epoch 53:  70%|███████   | 7/10 [00:01<00:00,  7.82it/s, Loss=3.7821, Avg Loss=3.7681]"
     ]
    },
    {
     "name": "stdout",
     "output_type": "stream",
     "text": [
      "Epoch 53, Batch 6, Loss: 3.7821\n"
     ]
    },
    {
     "name": "stderr",
     "output_type": "stream",
     "text": [
      "Training Epoch 53: 100%|██████████| 10/10 [00:02<00:00,  4.92it/s, Loss=3.7869, Avg Loss=3.7658]\n"
     ]
    },
    {
     "name": "stdout",
     "output_type": "stream",
     "text": [
      "Epoch 53, Batch 8, Loss: 3.7166\n",
      "Epoch 53/100 - Train Loss: 3.765792, LR: 2.32e-06, Time: 2.03s\n"
     ]
    },
    {
     "name": "stderr",
     "output_type": "stream",
     "text": [
      "Training Epoch 54:  10%|█         | 1/10 [00:00<00:04,  2.17it/s, Loss=3.5711, Avg Loss=3.7194]"
     ]
    },
    {
     "name": "stdout",
     "output_type": "stream",
     "text": [
      "Epoch 54, Batch 0, Loss: 3.8678\n"
     ]
    },
    {
     "name": "stderr",
     "output_type": "stream",
     "text": [
      "Training Epoch 54:  30%|███       | 3/10 [00:00<00:01,  4.03it/s, Loss=3.7705, Avg Loss=3.7364]"
     ]
    },
    {
     "name": "stdout",
     "output_type": "stream",
     "text": [
      "Epoch 54, Batch 2, Loss: 3.7705\n"
     ]
    },
    {
     "name": "stderr",
     "output_type": "stream",
     "text": [
      "Training Epoch 54:  70%|███████   | 7/10 [00:01<00:00,  6.52it/s, Loss=3.8385, Avg Loss=3.7675]"
     ]
    },
    {
     "name": "stdout",
     "output_type": "stream",
     "text": [
      "Epoch 54, Batch 4, Loss: 3.7077\n",
      "Epoch 54, Batch 6, Loss: 3.8385\n"
     ]
    },
    {
     "name": "stderr",
     "output_type": "stream",
     "text": [
      "Training Epoch 54: 100%|██████████| 10/10 [00:01<00:00,  5.82it/s, Loss=3.7575, Avg Loss=3.7641]\n"
     ]
    },
    {
     "name": "stdout",
     "output_type": "stream",
     "text": [
      "Epoch 54, Batch 8, Loss: 3.7475\n",
      "Epoch 54/100 - Train Loss: 3.764114, LR: 2.24e-06, Time: 1.72s\n"
     ]
    },
    {
     "name": "stderr",
     "output_type": "stream",
     "text": [
      "Training Epoch 55:  10%|█         | 1/10 [00:00<00:05,  1.69it/s, Loss=3.8316, Avg Loss=3.8316]"
     ]
    },
    {
     "name": "stdout",
     "output_type": "stream",
     "text": [
      "Epoch 55, Batch 0, Loss: 3.8316\n"
     ]
    },
    {
     "name": "stderr",
     "output_type": "stream",
     "text": [
      "Training Epoch 55:  50%|█████     | 5/10 [00:01<00:00,  6.20it/s, Loss=3.7208, Avg Loss=3.7242]"
     ]
    },
    {
     "name": "stdout",
     "output_type": "stream",
     "text": [
      "Epoch 55, Batch 2, Loss: 3.7013\n",
      "Epoch 55, Batch 4, Loss: 3.7208\n"
     ]
    },
    {
     "name": "stderr",
     "output_type": "stream",
     "text": [
      "Training Epoch 55:  70%|███████   | 7/10 [00:01<00:00,  7.57it/s, Loss=3.7456, Avg Loss=3.7450]"
     ]
    },
    {
     "name": "stdout",
     "output_type": "stream",
     "text": [
      "Epoch 55, Batch 6, Loss: 3.7456\n"
     ]
    },
    {
     "name": "stderr",
     "output_type": "stream",
     "text": [
      "Training Epoch 55: 100%|██████████| 10/10 [00:02<00:00,  4.92it/s, Loss=3.7312, Avg Loss=3.7483]\n"
     ]
    },
    {
     "name": "stdout",
     "output_type": "stream",
     "text": [
      "Epoch 55, Batch 8, Loss: 3.7200\n"
     ]
    },
    {
     "name": "stderr",
     "output_type": "stream",
     "text": [
      "Evaluating Epoch 55: 100%|██████████| 3/3 [00:00<00:00,  5.31it/s, Val Loss=3.6410]\n"
     ]
    },
    {
     "name": "stdout",
     "output_type": "stream",
     "text": [
      "\n",
      "Epoch 55/100\n",
      "Train Loss: 3.748285\n",
      "Val Loss: 3.887082\n",
      "Val Similarity: 1.2896\n",
      "Top-1 Accuracy: 0.0061\n",
      "Top-5 Accuracy: 0.0364\n",
      "Top-10 Accuracy: 0.1030\n",
      "Learning Rate: 2.17e-06\n",
      "Epoch Time: 2.61s, Total Time: 118.30s\n",
      "------------------------------------------------------------\n",
      "Checkpoint saved: ./model/checkpoints/checkpoint_epoch_55.pth\n"
     ]
    },
    {
     "name": "stderr",
     "output_type": "stream",
     "text": [
      "Training Epoch 56:  30%|███       | 3/10 [00:00<00:01,  5.11it/s, Loss=3.7775, Avg Loss=3.7568]"
     ]
    },
    {
     "name": "stdout",
     "output_type": "stream",
     "text": [
      "Epoch 56, Batch 0, Loss: 3.8671\n",
      "Epoch 56, Batch 2, Loss: 3.7775\n"
     ]
    },
    {
     "name": "stderr",
     "output_type": "stream",
     "text": [
      "Training Epoch 56:  50%|█████     | 5/10 [00:00<00:00,  7.37it/s, Loss=3.8785, Avg Loss=3.7699]"
     ]
    },
    {
     "name": "stdout",
     "output_type": "stream",
     "text": [
      "Epoch 56, Batch 4, Loss: 3.6716\n"
     ]
    },
    {
     "name": "stderr",
     "output_type": "stream",
     "text": [
      "Training Epoch 56:  70%|███████   | 7/10 [00:01<00:00,  6.57it/s, Loss=3.8180, Avg Loss=3.7768]"
     ]
    },
    {
     "name": "stdout",
     "output_type": "stream",
     "text": [
      "Epoch 56, Batch 6, Loss: 3.8180\n"
     ]
    },
    {
     "name": "stderr",
     "output_type": "stream",
     "text": [
      "Training Epoch 56: 100%|██████████| 10/10 [00:01<00:00,  5.73it/s, Loss=3.7720, Avg Loss=3.7671]\n"
     ]
    },
    {
     "name": "stdout",
     "output_type": "stream",
     "text": [
      "Epoch 56, Batch 8, Loss: 3.7307\n",
      "Epoch 56/100 - Train Loss: 3.767092, LR: 2.09e-06, Time: 1.75s\n"
     ]
    },
    {
     "name": "stderr",
     "output_type": "stream",
     "text": [
      "Training Epoch 57:  10%|█         | 1/10 [00:00<00:04,  2.11it/s, Loss=3.9067, Avg Loss=3.9067]"
     ]
    },
    {
     "name": "stdout",
     "output_type": "stream",
     "text": [
      "Epoch 57, Batch 0, Loss: 3.9067\n"
     ]
    },
    {
     "name": "stderr",
     "output_type": "stream",
     "text": [
      "Training Epoch 57:  50%|█████     | 5/10 [00:01<00:00,  5.64it/s, Loss=3.6571, Avg Loss=3.7313]"
     ]
    },
    {
     "name": "stdout",
     "output_type": "stream",
     "text": [
      "Epoch 57, Batch 2, Loss: 3.7456\n",
      "Epoch 57, Batch 4, Loss: 3.6571\n"
     ]
    },
    {
     "name": "stderr",
     "output_type": "stream",
     "text": [
      "Training Epoch 57:  90%|█████████ | 9/10 [00:01<00:00,  8.06it/s, Loss=3.7313, Avg Loss=3.7482]"
     ]
    },
    {
     "name": "stdout",
     "output_type": "stream",
     "text": [
      "Epoch 57, Batch 6, Loss: 3.8314\n",
      "Epoch 57, Batch 8, Loss: 3.7313\n"
     ]
    },
    {
     "name": "stderr",
     "output_type": "stream",
     "text": [
      "Training Epoch 57: 100%|██████████| 10/10 [00:01<00:00,  5.23it/s, Loss=3.7919, Avg Loss=3.7526]\n"
     ]
    },
    {
     "name": "stdout",
     "output_type": "stream",
     "text": [
      "Epoch 57/100 - Train Loss: 3.752604, LR: 2.02e-06, Time: 1.92s\n"
     ]
    },
    {
     "name": "stderr",
     "output_type": "stream",
     "text": [
      "Training Epoch 58:  30%|███       | 3/10 [00:00<00:01,  4.54it/s, Loss=3.6578, Avg Loss=3.7326]"
     ]
    },
    {
     "name": "stdout",
     "output_type": "stream",
     "text": [
      "Epoch 58, Batch 0, Loss: 3.9342\n",
      "Epoch 58, Batch 2, Loss: 3.6578\n"
     ]
    },
    {
     "name": "stderr",
     "output_type": "stream",
     "text": [
      "Training Epoch 58:  50%|█████     | 5/10 [00:01<00:00,  6.76it/s, Loss=3.8179, Avg Loss=3.7417]"
     ]
    },
    {
     "name": "stdout",
     "output_type": "stream",
     "text": [
      "Epoch 58, Batch 4, Loss: 3.6978\n"
     ]
    },
    {
     "name": "stderr",
     "output_type": "stream",
     "text": [
      "Training Epoch 58:  70%|███████   | 7/10 [00:01<00:00,  6.46it/s, Loss=3.7580, Avg Loss=3.7440]"
     ]
    },
    {
     "name": "stdout",
     "output_type": "stream",
     "text": [
      "Epoch 58, Batch 6, Loss: 3.7580\n"
     ]
    },
    {
     "name": "stderr",
     "output_type": "stream",
     "text": [
      "Training Epoch 58: 100%|██████████| 10/10 [00:01<00:00,  5.46it/s, Loss=3.7741, Avg Loss=3.7424]\n"
     ]
    },
    {
     "name": "stdout",
     "output_type": "stream",
     "text": [
      "Epoch 58, Batch 8, Loss: 3.6965\n",
      "Epoch 58/100 - Train Loss: 3.742422, LR: 1.94e-06, Time: 1.83s\n"
     ]
    },
    {
     "name": "stderr",
     "output_type": "stream",
     "text": [
      "Training Epoch 59:  30%|███       | 3/10 [00:00<00:01,  5.46it/s, Loss=3.7142, Avg Loss=3.7134]"
     ]
    },
    {
     "name": "stdout",
     "output_type": "stream",
     "text": [
      "Epoch 59, Batch 0, Loss: 3.8398\n",
      "Epoch 59, Batch 2, Loss: 3.7142\n"
     ]
    },
    {
     "name": "stderr",
     "output_type": "stream",
     "text": [
      "Training Epoch 59:  70%|███████   | 7/10 [00:01<00:00,  6.14it/s, Loss=3.7943, Avg Loss=3.7701]"
     ]
    },
    {
     "name": "stdout",
     "output_type": "stream",
     "text": [
      "Epoch 59, Batch 4, Loss: 3.7551\n",
      "Epoch 59, Batch 6, Loss: 3.7943\n"
     ]
    },
    {
     "name": "stderr",
     "output_type": "stream",
     "text": [
      "Training Epoch 59: 100%|██████████| 10/10 [00:01<00:00,  5.88it/s, Loss=3.7688, Avg Loss=3.7610]\n"
     ]
    },
    {
     "name": "stdout",
     "output_type": "stream",
     "text": [
      "Epoch 59, Batch 8, Loss: 3.7248\n",
      "Epoch 59/100 - Train Loss: 3.760991, LR: 1.87e-06, Time: 1.70s\n"
     ]
    },
    {
     "name": "stderr",
     "output_type": "stream",
     "text": [
      "Training Epoch 60:  10%|█         | 1/10 [00:00<00:03,  2.31it/s, Loss=3.9854, Avg Loss=3.9854]"
     ]
    },
    {
     "name": "stdout",
     "output_type": "stream",
     "text": [
      "Epoch 60, Batch 0, Loss: 3.9854\n"
     ]
    },
    {
     "name": "stderr",
     "output_type": "stream",
     "text": [
      "Training Epoch 60:  50%|█████     | 5/10 [00:01<00:00,  5.73it/s, Loss=3.6884, Avg Loss=3.7677]"
     ]
    },
    {
     "name": "stdout",
     "output_type": "stream",
     "text": [
      "Epoch 60, Batch 2, Loss: 3.7448\n",
      "Epoch 60, Batch 4, Loss: 3.6884\n"
     ]
    },
    {
     "name": "stderr",
     "output_type": "stream",
     "text": [
      "Training Epoch 60:  90%|█████████ | 9/10 [00:01<00:00,  8.12it/s, Loss=3.7262, Avg Loss=3.7625]"
     ]
    },
    {
     "name": "stdout",
     "output_type": "stream",
     "text": [
      "Epoch 60, Batch 6, Loss: 3.7244\n",
      "Epoch 60, Batch 8, Loss: 3.7262\n"
     ]
    },
    {
     "name": "stderr",
     "output_type": "stream",
     "text": [
      "Training Epoch 60: 100%|██████████| 10/10 [00:01<00:00,  5.33it/s, Loss=3.8565, Avg Loss=3.7719]\n",
      "Evaluating Epoch 60: 100%|██████████| 3/3 [00:00<00:00,  4.21it/s, Val Loss=3.6367]\n"
     ]
    },
    {
     "name": "stdout",
     "output_type": "stream",
     "text": [
      "\n",
      "Epoch 60/100\n",
      "Train Loss: 3.771913\n",
      "Val Loss: 3.881709\n",
      "Val Similarity: 1.2612\n",
      "Top-1 Accuracy: 0.0061\n",
      "Top-5 Accuracy: 0.0242\n",
      "Top-10 Accuracy: 0.1030\n",
      "Learning Rate: 1.79e-06\n",
      "Epoch Time: 2.61s, Total Time: 128.51s\n",
      "------------------------------------------------------------\n",
      "Checkpoint saved: ./model/checkpoints/checkpoint_epoch_60.pth\n"
     ]
    },
    {
     "name": "stderr",
     "output_type": "stream",
     "text": [
      "Training Epoch 61:  30%|███       | 3/10 [00:00<00:01,  5.12it/s, Loss=3.6898, Avg Loss=3.7502]"
     ]
    },
    {
     "name": "stdout",
     "output_type": "stream",
     "text": [
      "Epoch 61, Batch 0, Loss: 3.8724\n",
      "Epoch 61, Batch 2, Loss: 3.6898\n"
     ]
    },
    {
     "name": "stderr",
     "output_type": "stream",
     "text": [
      "Training Epoch 61:  50%|█████     | 5/10 [00:00<00:00,  7.27it/s, Loss=3.6444, Avg Loss=3.7302]"
     ]
    },
    {
     "name": "stdout",
     "output_type": "stream",
     "text": [
      "Epoch 61, Batch 4, Loss: 3.6444\n"
     ]
    },
    {
     "name": "stderr",
     "output_type": "stream",
     "text": [
      "Training Epoch 61:  80%|████████  | 8/10 [00:01<00:00,  5.81it/s, Loss=3.7596, Avg Loss=3.7495]"
     ]
    },
    {
     "name": "stdout",
     "output_type": "stream",
     "text": [
      "Epoch 61, Batch 6, Loss: 3.7754\n"
     ]
    },
    {
     "name": "stderr",
     "output_type": "stream",
     "text": [
      "Training Epoch 61: 100%|██████████| 10/10 [00:01<00:00,  5.71it/s, Loss=3.7676, Avg Loss=3.7393]\n"
     ]
    },
    {
     "name": "stdout",
     "output_type": "stream",
     "text": [
      "Epoch 61, Batch 8, Loss: 3.6291\n",
      "Epoch 61/100 - Train Loss: 3.739257, LR: 1.72e-06, Time: 1.75s\n"
     ]
    },
    {
     "name": "stderr",
     "output_type": "stream",
     "text": [
      "Training Epoch 62:  30%|███       | 3/10 [00:00<00:01,  5.66it/s, Loss=3.6953, Avg Loss=3.7064]"
     ]
    },
    {
     "name": "stdout",
     "output_type": "stream",
     "text": [
      "Epoch 62, Batch 0, Loss: 3.8235\n",
      "Epoch 62, Batch 2, Loss: 3.6953\n"
     ]
    },
    {
     "name": "stderr",
     "output_type": "stream",
     "text": [
      "Training Epoch 62:  60%|██████    | 6/10 [00:01<00:00,  5.56it/s, Loss=3.8358, Avg Loss=3.7367]"
     ]
    },
    {
     "name": "stdout",
     "output_type": "stream",
     "text": [
      "Epoch 62, Batch 4, Loss: 3.6807\n"
     ]
    },
    {
     "name": "stderr",
     "output_type": "stream",
     "text": [
      "Training Epoch 62:  90%|█████████ | 9/10 [00:01<00:00,  7.76it/s, Loss=3.6957, Avg Loss=3.7375]"
     ]
    },
    {
     "name": "stdout",
     "output_type": "stream",
     "text": [
      "Epoch 62, Batch 6, Loss: 3.7839\n",
      "Epoch 62, Batch 8, Loss: 3.6957\n"
     ]
    },
    {
     "name": "stderr",
     "output_type": "stream",
     "text": [
      "Training Epoch 62: 100%|██████████| 10/10 [00:01<00:00,  6.02it/s, Loss=3.7962, Avg Loss=3.7434]\n"
     ]
    },
    {
     "name": "stdout",
     "output_type": "stream",
     "text": [
      "Epoch 62/100 - Train Loss: 3.743359, LR: 1.65e-06, Time: 1.66s\n"
     ]
    },
    {
     "name": "stderr",
     "output_type": "stream",
     "text": [
      "Training Epoch 63:  10%|█         | 1/10 [00:00<00:03,  2.36it/s, Loss=3.6062, Avg Loss=3.7627]"
     ]
    },
    {
     "name": "stdout",
     "output_type": "stream",
     "text": [
      "Epoch 63, Batch 0, Loss: 3.9192\n"
     ]
    },
    {
     "name": "stderr",
     "output_type": "stream",
     "text": [
      "Training Epoch 63:  30%|███       | 3/10 [00:00<00:01,  4.31it/s, Loss=3.6842, Avg Loss=3.7365]"
     ]
    },
    {
     "name": "stdout",
     "output_type": "stream",
     "text": [
      "Epoch 63, Batch 2, Loss: 3.6842\n"
     ]
    },
    {
     "name": "stderr",
     "output_type": "stream",
     "text": [
      "Training Epoch 63:  70%|███████   | 7/10 [00:01<00:00,  6.85it/s, Loss=3.7512, Avg Loss=3.7510]"
     ]
    },
    {
     "name": "stdout",
     "output_type": "stream",
     "text": [
      "Epoch 63, Batch 4, Loss: 3.6826\n",
      "Epoch 63, Batch 6, Loss: 3.7512\n"
     ]
    },
    {
     "name": "stderr",
     "output_type": "stream",
     "text": [
      "Training Epoch 63: 100%|██████████| 10/10 [00:01<00:00,  6.00it/s, Loss=3.8383, Avg Loss=3.7529]\n"
     ]
    },
    {
     "name": "stdout",
     "output_type": "stream",
     "text": [
      "Epoch 63, Batch 8, Loss: 3.6532\n",
      "Epoch 63/100 - Train Loss: 3.752942, LR: 1.58e-06, Time: 1.67s\n"
     ]
    },
    {
     "name": "stderr",
     "output_type": "stream",
     "text": [
      "Training Epoch 64:  10%|█         | 1/10 [00:00<00:03,  2.50it/s, Loss=3.5935, Avg Loss=3.7134]"
     ]
    },
    {
     "name": "stdout",
     "output_type": "stream",
     "text": [
      "Epoch 64, Batch 0, Loss: 3.8334\n"
     ]
    },
    {
     "name": "stderr",
     "output_type": "stream",
     "text": [
      "Training Epoch 64:  30%|███       | 3/10 [00:00<00:01,  4.30it/s, Loss=3.6358, Avg Loss=3.6876]"
     ]
    },
    {
     "name": "stdout",
     "output_type": "stream",
     "text": [
      "Epoch 64, Batch 2, Loss: 3.6358\n"
     ]
    },
    {
     "name": "stderr",
     "output_type": "stream",
     "text": [
      "Training Epoch 64:  70%|███████   | 7/10 [00:01<00:00,  6.69it/s, Loss=3.7883, Avg Loss=3.7326]"
     ]
    },
    {
     "name": "stdout",
     "output_type": "stream",
     "text": [
      "Epoch 64, Batch 4, Loss: 3.7362\n",
      "Epoch 64, Batch 6, Loss: 3.7883\n"
     ]
    },
    {
     "name": "stderr",
     "output_type": "stream",
     "text": [
      "Training Epoch 64: 100%|██████████| 10/10 [00:01<00:00,  6.05it/s, Loss=3.7697, Avg Loss=3.7257]\n"
     ]
    },
    {
     "name": "stdout",
     "output_type": "stream",
     "text": [
      "Epoch 64, Batch 8, Loss: 3.6139\n",
      "Epoch 64/100 - Train Loss: 3.725659, LR: 1.51e-06, Time: 1.66s\n"
     ]
    },
    {
     "name": "stderr",
     "output_type": "stream",
     "text": [
      "Training Epoch 65:  10%|█         | 1/10 [00:00<00:03,  2.52it/s, Loss=3.5746, Avg Loss=3.7126]"
     ]
    },
    {
     "name": "stdout",
     "output_type": "stream",
     "text": [
      "Epoch 65, Batch 0, Loss: 3.8506\n"
     ]
    },
    {
     "name": "stderr",
     "output_type": "stream",
     "text": [
      "Training Epoch 65:  30%|███       | 3/10 [00:00<00:01,  4.32it/s, Loss=3.7364, Avg Loss=3.7205]"
     ]
    },
    {
     "name": "stdout",
     "output_type": "stream",
     "text": [
      "Epoch 65, Batch 2, Loss: 3.7364\n"
     ]
    },
    {
     "name": "stderr",
     "output_type": "stream",
     "text": [
      "Training Epoch 65:  70%|███████   | 7/10 [00:01<00:00,  6.71it/s, Loss=3.7585, Avg Loss=3.7485]"
     ]
    },
    {
     "name": "stdout",
     "output_type": "stream",
     "text": [
      "Epoch 65, Batch 4, Loss: 3.6528\n",
      "Epoch 65, Batch 6, Loss: 3.7585\n"
     ]
    },
    {
     "name": "stderr",
     "output_type": "stream",
     "text": [
      "Training Epoch 65: 100%|██████████| 10/10 [00:01<00:00,  6.01it/s, Loss=3.7464, Avg Loss=3.7365]\n"
     ]
    },
    {
     "name": "stdout",
     "output_type": "stream",
     "text": [
      "Epoch 65, Batch 8, Loss: 3.6318\n"
     ]
    },
    {
     "name": "stderr",
     "output_type": "stream",
     "text": [
      "Evaluating Epoch 65: 100%|██████████| 3/3 [00:00<00:00,  3.38it/s, Val Loss=3.6405]\n"
     ]
    },
    {
     "name": "stdout",
     "output_type": "stream",
     "text": [
      "\n",
      "Epoch 65/100\n",
      "Train Loss: 3.736492\n",
      "Val Loss: 3.883730\n",
      "Val Similarity: 1.3073\n",
      "Top-1 Accuracy: 0.0061\n",
      "Top-5 Accuracy: 0.0364\n",
      "Top-10 Accuracy: 0.0970\n",
      "Learning Rate: 1.44e-06\n",
      "Epoch Time: 2.59s, Total Time: 138.27s\n",
      "------------------------------------------------------------\n",
      "Checkpoint saved: ./model/checkpoints/checkpoint_epoch_65.pth\n"
     ]
    },
    {
     "name": "stderr",
     "output_type": "stream",
     "text": [
      "Training Epoch 66:  10%|█         | 1/10 [00:00<00:04,  1.90it/s, Loss=3.6892, Avg Loss=3.8322]"
     ]
    },
    {
     "name": "stdout",
     "output_type": "stream",
     "text": [
      "Epoch 66, Batch 0, Loss: 3.9752\n"
     ]
    },
    {
     "name": "stderr",
     "output_type": "stream",
     "text": [
      "Training Epoch 66:  30%|███       | 3/10 [00:00<00:01,  3.83it/s, Loss=3.6632, Avg Loss=3.7759]"
     ]
    },
    {
     "name": "stdout",
     "output_type": "stream",
     "text": [
      "Epoch 66, Batch 2, Loss: 3.6632\n"
     ]
    },
    {
     "name": "stderr",
     "output_type": "stream",
     "text": [
      "Training Epoch 66:  70%|███████   | 7/10 [00:01<00:00,  6.59it/s, Loss=3.7226, Avg Loss=3.7815]"
     ]
    },
    {
     "name": "stdout",
     "output_type": "stream",
     "text": [
      "Epoch 66, Batch 4, Loss: 3.7681\n",
      "Epoch 66, Batch 6, Loss: 3.7226\n"
     ]
    },
    {
     "name": "stderr",
     "output_type": "stream",
     "text": [
      "Training Epoch 66: 100%|██████████| 10/10 [00:01<00:00,  5.61it/s, Loss=3.6944, Avg Loss=3.7474]\n"
     ]
    },
    {
     "name": "stdout",
     "output_type": "stream",
     "text": [
      "Epoch 66, Batch 8, Loss: 3.6543\n",
      "Epoch 66/100 - Train Loss: 3.747415, LR: 1.37e-06, Time: 1.78s\n"
     ]
    },
    {
     "name": "stderr",
     "output_type": "stream",
     "text": [
      "Training Epoch 67:  20%|██        | 2/10 [00:00<00:03,  2.63it/s, Loss=3.5567, Avg Loss=3.7000]"
     ]
    },
    {
     "name": "stdout",
     "output_type": "stream",
     "text": [
      "Epoch 67, Batch 0, Loss: 3.8434\n"
     ]
    },
    {
     "name": "stderr",
     "output_type": "stream",
     "text": [
      "Training Epoch 67:  40%|████      | 4/10 [00:01<00:01,  5.16it/s, Loss=3.6543, Avg Loss=3.6996]"
     ]
    },
    {
     "name": "stdout",
     "output_type": "stream",
     "text": [
      "Epoch 67, Batch 2, Loss: 3.6818\n",
      "Epoch 67, Batch 4, Loss: 3.6543\n"
     ]
    },
    {
     "name": "stderr",
     "output_type": "stream",
     "text": [
      "Training Epoch 67:  70%|███████   | 7/10 [00:01<00:00,  7.38it/s, Loss=3.7973, Avg Loss=3.7324]"
     ]
    },
    {
     "name": "stdout",
     "output_type": "stream",
     "text": [
      "Epoch 67, Batch 6, Loss: 3.7973\n"
     ]
    },
    {
     "name": "stderr",
     "output_type": "stream",
     "text": [
      "Training Epoch 67: 100%|██████████| 10/10 [00:02<00:00,  4.93it/s, Loss=3.7710, Avg Loss=3.7295]\n"
     ]
    },
    {
     "name": "stdout",
     "output_type": "stream",
     "text": [
      "Epoch 67, Batch 8, Loss: 3.7494\n",
      "Epoch 67/100 - Train Loss: 3.729501, LR: 1.30e-06, Time: 2.03s\n"
     ]
    },
    {
     "name": "stderr",
     "output_type": "stream",
     "text": [
      "Training Epoch 68:  10%|█         | 1/10 [00:00<00:04,  2.05it/s, Loss=3.5679, Avg Loss=3.6888]"
     ]
    },
    {
     "name": "stdout",
     "output_type": "stream",
     "text": [
      "Epoch 68, Batch 0, Loss: 3.8097\n"
     ]
    },
    {
     "name": "stderr",
     "output_type": "stream",
     "text": [
      "Training Epoch 68:  30%|███       | 3/10 [00:00<00:01,  4.06it/s, Loss=3.7070, Avg Loss=3.6949]"
     ]
    },
    {
     "name": "stdout",
     "output_type": "stream",
     "text": [
      "Epoch 68, Batch 2, Loss: 3.7070\n"
     ]
    },
    {
     "name": "stderr",
     "output_type": "stream",
     "text": [
      "Training Epoch 68:  70%|███████   | 7/10 [00:01<00:00,  6.73it/s, Loss=3.7601, Avg Loss=3.7010]"
     ]
    },
    {
     "name": "stdout",
     "output_type": "stream",
     "text": [
      "Epoch 68, Batch 4, Loss: 3.5800\n",
      "Epoch 68, Batch 6, Loss: 3.7601\n"
     ]
    },
    {
     "name": "stderr",
     "output_type": "stream",
     "text": [
      "Training Epoch 68: 100%|██████████| 10/10 [00:01<00:00,  5.77it/s, Loss=3.8194, Avg Loss=3.7146]\n"
     ]
    },
    {
     "name": "stdout",
     "output_type": "stream",
     "text": [
      "Epoch 68, Batch 8, Loss: 3.6593\n",
      "Epoch 68/100 - Train Loss: 3.714635, LR: 1.24e-06, Time: 1.73s\n"
     ]
    },
    {
     "name": "stderr",
     "output_type": "stream",
     "text": [
      "Training Epoch 69:  10%|█         | 1/10 [00:00<00:05,  1.58it/s, Loss=3.8673, Avg Loss=3.8673]"
     ]
    },
    {
     "name": "stdout",
     "output_type": "stream",
     "text": [
      "Epoch 69, Batch 0, Loss: 3.8673\n"
     ]
    },
    {
     "name": "stderr",
     "output_type": "stream",
     "text": [
      "Training Epoch 69:  40%|████      | 4/10 [00:01<00:01,  5.06it/s, Loss=3.6779, Avg Loss=3.7170]"
     ]
    },
    {
     "name": "stdout",
     "output_type": "stream",
     "text": [
      "Epoch 69, Batch 2, Loss: 3.6552\n",
      "Epoch 69, Batch 4, Loss: 3.6779\n"
     ]
    },
    {
     "name": "stderr",
     "output_type": "stream",
     "text": [
      "Training Epoch 69:  70%|███████   | 7/10 [00:01<00:00,  7.27it/s, Loss=3.7308, Avg Loss=3.7388]"
     ]
    },
    {
     "name": "stdout",
     "output_type": "stream",
     "text": [
      "Epoch 69, Batch 6, Loss: 3.7308\n"
     ]
    },
    {
     "name": "stderr",
     "output_type": "stream",
     "text": [
      "Training Epoch 69: 100%|██████████| 10/10 [00:02<00:00,  4.91it/s, Loss=3.7928, Avg Loss=3.7213]\n"
     ]
    },
    {
     "name": "stdout",
     "output_type": "stream",
     "text": [
      "Epoch 69, Batch 8, Loss: 3.5823\n",
      "Epoch 69/100 - Train Loss: 3.721292, LR: 1.17e-06, Time: 2.04s\n"
     ]
    },
    {
     "name": "stderr",
     "output_type": "stream",
     "text": [
      "Training Epoch 70:  30%|███       | 3/10 [00:00<00:01,  5.40it/s, Loss=3.6791, Avg Loss=3.7480]"
     ]
    },
    {
     "name": "stdout",
     "output_type": "stream",
     "text": [
      "Epoch 70, Batch 0, Loss: 3.9260\n",
      "Epoch 70, Batch 2, Loss: 3.6791\n"
     ]
    },
    {
     "name": "stderr",
     "output_type": "stream",
     "text": [
      "Training Epoch 70:  70%|███████   | 7/10 [00:01<00:00,  6.21it/s, Loss=3.7424, Avg Loss=3.7619]"
     ]
    },
    {
     "name": "stdout",
     "output_type": "stream",
     "text": [
      "Epoch 70, Batch 4, Loss: 3.6204\n",
      "Epoch 70, Batch 6, Loss: 3.7424\n"
     ]
    },
    {
     "name": "stderr",
     "output_type": "stream",
     "text": [
      "Training Epoch 70: 100%|██████████| 10/10 [00:01<00:00,  5.87it/s, Loss=3.7434, Avg Loss=3.7450]\n"
     ]
    },
    {
     "name": "stdout",
     "output_type": "stream",
     "text": [
      "Epoch 70, Batch 8, Loss: 3.6937\n"
     ]
    },
    {
     "name": "stderr",
     "output_type": "stream",
     "text": [
      "Evaluating Epoch 70: 100%|██████████| 3/3 [00:00<00:00,  3.55it/s, Val Loss=3.6347]\n"
     ]
    },
    {
     "name": "stdout",
     "output_type": "stream",
     "text": [
      "\n",
      "Epoch 70/100\n",
      "Train Loss: 3.745005\n",
      "Val Loss: 3.879965\n",
      "Val Similarity: 1.3206\n",
      "Top-1 Accuracy: 0.0061\n",
      "Top-5 Accuracy: 0.0364\n",
      "Top-10 Accuracy: 0.0970\n",
      "Learning Rate: 1.11e-06\n",
      "Epoch Time: 2.58s, Total Time: 148.85s\n",
      "------------------------------------------------------------\n",
      "Checkpoint saved: ./model/checkpoints/checkpoint_epoch_70.pth\n",
      "New best model saved: ./model/checkpoints/best_model.pth\n"
     ]
    },
    {
     "name": "stderr",
     "output_type": "stream",
     "text": [
      "Training Epoch 71:  10%|█         | 1/10 [00:00<00:05,  1.62it/s, Loss=3.8282, Avg Loss=3.8282]"
     ]
    },
    {
     "name": "stdout",
     "output_type": "stream",
     "text": [
      "Epoch 71, Batch 0, Loss: 3.8282\n"
     ]
    },
    {
     "name": "stderr",
     "output_type": "stream",
     "text": [
      "Training Epoch 71:  50%|█████     | 5/10 [00:01<00:00,  6.14it/s, Loss=3.6776, Avg Loss=3.7017]"
     ]
    },
    {
     "name": "stdout",
     "output_type": "stream",
     "text": [
      "Epoch 71, Batch 2, Loss: 3.6395\n",
      "Epoch 71, Batch 4, Loss: 3.6776\n"
     ]
    },
    {
     "name": "stderr",
     "output_type": "stream",
     "text": [
      "Training Epoch 71:  70%|███████   | 7/10 [00:01<00:00,  7.57it/s, Loss=3.7012, Avg Loss=3.7134]"
     ]
    },
    {
     "name": "stdout",
     "output_type": "stream",
     "text": [
      "Epoch 71, Batch 6, Loss: 3.7028\n"
     ]
    },
    {
     "name": "stderr",
     "output_type": "stream",
     "text": [
      "Training Epoch 71:  90%|█████████ | 9/10 [00:01<00:00,  6.47it/s, Loss=3.7162, Avg Loss=3.7137]"
     ]
    },
    {
     "name": "stdout",
     "output_type": "stream",
     "text": [
      "Epoch 71, Batch 8, Loss: 3.7162\n"
     ]
    },
    {
     "name": "stderr",
     "output_type": "stream",
     "text": [
      "Training Epoch 71: 100%|██████████| 10/10 [00:02<00:00,  4.90it/s, Loss=3.7352, Avg Loss=3.7159]\n"
     ]
    },
    {
     "name": "stdout",
     "output_type": "stream",
     "text": [
      "Epoch 71/100 - Train Loss: 3.715885, LR: 1.05e-06, Time: 2.04s\n"
     ]
    },
    {
     "name": "stderr",
     "output_type": "stream",
     "text": [
      "Training Epoch 72:  30%|███       | 3/10 [00:00<00:01,  5.50it/s, Loss=3.7030, Avg Loss=3.6922]"
     ]
    },
    {
     "name": "stdout",
     "output_type": "stream",
     "text": [
      "Epoch 72, Batch 0, Loss: 3.8389\n",
      "Epoch 72, Batch 2, Loss: 3.7030\n"
     ]
    },
    {
     "name": "stderr",
     "output_type": "stream",
     "text": [
      "Training Epoch 72:  60%|██████    | 6/10 [00:00<00:00,  7.97it/s, Loss=3.8025, Avg Loss=3.7150]"
     ]
    },
    {
     "name": "stdout",
     "output_type": "stream",
     "text": [
      "Epoch 72, Batch 4, Loss: 3.6394\n"
     ]
    },
    {
     "name": "stderr",
     "output_type": "stream",
     "text": [
      "Training Epoch 72:  80%|████████  | 8/10 [00:01<00:00,  5.56it/s, Loss=3.7480, Avg Loss=3.7258]"
     ]
    },
    {
     "name": "stdout",
     "output_type": "stream",
     "text": [
      "Epoch 72, Batch 6, Loss: 3.7683\n"
     ]
    },
    {
     "name": "stderr",
     "output_type": "stream",
     "text": [
      "Training Epoch 72: 100%|██████████| 10/10 [00:01<00:00,  5.93it/s, Loss=3.7353, Avg Loss=3.7228]\n"
     ]
    },
    {
     "name": "stdout",
     "output_type": "stream",
     "text": [
      "Epoch 72, Batch 8, Loss: 3.6859\n",
      "Epoch 72/100 - Train Loss: 3.722756, LR: 9.88e-07, Time: 1.69s\n"
     ]
    },
    {
     "name": "stderr",
     "output_type": "stream",
     "text": [
      "Training Epoch 73:  30%|███       | 3/10 [00:00<00:01,  5.59it/s, Loss=3.6559, Avg Loss=3.7458]"
     ]
    },
    {
     "name": "stdout",
     "output_type": "stream",
     "text": [
      "Epoch 73, Batch 0, Loss: 3.9111\n",
      "Epoch 73, Batch 2, Loss: 3.6559\n"
     ]
    },
    {
     "name": "stderr",
     "output_type": "stream",
     "text": [
      "Training Epoch 73:  50%|█████     | 5/10 [00:01<00:01,  4.57it/s, Loss=3.8234, Avg Loss=3.7553]"
     ]
    },
    {
     "name": "stdout",
     "output_type": "stream",
     "text": [
      "Epoch 73, Batch 4, Loss: 3.6761\n"
     ]
    },
    {
     "name": "stderr",
     "output_type": "stream",
     "text": [
      "Training Epoch 73:  70%|███████   | 7/10 [00:01<00:00,  6.15it/s, Loss=3.7375, Avg Loss=3.7601]"
     ]
    },
    {
     "name": "stdout",
     "output_type": "stream",
     "text": [
      "Epoch 73, Batch 6, Loss: 3.8116\n"
     ]
    },
    {
     "name": "stderr",
     "output_type": "stream",
     "text": [
      "Training Epoch 73: 100%|██████████| 10/10 [00:01<00:00,  5.89it/s, Loss=3.6907, Avg Loss=3.7466]\n"
     ]
    },
    {
     "name": "stdout",
     "output_type": "stream",
     "text": [
      "Epoch 73, Batch 8, Loss: 3.6944\n",
      "Epoch 73/100 - Train Loss: 3.746583, LR: 9.30e-07, Time: 1.70s\n"
     ]
    },
    {
     "name": "stderr",
     "output_type": "stream",
     "text": [
      "Training Epoch 74:  10%|█         | 1/10 [00:00<00:03,  2.36it/s, Loss=3.9093, Avg Loss=3.9093]"
     ]
    },
    {
     "name": "stdout",
     "output_type": "stream",
     "text": [
      "Epoch 74, Batch 0, Loss: 3.9093\n"
     ]
    },
    {
     "name": "stderr",
     "output_type": "stream",
     "text": [
      "Training Epoch 74:  50%|█████     | 5/10 [00:01<00:00,  5.73it/s, Loss=3.6127, Avg Loss=3.7074]"
     ]
    },
    {
     "name": "stdout",
     "output_type": "stream",
     "text": [
      "Epoch 74, Batch 2, Loss: 3.6864\n",
      "Epoch 74, Batch 4, Loss: 3.6127\n"
     ]
    },
    {
     "name": "stderr",
     "output_type": "stream",
     "text": [
      "Training Epoch 74:  80%|████████  | 8/10 [00:01<00:00,  7.68it/s, Loss=3.7615, Avg Loss=3.7388]"
     ]
    },
    {
     "name": "stdout",
     "output_type": "stream",
     "text": [
      "Epoch 74, Batch 6, Loss: 3.7651\n"
     ]
    },
    {
     "name": "stderr",
     "output_type": "stream",
     "text": [
      "Training Epoch 74:  90%|█████████ | 9/10 [00:01<00:00,  8.16it/s, Loss=3.6624, Avg Loss=3.7303]"
     ]
    },
    {
     "name": "stdout",
     "output_type": "stream",
     "text": [
      "Epoch 74, Batch 8, Loss: 3.6624\n"
     ]
    },
    {
     "name": "stderr",
     "output_type": "stream",
     "text": [
      "Training Epoch 74: 100%|██████████| 10/10 [00:01<00:00,  5.37it/s, Loss=3.7907, Avg Loss=3.7364]\n"
     ]
    },
    {
     "name": "stdout",
     "output_type": "stream",
     "text": [
      "Epoch 74/100 - Train Loss: 3.736352, LR: 8.73e-07, Time: 1.86s\n"
     ]
    },
    {
     "name": "stderr",
     "output_type": "stream",
     "text": [
      "Training Epoch 75:  30%|███       | 3/10 [00:00<00:01,  4.51it/s, Loss=3.7424, Avg Loss=3.6901]"
     ]
    },
    {
     "name": "stdout",
     "output_type": "stream",
     "text": [
      "Epoch 75, Batch 0, Loss: 3.7458\n",
      "Epoch 75, Batch 2, Loss: 3.7424\n"
     ]
    },
    {
     "name": "stderr",
     "output_type": "stream",
     "text": [
      "Training Epoch 75:  70%|███████   | 7/10 [00:01<00:00,  8.03it/s, Loss=3.7528, Avg Loss=3.7515]"
     ]
    },
    {
     "name": "stdout",
     "output_type": "stream",
     "text": [
      "Epoch 75, Batch 4, Loss: 3.7157\n",
      "Epoch 75, Batch 6, Loss: 3.7528\n"
     ]
    },
    {
     "name": "stderr",
     "output_type": "stream",
     "text": [
      "Training Epoch 75: 100%|██████████| 10/10 [00:01<00:00,  5.42it/s, Loss=3.7897, Avg Loss=3.7441]\n"
     ]
    },
    {
     "name": "stdout",
     "output_type": "stream",
     "text": [
      "Epoch 75, Batch 8, Loss: 3.6951\n"
     ]
    },
    {
     "name": "stderr",
     "output_type": "stream",
     "text": [
      "Evaluating Epoch 75: 100%|██████████| 3/3 [00:00<00:00,  5.51it/s, Val Loss=3.6263]\n"
     ]
    },
    {
     "name": "stdout",
     "output_type": "stream",
     "text": [
      "\n",
      "Epoch 75/100\n",
      "Train Loss: 3.744110\n",
      "Val Loss: 3.872834\n",
      "Val Similarity: 1.3504\n",
      "Top-1 Accuracy: 0.0061\n",
      "Top-5 Accuracy: 0.0303\n",
      "Top-10 Accuracy: 0.0970\n",
      "Learning Rate: 8.18e-07\n",
      "Epoch Time: 2.43s, Total Time: 159.23s\n",
      "------------------------------------------------------------\n",
      "Checkpoint saved: ./model/checkpoints/checkpoint_epoch_75.pth\n",
      "New best model saved: ./model/checkpoints/best_model.pth\n"
     ]
    },
    {
     "name": "stderr",
     "output_type": "stream",
     "text": [
      "Training Epoch 76:  10%|█         | 1/10 [00:00<00:03,  2.50it/s, Loss=3.5938, Avg Loss=3.6633]"
     ]
    },
    {
     "name": "stdout",
     "output_type": "stream",
     "text": [
      "Epoch 76, Batch 0, Loss: 3.7329\n"
     ]
    },
    {
     "name": "stderr",
     "output_type": "stream",
     "text": [
      "Training Epoch 76:  30%|███       | 3/10 [00:00<00:01,  4.36it/s, Loss=3.6343, Avg Loss=3.6536]"
     ]
    },
    {
     "name": "stdout",
     "output_type": "stream",
     "text": [
      "Epoch 76, Batch 2, Loss: 3.6343\n"
     ]
    },
    {
     "name": "stderr",
     "output_type": "stream",
     "text": [
      "Training Epoch 76:  70%|███████   | 7/10 [00:01<00:00,  6.76it/s, Loss=3.7940, Avg Loss=3.6971]"
     ]
    },
    {
     "name": "stdout",
     "output_type": "stream",
     "text": [
      "Epoch 76, Batch 4, Loss: 3.6306\n",
      "Epoch 76, Batch 6, Loss: 3.7940\n"
     ]
    },
    {
     "name": "stderr",
     "output_type": "stream",
     "text": [
      "Training Epoch 76: 100%|██████████| 10/10 [00:01<00:00,  6.04it/s, Loss=3.6959, Avg Loss=3.7007]\n"
     ]
    },
    {
     "name": "stdout",
     "output_type": "stream",
     "text": [
      "Epoch 76, Batch 8, Loss: 3.7472\n",
      "Epoch 76/100 - Train Loss: 3.700738, LR: 7.64e-07, Time: 1.66s\n"
     ]
    },
    {
     "name": "stderr",
     "output_type": "stream",
     "text": [
      "Training Epoch 77:  10%|█         | 1/10 [00:00<00:03,  2.37it/s, Loss=3.7951, Avg Loss=3.7951]"
     ]
    },
    {
     "name": "stdout",
     "output_type": "stream",
     "text": [
      "Epoch 77, Batch 0, Loss: 3.7951\n"
     ]
    },
    {
     "name": "stderr",
     "output_type": "stream",
     "text": [
      "Training Epoch 77:  50%|█████     | 5/10 [00:01<00:00,  5.81it/s, Loss=3.6529, Avg Loss=3.6665]"
     ]
    },
    {
     "name": "stdout",
     "output_type": "stream",
     "text": [
      "Epoch 77, Batch 2, Loss: 3.6592\n",
      "Epoch 77, Batch 4, Loss: 3.6529\n"
     ]
    },
    {
     "name": "stderr",
     "output_type": "stream",
     "text": [
      "Training Epoch 77:  90%|█████████ | 9/10 [00:01<00:00,  8.19it/s, Loss=3.6126, Avg Loss=3.7037]"
     ]
    },
    {
     "name": "stdout",
     "output_type": "stream",
     "text": [
      "Epoch 77, Batch 6, Loss: 3.8539\n",
      "Epoch 77, Batch 8, Loss: 3.6126\n"
     ]
    },
    {
     "name": "stderr",
     "output_type": "stream",
     "text": [
      "Training Epoch 77: 100%|██████████| 10/10 [00:01<00:00,  5.39it/s, Loss=3.7520, Avg Loss=3.7085]\n"
     ]
    },
    {
     "name": "stdout",
     "output_type": "stream",
     "text": [
      "Epoch 77/100 - Train Loss: 3.708543, LR: 7.12e-07, Time: 1.86s\n"
     ]
    },
    {
     "name": "stderr",
     "output_type": "stream",
     "text": [
      "Training Epoch 78:  30%|███       | 3/10 [00:00<00:01,  4.53it/s, Loss=3.7137, Avg Loss=3.7270]"
     ]
    },
    {
     "name": "stdout",
     "output_type": "stream",
     "text": [
      "Epoch 78, Batch 0, Loss: 3.8436\n",
      "Epoch 78, Batch 2, Loss: 3.7137\n"
     ]
    },
    {
     "name": "stderr",
     "output_type": "stream",
     "text": [
      "Training Epoch 78:  50%|█████     | 5/10 [00:01<00:00,  6.73it/s, Loss=3.7528, Avg Loss=3.7380]"
     ]
    },
    {
     "name": "stdout",
     "output_type": "stream",
     "text": [
      "Epoch 78, Batch 4, Loss: 3.6813\n"
     ]
    },
    {
     "name": "stderr",
     "output_type": "stream",
     "text": [
      "Training Epoch 78:  70%|███████   | 7/10 [00:01<00:00,  6.04it/s, Loss=3.8204, Avg Loss=3.7498]"
     ]
    },
    {
     "name": "stdout",
     "output_type": "stream",
     "text": [
      "Epoch 78, Batch 6, Loss: 3.8204\n"
     ]
    },
    {
     "name": "stderr",
     "output_type": "stream",
     "text": [
      "Training Epoch 78: 100%|██████████| 10/10 [00:01<00:00,  5.43it/s, Loss=3.8485, Avg Loss=3.7429]\n"
     ]
    },
    {
     "name": "stdout",
     "output_type": "stream",
     "text": [
      "Epoch 78, Batch 8, Loss: 3.6640\n",
      "Epoch 78/100 - Train Loss: 3.742917, LR: 6.62e-07, Time: 1.85s\n"
     ]
    },
    {
     "name": "stderr",
     "output_type": "stream",
     "text": [
      "Training Epoch 79:  30%|███       | 3/10 [00:00<00:01,  5.69it/s, Loss=3.6293, Avg Loss=3.7121]"
     ]
    },
    {
     "name": "stdout",
     "output_type": "stream",
     "text": [
      "Epoch 79, Batch 0, Loss: 3.8984\n",
      "Epoch 79, Batch 2, Loss: 3.6293\n"
     ]
    },
    {
     "name": "stderr",
     "output_type": "stream",
     "text": [
      "Training Epoch 79:  50%|█████     | 5/10 [00:00<00:00,  7.93it/s, Loss=3.6483, Avg Loss=3.7148]"
     ]
    },
    {
     "name": "stdout",
     "output_type": "stream",
     "text": [
      "Epoch 79, Batch 4, Loss: 3.6483\n"
     ]
    },
    {
     "name": "stderr",
     "output_type": "stream",
     "text": [
      "Training Epoch 79:  80%|████████  | 8/10 [00:01<00:00,  5.94it/s, Loss=3.6920, Avg Loss=3.7185]"
     ]
    },
    {
     "name": "stdout",
     "output_type": "stream",
     "text": [
      "Epoch 79, Batch 6, Loss: 3.7105\n"
     ]
    },
    {
     "name": "stderr",
     "output_type": "stream",
     "text": [
      "Training Epoch 79: 100%|██████████| 10/10 [00:01<00:00,  5.91it/s, Loss=3.7910, Avg Loss=3.7181]\n"
     ]
    },
    {
     "name": "stdout",
     "output_type": "stream",
     "text": [
      "Epoch 79, Batch 8, Loss: 3.6418\n",
      "Epoch 79/100 - Train Loss: 3.718073, LR: 6.14e-07, Time: 1.69s\n"
     ]
    },
    {
     "name": "stderr",
     "output_type": "stream",
     "text": [
      "Training Epoch 80:  30%|███       | 3/10 [00:00<00:01,  5.77it/s, Loss=3.7533, Avg Loss=3.6853]"
     ]
    },
    {
     "name": "stdout",
     "output_type": "stream",
     "text": [
      "Epoch 80, Batch 0, Loss: 3.7489\n",
      "Epoch 80, Batch 2, Loss: 3.7533\n"
     ]
    },
    {
     "name": "stderr",
     "output_type": "stream",
     "text": [
      "Training Epoch 80:  60%|██████    | 6/10 [00:01<00:00,  5.61it/s, Loss=3.8547, Avg Loss=3.7103]"
     ]
    },
    {
     "name": "stdout",
     "output_type": "stream",
     "text": [
      "Epoch 80, Batch 4, Loss: 3.5782\n"
     ]
    },
    {
     "name": "stderr",
     "output_type": "stream",
     "text": [
      "Training Epoch 80:  70%|███████   | 7/10 [00:01<00:00,  6.19it/s, Loss=3.7404, Avg Loss=3.7222]"
     ]
    },
    {
     "name": "stdout",
     "output_type": "stream",
     "text": [
      "Epoch 80, Batch 6, Loss: 3.7757\n"
     ]
    },
    {
     "name": "stderr",
     "output_type": "stream",
     "text": [
      "Training Epoch 80:  90%|█████████ | 9/10 [00:01<00:00,  7.51it/s, Loss=3.7665, Avg Loss=3.7266]"
     ]
    },
    {
     "name": "stdout",
     "output_type": "stream",
     "text": [
      "Epoch 80, Batch 8, Loss: 3.7213\n"
     ]
    },
    {
     "name": "stderr",
     "output_type": "stream",
     "text": [
      "Training Epoch 80: 100%|██████████| 10/10 [00:01<00:00,  5.78it/s, Loss=3.7665, Avg Loss=3.7266]\n",
      "Evaluating Epoch 80: 100%|██████████| 3/3 [00:00<00:00,  3.43it/s, Val Loss=3.6192]\n"
     ]
    },
    {
     "name": "stdout",
     "output_type": "stream",
     "text": [
      "\n",
      "Epoch 80/100\n",
      "Train Loss: 3.726576\n",
      "Val Loss: 3.868516\n",
      "Val Similarity: 1.3363\n",
      "Top-1 Accuracy: 0.0061\n",
      "Top-5 Accuracy: 0.0242\n",
      "Top-10 Accuracy: 0.0970\n",
      "Learning Rate: 5.68e-07\n",
      "Epoch Time: 2.63s, Total Time: 169.44s\n",
      "------------------------------------------------------------\n",
      "Checkpoint saved: ./model/checkpoints/checkpoint_epoch_80.pth\n",
      "New best model saved: ./model/checkpoints/best_model.pth\n"
     ]
    },
    {
     "name": "stderr",
     "output_type": "stream",
     "text": [
      "Training Epoch 81:  20%|██        | 2/10 [00:00<00:03,  2.63it/s, Loss=3.5334, Avg Loss=3.6820]"
     ]
    },
    {
     "name": "stdout",
     "output_type": "stream",
     "text": [
      "Epoch 81, Batch 0, Loss: 3.8307\n"
     ]
    },
    {
     "name": "stderr",
     "output_type": "stream",
     "text": [
      "Training Epoch 81:  40%|████      | 4/10 [00:01<00:01,  5.16it/s, Loss=3.6327, Avg Loss=3.6662]"
     ]
    },
    {
     "name": "stdout",
     "output_type": "stream",
     "text": [
      "Epoch 81, Batch 2, Loss: 3.6352\n",
      "Epoch 81, Batch 4, Loss: 3.6327\n"
     ]
    },
    {
     "name": "stderr",
     "output_type": "stream",
     "text": [
      "Training Epoch 81:  70%|███████   | 7/10 [00:01<00:00,  5.71it/s, Loss=3.7320, Avg Loss=3.6917]"
     ]
    },
    {
     "name": "stdout",
     "output_type": "stream",
     "text": [
      "Epoch 81, Batch 6, Loss: 3.7320\n"
     ]
    },
    {
     "name": "stderr",
     "output_type": "stream",
     "text": [
      "Training Epoch 81: 100%|██████████| 10/10 [00:02<00:00,  4.85it/s, Loss=3.7131, Avg Loss=3.6937]\n"
     ]
    },
    {
     "name": "stdout",
     "output_type": "stream",
     "text": [
      "Epoch 81, Batch 8, Loss: 3.6466\n",
      "Epoch 81/100 - Train Loss: 3.693672, LR: 5.24e-07, Time: 2.07s\n"
     ]
    },
    {
     "name": "stderr",
     "output_type": "stream",
     "text": [
      "Training Epoch 82:  20%|██        | 2/10 [00:00<00:03,  2.47it/s, Loss=3.5280, Avg Loss=3.6591]"
     ]
    },
    {
     "name": "stdout",
     "output_type": "stream",
     "text": [
      "Epoch 82, Batch 0, Loss: 3.7902\n"
     ]
    },
    {
     "name": "stderr",
     "output_type": "stream",
     "text": [
      "Training Epoch 82:  40%|████      | 4/10 [00:01<00:01,  4.91it/s, Loss=3.6006, Avg Loss=3.6587]"
     ]
    },
    {
     "name": "stdout",
     "output_type": "stream",
     "text": [
      "Epoch 82, Batch 2, Loss: 3.6280\n",
      "Epoch 82, Batch 4, Loss: 3.6006\n"
     ]
    },
    {
     "name": "stderr",
     "output_type": "stream",
     "text": [
      "Training Epoch 82:  70%|███████   | 7/10 [00:01<00:00,  7.31it/s, Loss=3.7238, Avg Loss=3.6913]"
     ]
    },
    {
     "name": "stdout",
     "output_type": "stream",
     "text": [
      "Epoch 82, Batch 6, Loss: 3.7530\n"
     ]
    },
    {
     "name": "stderr",
     "output_type": "stream",
     "text": [
      "Training Epoch 82:  90%|█████████ | 9/10 [00:01<00:00,  6.18it/s, Loss=3.6873, Avg Loss=3.6908]"
     ]
    },
    {
     "name": "stdout",
     "output_type": "stream",
     "text": [
      "Epoch 82, Batch 8, Loss: 3.6873\n"
     ]
    },
    {
     "name": "stderr",
     "output_type": "stream",
     "text": [
      "Training Epoch 82: 100%|██████████| 10/10 [00:02<00:00,  4.84it/s, Loss=3.7469, Avg Loss=3.6964]\n"
     ]
    },
    {
     "name": "stdout",
     "output_type": "stream",
     "text": [
      "Epoch 82/100 - Train Loss: 3.696435, LR: 4.81e-07, Time: 2.07s\n"
     ]
    },
    {
     "name": "stderr",
     "output_type": "stream",
     "text": [
      "Training Epoch 83:  10%|█         | 1/10 [00:00<00:06,  1.46it/s, Loss=3.8998, Avg Loss=3.8998]"
     ]
    },
    {
     "name": "stdout",
     "output_type": "stream",
     "text": [
      "Epoch 83, Batch 0, Loss: 3.8998\n"
     ]
    },
    {
     "name": "stderr",
     "output_type": "stream",
     "text": [
      "Training Epoch 83:  50%|█████     | 5/10 [00:01<00:00,  5.77it/s, Loss=3.6795, Avg Loss=3.7454]"
     ]
    },
    {
     "name": "stdout",
     "output_type": "stream",
     "text": [
      "Epoch 83, Batch 2, Loss: 3.6913\n",
      "Epoch 83, Batch 4, Loss: 3.6795\n"
     ]
    },
    {
     "name": "stderr",
     "output_type": "stream",
     "text": [
      "Training Epoch 83:  70%|███████   | 7/10 [00:01<00:00,  7.32it/s, Loss=3.7709, Avg Loss=3.7525]"
     ]
    },
    {
     "name": "stdout",
     "output_type": "stream",
     "text": [
      "Epoch 83, Batch 6, Loss: 3.7709\n"
     ]
    },
    {
     "name": "stderr",
     "output_type": "stream",
     "text": [
      "Training Epoch 83:  90%|█████████ | 9/10 [00:02<00:00,  5.02it/s, Loss=3.6927, Avg Loss=3.7329]"
     ]
    },
    {
     "name": "stdout",
     "output_type": "stream",
     "text": [
      "Epoch 83, Batch 8, Loss: 3.6321\n"
     ]
    },
    {
     "name": "stderr",
     "output_type": "stream",
     "text": [
      "Training Epoch 83: 100%|██████████| 10/10 [00:02<00:00,  4.63it/s, Loss=3.6927, Avg Loss=3.7329]\n"
     ]
    },
    {
     "name": "stdout",
     "output_type": "stream",
     "text": [
      "Epoch 83/100 - Train Loss: 3.732887, LR: 4.41e-07, Time: 2.16s\n"
     ]
    },
    {
     "name": "stderr",
     "output_type": "stream",
     "text": [
      "Training Epoch 84:  10%|█         | 1/10 [00:00<00:05,  1.54it/s, Loss=3.8615, Avg Loss=3.8615]"
     ]
    },
    {
     "name": "stdout",
     "output_type": "stream",
     "text": [
      "Epoch 84, Batch 0, Loss: 3.8615\n"
     ]
    },
    {
     "name": "stderr",
     "output_type": "stream",
     "text": [
      "Training Epoch 84:  50%|█████     | 5/10 [00:01<00:00,  6.05it/s, Loss=3.6524, Avg Loss=3.6987]"
     ]
    },
    {
     "name": "stdout",
     "output_type": "stream",
     "text": [
      "Epoch 84, Batch 2, Loss: 3.6393\n",
      "Epoch 84, Batch 4, Loss: 3.6524\n"
     ]
    },
    {
     "name": "stderr",
     "output_type": "stream",
     "text": [
      "Training Epoch 84:  70%|███████   | 7/10 [00:01<00:00,  7.50it/s, Loss=3.7198, Avg Loss=3.7277]"
     ]
    },
    {
     "name": "stdout",
     "output_type": "stream",
     "text": [
      "Epoch 84, Batch 6, Loss: 3.7269\n"
     ]
    },
    {
     "name": "stderr",
     "output_type": "stream",
     "text": [
      "Training Epoch 84:  90%|█████████ | 9/10 [00:01<00:00,  6.33it/s, Loss=3.6556, Avg Loss=3.7197]"
     ]
    },
    {
     "name": "stdout",
     "output_type": "stream",
     "text": [
      "Epoch 84, Batch 8, Loss: 3.6556\n"
     ]
    },
    {
     "name": "stderr",
     "output_type": "stream",
     "text": [
      "Training Epoch 84: 100%|██████████| 10/10 [00:02<00:00,  4.78it/s, Loss=3.7632, Avg Loss=3.7240]\n"
     ]
    },
    {
     "name": "stdout",
     "output_type": "stream",
     "text": [
      "Epoch 84/100 - Train Loss: 3.724034, LR: 4.03e-07, Time: 2.09s\n"
     ]
    },
    {
     "name": "stderr",
     "output_type": "stream",
     "text": [
      "Training Epoch 85:  10%|█         | 1/10 [00:00<00:04,  1.98it/s, Loss=3.7565, Avg Loss=3.7565]"
     ]
    },
    {
     "name": "stdout",
     "output_type": "stream",
     "text": [
      "Epoch 85, Batch 0, Loss: 3.7565\n"
     ]
    },
    {
     "name": "stderr",
     "output_type": "stream",
     "text": [
      "Training Epoch 85:  50%|█████     | 5/10 [00:01<00:00,  5.43it/s, Loss=3.6298, Avg Loss=3.7061]"
     ]
    },
    {
     "name": "stdout",
     "output_type": "stream",
     "text": [
      "Epoch 85, Batch 2, Loss: 3.7648\n",
      "Epoch 85, Batch 4, Loss: 3.6298\n"
     ]
    },
    {
     "name": "stderr",
     "output_type": "stream",
     "text": [
      "Training Epoch 85:  70%|███████   | 7/10 [00:01<00:00,  6.94it/s, Loss=3.6934, Avg Loss=3.7218]"
     ]
    },
    {
     "name": "stdout",
     "output_type": "stream",
     "text": [
      "Epoch 85, Batch 6, Loss: 3.7425\n"
     ]
    },
    {
     "name": "stderr",
     "output_type": "stream",
     "text": [
      "Training Epoch 85:  90%|█████████ | 9/10 [00:01<00:00,  7.86it/s, Loss=3.7049, Avg Loss=3.7199]"
     ]
    },
    {
     "name": "stdout",
     "output_type": "stream",
     "text": [
      "Epoch 85, Batch 8, Loss: 3.7049\n"
     ]
    },
    {
     "name": "stderr",
     "output_type": "stream",
     "text": [
      "Training Epoch 85: 100%|██████████| 10/10 [00:01<00:00,  5.09it/s, Loss=3.7704, Avg Loss=3.7249]\n",
      "Evaluating Epoch 85: 100%|██████████| 3/3 [00:00<00:00,  4.23it/s, Val Loss=3.6260]\n"
     ]
    },
    {
     "name": "stdout",
     "output_type": "stream",
     "text": [
      "\n",
      "Epoch 85/100\n",
      "Train Loss: 3.724949\n",
      "Val Loss: 3.870727\n",
      "Val Similarity: 1.3517\n",
      "Top-1 Accuracy: 0.0061\n",
      "Top-5 Accuracy: 0.0242\n",
      "Top-10 Accuracy: 0.1030\n",
      "Learning Rate: 3.67e-07\n",
      "Epoch Time: 2.69s, Total Time: 181.06s\n",
      "------------------------------------------------------------\n",
      "Checkpoint saved: ./model/checkpoints/checkpoint_epoch_85.pth\n"
     ]
    },
    {
     "name": "stderr",
     "output_type": "stream",
     "text": [
      "Training Epoch 86:  30%|███       | 3/10 [00:00<00:01,  5.17it/s, Loss=3.6745, Avg Loss=3.7050]"
     ]
    },
    {
     "name": "stdout",
     "output_type": "stream",
     "text": [
      "Epoch 86, Batch 0, Loss: 3.8453\n",
      "Epoch 86, Batch 2, Loss: 3.6745\n"
     ]
    },
    {
     "name": "stderr",
     "output_type": "stream",
     "text": [
      "Training Epoch 86:  60%|██████    | 6/10 [00:01<00:00,  5.33it/s, Loss=3.8661, Avg Loss=3.7314]"
     ]
    },
    {
     "name": "stdout",
     "output_type": "stream",
     "text": [
      "Epoch 86, Batch 4, Loss: 3.6394\n"
     ]
    },
    {
     "name": "stderr",
     "output_type": "stream",
     "text": [
      "Training Epoch 86:  70%|███████   | 7/10 [00:01<00:00,  6.09it/s, Loss=3.6796, Avg Loss=3.7335]"
     ]
    },
    {
     "name": "stdout",
     "output_type": "stream",
     "text": [
      "Epoch 86, Batch 6, Loss: 3.7999\n"
     ]
    },
    {
     "name": "stderr",
     "output_type": "stream",
     "text": [
      "Training Epoch 86: 100%|██████████| 10/10 [00:01<00:00,  5.66it/s, Loss=3.6861, Avg Loss=3.7162]\n"
     ]
    },
    {
     "name": "stdout",
     "output_type": "stream",
     "text": [
      "Epoch 86, Batch 8, Loss: 3.6078\n",
      "Epoch 86/100 - Train Loss: 3.716191, LR: 3.33e-07, Time: 1.77s\n"
     ]
    },
    {
     "name": "stderr",
     "output_type": "stream",
     "text": [
      "Training Epoch 87:  20%|██        | 2/10 [00:00<00:03,  2.65it/s, Loss=3.5577, Avg Loss=3.7297]"
     ]
    },
    {
     "name": "stdout",
     "output_type": "stream",
     "text": [
      "Epoch 87, Batch 0, Loss: 3.9016\n"
     ]
    },
    {
     "name": "stderr",
     "output_type": "stream",
     "text": [
      "Training Epoch 87:  50%|█████     | 5/10 [00:01<00:00,  6.46it/s, Loss=3.6717, Avg Loss=3.7173]"
     ]
    },
    {
     "name": "stdout",
     "output_type": "stream",
     "text": [
      "Epoch 87, Batch 2, Loss: 3.6625\n",
      "Epoch 87, Batch 4, Loss: 3.6717\n"
     ]
    },
    {
     "name": "stderr",
     "output_type": "stream",
     "text": [
      "Training Epoch 87:  70%|███████   | 7/10 [00:01<00:00,  7.81it/s, Loss=3.7493, Avg Loss=3.7345]"
     ]
    },
    {
     "name": "stdout",
     "output_type": "stream",
     "text": [
      "Epoch 87, Batch 6, Loss: 3.7493\n"
     ]
    },
    {
     "name": "stderr",
     "output_type": "stream",
     "text": [
      "Training Epoch 87: 100%|██████████| 10/10 [00:02<00:00,  4.91it/s, Loss=3.7394, Avg Loss=3.7211]\n"
     ]
    },
    {
     "name": "stdout",
     "output_type": "stream",
     "text": [
      "Epoch 87, Batch 8, Loss: 3.6299\n",
      "Epoch 87/100 - Train Loss: 3.721107, LR: 3.02e-07, Time: 2.04s\n"
     ]
    },
    {
     "name": "stderr",
     "output_type": "stream",
     "text": [
      "Training Epoch 88:  10%|█         | 1/10 [00:00<00:04,  2.07it/s, Loss=3.8604, Avg Loss=3.8604]"
     ]
    },
    {
     "name": "stdout",
     "output_type": "stream",
     "text": [
      "Epoch 88, Batch 0, Loss: 3.8604\n"
     ]
    },
    {
     "name": "stderr",
     "output_type": "stream",
     "text": [
      "Training Epoch 88:  50%|█████     | 5/10 [00:01<00:00,  5.50it/s, Loss=3.5482, Avg Loss=3.7111]"
     ]
    },
    {
     "name": "stdout",
     "output_type": "stream",
     "text": [
      "Epoch 88, Batch 2, Loss: 3.7253\n",
      "Epoch 88, Batch 4, Loss: 3.5482\n"
     ]
    },
    {
     "name": "stderr",
     "output_type": "stream",
     "text": [
      "Training Epoch 88:  90%|█████████ | 9/10 [00:01<00:00,  7.96it/s, Loss=3.7037, Avg Loss=3.7186]"
     ]
    },
    {
     "name": "stdout",
     "output_type": "stream",
     "text": [
      "Epoch 88, Batch 6, Loss: 3.7227\n",
      "Epoch 88, Batch 8, Loss: 3.7037\n"
     ]
    },
    {
     "name": "stderr",
     "output_type": "stream",
     "text": [
      "Training Epoch 88: 100%|██████████| 10/10 [00:01<00:00,  5.16it/s, Loss=3.6674, Avg Loss=3.7134]\n"
     ]
    },
    {
     "name": "stdout",
     "output_type": "stream",
     "text": [
      "Epoch 88/100 - Train Loss: 3.713450, LR: 2.72e-07, Time: 1.94s\n"
     ]
    },
    {
     "name": "stderr",
     "output_type": "stream",
     "text": [
      "Training Epoch 89:  30%|███       | 3/10 [00:00<00:01,  4.58it/s, Loss=3.6705, Avg Loss=3.6912]"
     ]
    },
    {
     "name": "stdout",
     "output_type": "stream",
     "text": [
      "Epoch 89, Batch 0, Loss: 3.8602\n",
      "Epoch 89, Batch 2, Loss: 3.6705\n"
     ]
    },
    {
     "name": "stderr",
     "output_type": "stream",
     "text": [
      "Training Epoch 89:  50%|█████     | 5/10 [00:01<00:00,  6.82it/s, Loss=3.7809, Avg Loss=3.6901]"
     ]
    },
    {
     "name": "stdout",
     "output_type": "stream",
     "text": [
      "Epoch 89, Batch 4, Loss: 3.5703\n"
     ]
    },
    {
     "name": "stderr",
     "output_type": "stream",
     "text": [
      "Training Epoch 89:  70%|███████   | 7/10 [00:01<00:00,  6.23it/s, Loss=3.7973, Avg Loss=3.7054]"
     ]
    },
    {
     "name": "stdout",
     "output_type": "stream",
     "text": [
      "Epoch 89, Batch 6, Loss: 3.7973\n"
     ]
    },
    {
     "name": "stderr",
     "output_type": "stream",
     "text": [
      "Training Epoch 89: 100%|██████████| 10/10 [00:01<00:00,  5.46it/s, Loss=3.7257, Avg Loss=3.7056]\n"
     ]
    },
    {
     "name": "stdout",
     "output_type": "stream",
     "text": [
      "Epoch 89, Batch 8, Loss: 3.6723\n",
      "Epoch 89/100 - Train Loss: 3.705581, LR: 2.45e-07, Time: 1.83s\n"
     ]
    },
    {
     "name": "stderr",
     "output_type": "stream",
     "text": [
      "Training Epoch 90:  10%|█         | 1/10 [00:00<00:04,  2.21it/s, Loss=3.6416, Avg Loss=3.7509]"
     ]
    },
    {
     "name": "stdout",
     "output_type": "stream",
     "text": [
      "Epoch 90, Batch 0, Loss: 3.8601\n"
     ]
    },
    {
     "name": "stderr",
     "output_type": "stream",
     "text": [
      "Training Epoch 90:  30%|███       | 3/10 [00:00<00:01,  4.06it/s, Loss=3.6782, Avg Loss=3.7266]"
     ]
    },
    {
     "name": "stdout",
     "output_type": "stream",
     "text": [
      "Epoch 90, Batch 2, Loss: 3.6782\n"
     ]
    },
    {
     "name": "stderr",
     "output_type": "stream",
     "text": [
      "Training Epoch 90:  50%|█████     | 5/10 [00:01<00:01,  4.95it/s, Loss=3.7576, Avg Loss=3.7245]"
     ]
    },
    {
     "name": "stdout",
     "output_type": "stream",
     "text": [
      "Epoch 90, Batch 4, Loss: 3.6381\n"
     ]
    },
    {
     "name": "stderr",
     "output_type": "stream",
     "text": [
      "Training Epoch 90:  90%|█████████ | 9/10 [00:01<00:00,  7.67it/s, Loss=3.6591, Avg Loss=3.7255]"
     ]
    },
    {
     "name": "stdout",
     "output_type": "stream",
     "text": [
      "Epoch 90, Batch 6, Loss: 3.7918\n",
      "Epoch 90, Batch 8, Loss: 3.6591\n"
     ]
    },
    {
     "name": "stderr",
     "output_type": "stream",
     "text": [
      "Training Epoch 90: 100%|██████████| 10/10 [00:01<00:00,  5.68it/s, Loss=3.7201, Avg Loss=3.7249]\n",
      "Evaluating Epoch 90: 100%|██████████| 3/3 [00:00<00:00,  3.43it/s, Val Loss=3.6274]\n"
     ]
    },
    {
     "name": "stdout",
     "output_type": "stream",
     "text": [
      "\n",
      "Epoch 90/100\n",
      "Train Loss: 3.724924\n",
      "Val Loss: 3.871360\n",
      "Val Similarity: 1.3546\n",
      "Top-1 Accuracy: 0.0061\n",
      "Top-5 Accuracy: 0.0242\n",
      "Top-10 Accuracy: 0.0970\n",
      "Learning Rate: 2.20e-07\n",
      "Epoch Time: 2.65s, Total Time: 191.75s\n",
      "------------------------------------------------------------\n",
      "Checkpoint saved: ./model/checkpoints/checkpoint_epoch_90.pth\n"
     ]
    },
    {
     "name": "stderr",
     "output_type": "stream",
     "text": [
      "Training Epoch 91:  30%|███       | 3/10 [00:00<00:01,  5.01it/s, Loss=3.5981, Avg Loss=3.6732]"
     ]
    },
    {
     "name": "stdout",
     "output_type": "stream",
     "text": [
      "Epoch 91, Batch 0, Loss: 3.8231\n",
      "Epoch 91, Batch 2, Loss: 3.5981\n"
     ]
    },
    {
     "name": "stderr",
     "output_type": "stream",
     "text": [
      "Training Epoch 91:  50%|█████     | 5/10 [00:01<00:00,  5.62it/s, Loss=3.6833, Avg Loss=3.6828]"
     ]
    },
    {
     "name": "stdout",
     "output_type": "stream",
     "text": [
      "Epoch 91, Batch 4, Loss: 3.6833\n"
     ]
    },
    {
     "name": "stderr",
     "output_type": "stream",
     "text": [
      "Training Epoch 91:  90%|█████████ | 9/10 [00:01<00:00,  6.90it/s, Loss=3.6798, Avg Loss=3.7077]"
     ]
    },
    {
     "name": "stdout",
     "output_type": "stream",
     "text": [
      "Epoch 91, Batch 6, Loss: 3.7655\n",
      "Epoch 91, Batch 8, Loss: 3.6798\n"
     ]
    },
    {
     "name": "stderr",
     "output_type": "stream",
     "text": [
      "Training Epoch 91: 100%|██████████| 10/10 [00:01<00:00,  5.64it/s, Loss=3.7771, Avg Loss=3.7147]\n"
     ]
    },
    {
     "name": "stdout",
     "output_type": "stream",
     "text": [
      "Epoch 91/100 - Train Loss: 3.714665, LR: 1.97e-07, Time: 1.78s\n"
     ]
    },
    {
     "name": "stderr",
     "output_type": "stream",
     "text": [
      "Training Epoch 92:  10%|█         | 1/10 [00:00<00:03,  2.29it/s, Loss=3.5716, Avg Loss=3.6973]"
     ]
    },
    {
     "name": "stdout",
     "output_type": "stream",
     "text": [
      "Epoch 92, Batch 0, Loss: 3.8230\n"
     ]
    },
    {
     "name": "stderr",
     "output_type": "stream",
     "text": [
      "Training Epoch 92:  30%|███       | 3/10 [00:00<00:01,  4.20it/s, Loss=3.6936, Avg Loss=3.6961]"
     ]
    },
    {
     "name": "stdout",
     "output_type": "stream",
     "text": [
      "Epoch 92, Batch 2, Loss: 3.6936\n"
     ]
    },
    {
     "name": "stderr",
     "output_type": "stream",
     "text": [
      "Training Epoch 92:  60%|██████    | 6/10 [00:01<00:00,  6.03it/s, Loss=3.7021, Avg Loss=3.7017]"
     ]
    },
    {
     "name": "stdout",
     "output_type": "stream",
     "text": [
      "Epoch 92, Batch 4, Loss: 3.5628\n"
     ]
    },
    {
     "name": "stderr",
     "output_type": "stream",
     "text": [
      "Training Epoch 92:  90%|█████████ | 9/10 [00:01<00:00,  7.76it/s, Loss=3.5863, Avg Loss=3.6829]"
     ]
    },
    {
     "name": "stdout",
     "output_type": "stream",
     "text": [
      "Epoch 92, Batch 6, Loss: 3.7021\n",
      "Epoch 92, Batch 8, Loss: 3.5863\n"
     ]
    },
    {
     "name": "stderr",
     "output_type": "stream",
     "text": [
      "Training Epoch 92: 100%|██████████| 10/10 [00:01<00:00,  6.00it/s, Loss=3.7009, Avg Loss=3.6847]\n"
     ]
    },
    {
     "name": "stdout",
     "output_type": "stream",
     "text": [
      "Epoch 92/100 - Train Loss: 3.684698, LR: 1.77e-07, Time: 1.67s\n"
     ]
    },
    {
     "name": "stderr",
     "output_type": "stream",
     "text": [
      "Training Epoch 93:  10%|█         | 1/10 [00:00<00:03,  2.33it/s, Loss=3.7532, Avg Loss=3.7532]"
     ]
    },
    {
     "name": "stdout",
     "output_type": "stream",
     "text": [
      "Epoch 93, Batch 0, Loss: 3.7532\n"
     ]
    },
    {
     "name": "stderr",
     "output_type": "stream",
     "text": [
      "Training Epoch 93:  50%|█████     | 5/10 [00:01<00:00,  5.60it/s, Loss=3.6049, Avg Loss=3.6841]"
     ]
    },
    {
     "name": "stdout",
     "output_type": "stream",
     "text": [
      "Epoch 93, Batch 2, Loss: 3.6809\n",
      "Epoch 93, Batch 4, Loss: 3.6049\n"
     ]
    },
    {
     "name": "stderr",
     "output_type": "stream",
     "text": [
      "Training Epoch 93:  70%|███████   | 7/10 [00:01<00:00,  6.99it/s, Loss=3.6785, Avg Loss=3.7102]"
     ]
    },
    {
     "name": "stdout",
     "output_type": "stream",
     "text": [
      "Epoch 93, Batch 6, Loss: 3.7594\n"
     ]
    },
    {
     "name": "stderr",
     "output_type": "stream",
     "text": [
      "Training Epoch 93:  90%|█████████ | 9/10 [00:01<00:00,  6.13it/s, Loss=3.6491, Avg Loss=3.7035]"
     ]
    },
    {
     "name": "stdout",
     "output_type": "stream",
     "text": [
      "Epoch 93, Batch 8, Loss: 3.6491\n"
     ]
    },
    {
     "name": "stderr",
     "output_type": "stream",
     "text": [
      "Training Epoch 93: 100%|██████████| 10/10 [00:02<00:00,  4.93it/s, Loss=3.7313, Avg Loss=3.7062]\n"
     ]
    },
    {
     "name": "stdout",
     "output_type": "stream",
     "text": [
      "Epoch 93/100 - Train Loss: 3.706239, LR: 1.59e-07, Time: 2.03s\n"
     ]
    },
    {
     "name": "stderr",
     "output_type": "stream",
     "text": [
      "Training Epoch 94:  30%|███       | 3/10 [00:00<00:01,  5.39it/s, Loss=3.6326, Avg Loss=3.6939]"
     ]
    },
    {
     "name": "stdout",
     "output_type": "stream",
     "text": [
      "Epoch 94, Batch 0, Loss: 3.8545\n",
      "Epoch 94, Batch 2, Loss: 3.6326\n"
     ]
    },
    {
     "name": "stderr",
     "output_type": "stream",
     "text": [
      "Training Epoch 94:  50%|█████     | 5/10 [00:00<00:00,  7.46it/s, Loss=3.6240, Avg Loss=3.6913]"
     ]
    },
    {
     "name": "stdout",
     "output_type": "stream",
     "text": [
      "Epoch 94, Batch 4, Loss: 3.6240\n"
     ]
    },
    {
     "name": "stderr",
     "output_type": "stream",
     "text": [
      "Training Epoch 94:  90%|█████████ | 9/10 [00:01<00:00,  6.41it/s, Loss=3.6881, Avg Loss=3.7079]"
     ]
    },
    {
     "name": "stdout",
     "output_type": "stream",
     "text": [
      "Epoch 94, Batch 6, Loss: 3.6808\n",
      "Epoch 94, Batch 8, Loss: 3.6881\n"
     ]
    },
    {
     "name": "stderr",
     "output_type": "stream",
     "text": [
      "Training Epoch 94: 100%|██████████| 10/10 [00:01<00:00,  5.84it/s, Loss=3.7007, Avg Loss=3.7071]\n"
     ]
    },
    {
     "name": "stdout",
     "output_type": "stream",
     "text": [
      "Epoch 94/100 - Train Loss: 3.707138, LR: 1.43e-07, Time: 1.72s\n"
     ]
    },
    {
     "name": "stderr",
     "output_type": "stream",
     "text": [
      "Training Epoch 95:  30%|███       | 3/10 [00:00<00:01,  5.71it/s, Loss=3.5809, Avg Loss=3.6750]"
     ]
    },
    {
     "name": "stdout",
     "output_type": "stream",
     "text": [
      "Epoch 95, Batch 0, Loss: 3.9123\n",
      "Epoch 95, Batch 2, Loss: 3.5809\n"
     ]
    },
    {
     "name": "stderr",
     "output_type": "stream",
     "text": [
      "Training Epoch 95:  50%|█████     | 5/10 [00:00<00:00,  8.05it/s, Loss=3.6116, Avg Loss=3.6717]"
     ]
    },
    {
     "name": "stdout",
     "output_type": "stream",
     "text": [
      "Epoch 95, Batch 4, Loss: 3.6116\n"
     ]
    },
    {
     "name": "stderr",
     "output_type": "stream",
     "text": [
      "Training Epoch 95:  90%|█████████ | 9/10 [00:01<00:00,  6.59it/s, Loss=3.6787, Avg Loss=3.6841]"
     ]
    },
    {
     "name": "stdout",
     "output_type": "stream",
     "text": [
      "Epoch 95, Batch 6, Loss: 3.6843\n",
      "Epoch 95, Batch 8, Loss: 3.6787\n"
     ]
    },
    {
     "name": "stderr",
     "output_type": "stream",
     "text": [
      "Training Epoch 95: 100%|██████████| 10/10 [00:01<00:00,  6.03it/s, Loss=3.7262, Avg Loss=3.6883]\n",
      "Evaluating Epoch 95: 100%|██████████| 3/3 [00:00<00:00,  3.54it/s, Val Loss=3.6303]\n"
     ]
    },
    {
     "name": "stdout",
     "output_type": "stream",
     "text": [
      "\n",
      "Epoch 95/100\n",
      "Train Loss: 3.688294\n",
      "Val Loss: 3.872770\n",
      "Val Similarity: 1.3613\n",
      "Top-1 Accuracy: 0.0061\n",
      "Top-5 Accuracy: 0.0242\n",
      "Top-10 Accuracy: 0.1091\n",
      "Learning Rate: 1.30e-07\n",
      "Epoch Time: 2.54s, Total Time: 201.93s\n",
      "------------------------------------------------------------\n",
      "Checkpoint saved: ./model/checkpoints/checkpoint_epoch_95.pth\n"
     ]
    },
    {
     "name": "stderr",
     "output_type": "stream",
     "text": [
      "Training Epoch 96:  30%|███       | 3/10 [00:00<00:01,  5.09it/s, Loss=3.6280, Avg Loss=3.6610]"
     ]
    },
    {
     "name": "stdout",
     "output_type": "stream",
     "text": [
      "Epoch 96, Batch 0, Loss: 3.7718\n",
      "Epoch 96, Batch 2, Loss: 3.6280\n"
     ]
    },
    {
     "name": "stderr",
     "output_type": "stream",
     "text": [
      "Training Epoch 96:  50%|█████     | 5/10 [00:00<00:00,  7.32it/s, Loss=3.7452, Avg Loss=3.6767]"
     ]
    },
    {
     "name": "stdout",
     "output_type": "stream",
     "text": [
      "Epoch 96, Batch 4, Loss: 3.6354\n"
     ]
    },
    {
     "name": "stderr",
     "output_type": "stream",
     "text": [
      "Training Epoch 96:  70%|███████   | 7/10 [00:01<00:00,  6.56it/s, Loss=3.8054, Avg Loss=3.6951]"
     ]
    },
    {
     "name": "stdout",
     "output_type": "stream",
     "text": [
      "Epoch 96, Batch 6, Loss: 3.8054\n"
     ]
    },
    {
     "name": "stderr",
     "output_type": "stream",
     "text": [
      "Training Epoch 96: 100%|██████████| 10/10 [00:01<00:00,  5.76it/s, Loss=3.7627, Avg Loss=3.7002]\n"
     ]
    },
    {
     "name": "stdout",
     "output_type": "stream",
     "text": [
      "Epoch 96, Batch 8, Loss: 3.6277\n",
      "Epoch 96/100 - Train Loss: 3.700218, LR: 1.19e-07, Time: 1.74s\n"
     ]
    },
    {
     "name": "stderr",
     "output_type": "stream",
     "text": [
      "Training Epoch 97:  30%|███       | 3/10 [00:00<00:01,  5.48it/s, Loss=3.6855, Avg Loss=3.7000]"
     ]
    },
    {
     "name": "stdout",
     "output_type": "stream",
     "text": [
      "Epoch 97, Batch 0, Loss: 3.8940\n",
      "Epoch 97, Batch 2, Loss: 3.6855\n"
     ]
    },
    {
     "name": "stderr",
     "output_type": "stream",
     "text": [
      "Training Epoch 97:  50%|█████     | 5/10 [00:01<00:01,  4.49it/s, Loss=3.8202, Avg Loss=3.7207]"
     ]
    },
    {
     "name": "stdout",
     "output_type": "stream",
     "text": [
      "Epoch 97, Batch 4, Loss: 3.6807\n"
     ]
    },
    {
     "name": "stderr",
     "output_type": "stream",
     "text": [
      "Training Epoch 97:  70%|███████   | 7/10 [00:01<00:00,  6.02it/s, Loss=3.6412, Avg Loss=3.7184]"
     ]
    },
    {
     "name": "stdout",
     "output_type": "stream",
     "text": [
      "Epoch 97, Batch 6, Loss: 3.7820\n"
     ]
    },
    {
     "name": "stderr",
     "output_type": "stream",
     "text": [
      "Training Epoch 97: 100%|██████████| 10/10 [00:01<00:00,  5.81it/s, Loss=3.7141, Avg Loss=3.7156]\n"
     ]
    },
    {
     "name": "stdout",
     "output_type": "stream",
     "text": [
      "Epoch 97, Batch 8, Loss: 3.6943\n",
      "Epoch 97/100 - Train Loss: 3.715592, LR: 1.11e-07, Time: 1.72s\n"
     ]
    },
    {
     "name": "stderr",
     "output_type": "stream",
     "text": [
      "Training Epoch 98:  10%|█         | 1/10 [00:00<00:05,  1.65it/s, Loss=3.8494, Avg Loss=3.8494]"
     ]
    },
    {
     "name": "stdout",
     "output_type": "stream",
     "text": [
      "Epoch 98, Batch 0, Loss: 3.8494\n"
     ]
    },
    {
     "name": "stderr",
     "output_type": "stream",
     "text": [
      "Training Epoch 98:  50%|█████     | 5/10 [00:01<00:00,  6.19it/s, Loss=3.6388, Avg Loss=3.6895]"
     ]
    },
    {
     "name": "stdout",
     "output_type": "stream",
     "text": [
      "Epoch 98, Batch 2, Loss: 3.6290\n",
      "Epoch 98, Batch 4, Loss: 3.6388\n"
     ]
    },
    {
     "name": "stderr",
     "output_type": "stream",
     "text": [
      "Training Epoch 98:  70%|███████   | 7/10 [00:01<00:00,  7.62it/s, Loss=3.6701, Avg Loss=3.7063]"
     ]
    },
    {
     "name": "stdout",
     "output_type": "stream",
     "text": [
      "Epoch 98, Batch 6, Loss: 3.7882\n"
     ]
    },
    {
     "name": "stderr",
     "output_type": "stream",
     "text": [
      "Training Epoch 98:  90%|█████████ | 9/10 [00:01<00:00,  6.40it/s, Loss=3.5859, Avg Loss=3.6930]"
     ]
    },
    {
     "name": "stdout",
     "output_type": "stream",
     "text": [
      "Epoch 98, Batch 8, Loss: 3.5859\n"
     ]
    },
    {
     "name": "stderr",
     "output_type": "stream",
     "text": [
      "Training Epoch 98: 100%|██████████| 10/10 [00:02<00:00,  4.88it/s, Loss=3.7671, Avg Loss=3.7004]\n"
     ]
    },
    {
     "name": "stdout",
     "output_type": "stream",
     "text": [
      "Epoch 98/100 - Train Loss: 3.700370, LR: 1.05e-07, Time: 2.05s\n"
     ]
    },
    {
     "name": "stderr",
     "output_type": "stream",
     "text": [
      "Training Epoch 99:  10%|█         | 1/10 [00:00<00:06,  1.33it/s, Loss=3.5686, Avg Loss=3.7095]"
     ]
    },
    {
     "name": "stdout",
     "output_type": "stream",
     "text": [
      "Epoch 99, Batch 0, Loss: 3.8504\n"
     ]
    },
    {
     "name": "stderr",
     "output_type": "stream",
     "text": [
      "Training Epoch 99:  50%|█████     | 5/10 [00:01<00:00,  5.96it/s, Loss=3.6822, Avg Loss=3.7002]"
     ]
    },
    {
     "name": "stdout",
     "output_type": "stream",
     "text": [
      "Epoch 99, Batch 2, Loss: 3.6051\n",
      "Epoch 99, Batch 4, Loss: 3.6822\n"
     ]
    },
    {
     "name": "stderr",
     "output_type": "stream",
     "text": [
      "Training Epoch 99:  80%|████████  | 8/10 [00:01<00:00,  6.92it/s, Loss=3.6797, Avg Loss=3.7160]"
     ]
    },
    {
     "name": "stdout",
     "output_type": "stream",
     "text": [
      "Epoch 99, Batch 6, Loss: 3.7742\n"
     ]
    },
    {
     "name": "stderr",
     "output_type": "stream",
     "text": [
      "Training Epoch 99: 100%|██████████| 10/10 [00:02<00:00,  5.64it/s, Loss=3.7245, Avg Loss=3.7117]"
     ]
    },
    {
     "name": "stdout",
     "output_type": "stream",
     "text": [
      "Epoch 99, Batch 8, Loss: 3.6638\n"
     ]
    },
    {
     "name": "stderr",
     "output_type": "stream",
     "text": [
      "Training Epoch 99: 100%|██████████| 10/10 [00:02<00:00,  4.69it/s, Loss=3.7245, Avg Loss=3.7117]\n"
     ]
    },
    {
     "name": "stdout",
     "output_type": "stream",
     "text": [
      "Epoch 99/100 - Train Loss: 3.711666, LR: 1.01e-07, Time: 2.14s\n"
     ]
    },
    {
     "name": "stderr",
     "output_type": "stream",
     "text": [
      "Training Epoch 100:  10%|█         | 1/10 [00:00<00:04,  2.03it/s, Loss=3.5620, Avg Loss=3.7002]"
     ]
    },
    {
     "name": "stdout",
     "output_type": "stream",
     "text": [
      "Epoch 100, Batch 0, Loss: 3.8384\n"
     ]
    },
    {
     "name": "stderr",
     "output_type": "stream",
     "text": [
      "Training Epoch 100:  30%|███       | 3/10 [00:00<00:01,  3.95it/s, Loss=3.6706, Avg Loss=3.6903]"
     ]
    },
    {
     "name": "stdout",
     "output_type": "stream",
     "text": [
      "Epoch 100, Batch 2, Loss: 3.6706\n"
     ]
    },
    {
     "name": "stderr",
     "output_type": "stream",
     "text": [
      "Training Epoch 100:  70%|███████   | 7/10 [00:01<00:00,  6.50it/s, Loss=3.8056, Avg Loss=3.7341]"
     ]
    },
    {
     "name": "stdout",
     "output_type": "stream",
     "text": [
      "Epoch 100, Batch 4, Loss: 3.7284\n",
      "Epoch 100, Batch 6, Loss: 3.8056\n"
     ]
    },
    {
     "name": "stderr",
     "output_type": "stream",
     "text": [
      "Training Epoch 100: 100%|██████████| 10/10 [00:01<00:00,  5.66it/s, Loss=3.6861, Avg Loss=3.7108]\n"
     ]
    },
    {
     "name": "stdout",
     "output_type": "stream",
     "text": [
      "Epoch 100, Batch 8, Loss: 3.6236\n"
     ]
    },
    {
     "name": "stderr",
     "output_type": "stream",
     "text": [
      "Evaluating Epoch 100: 100%|██████████| 3/3 [00:00<00:00,  3.37it/s, Val Loss=3.6293]\n"
     ]
    },
    {
     "name": "stdout",
     "output_type": "stream",
     "text": [
      "\n",
      "Epoch 100/100\n",
      "Train Loss: 3.710764\n",
      "Val Loss: 3.873716\n",
      "Val Similarity: 1.3534\n",
      "Top-1 Accuracy: 0.0061\n",
      "Top-5 Accuracy: 0.0242\n",
      "Top-10 Accuracy: 0.0970\n",
      "Learning Rate: 1.00e-07\n",
      "Epoch Time: 2.69s, Total Time: 212.82s\n",
      "------------------------------------------------------------\n",
      "Checkpoint saved: ./model/checkpoints/checkpoint_epoch_100.pth\n",
      "\n",
      "Training completed!\n",
      "Total training time: 0.06 hours\n"
     ]
    }
   ],
   "source": [
    "# Cell 17: Training Loop\n",
    "# Training history for plotting\n",
    "train_history = {\n",
    "    'epochs': [],\n",
    "    'train_losses': [],\n",
    "    'val_losses': [],\n",
    "    'val_similarities': [],\n",
    "    'val_top1_acc': [],\n",
    "    'val_top5_acc': [],\n",
    "    'val_top10_acc': [],\n",
    "    'learning_rates': []\n",
    "}\n",
    "\n",
    "best_val_loss = float('inf')\n",
    "start_time = time.time()\n",
    "\n",
    "print(\"Starting training...\")\n",
    "print(\"=\" * 60)\n",
    "\n",
    "for epoch in range(1, epochs + 1):\n",
    "    epoch_start_time = time.time()\n",
    "    \n",
    "    # Training phase\n",
    "    train_loss, batch_losses = train_epoch(\n",
    "        model, train_loader, criterion, optimizer, DEVICE, epoch\n",
    "    )\n",
    "    \n",
    "    # Validation phase (every n epochs)\n",
    "    if epoch % eval_every_n_epochs == 0:\n",
    "        val_loss, val_similarity, val_metrics = evaluate_model(\n",
    "            model, val_loader, criterion, DEVICE, epoch\n",
    "        )\n",
    "        \n",
    "        # Update learning rate\n",
    "        scheduler.step()\n",
    "        current_lr = optimizer.param_groups[0]['lr']\n",
    "        \n",
    "        # Log results\n",
    "        epoch_time = time.time() - epoch_start_time\n",
    "        total_time = time.time() - start_time\n",
    "        \n",
    "        print(f\"\\nEpoch {epoch}/{epochs}\")\n",
    "        print(f\"Train Loss: {train_loss:.6f}\")\n",
    "        print(f\"Val Loss: {val_loss:.6f}\")\n",
    "        print(f\"Val Similarity: {val_similarity:.4f}\")\n",
    "        print(f\"Top-1 Accuracy: {val_metrics['top_1_accuracy']:.4f}\")\n",
    "        print(f\"Top-5 Accuracy: {val_metrics['top_5_accuracy']:.4f}\")\n",
    "        print(f\"Top-10 Accuracy: {val_metrics['top_10_accuracy']:.4f}\")\n",
    "        print(f\"Learning Rate: {current_lr:.2e}\")\n",
    "        print(f\"Epoch Time: {epoch_time:.2f}s, Total Time: {total_time:.2f}s\")\n",
    "        print(\"-\" * 60)\n",
    "        \n",
    "        # Store history - convert numpy types to Python native types\n",
    "        train_history['epochs'].append(int(epoch))\n",
    "        train_history['train_losses'].append(float(train_loss))\n",
    "        train_history['val_losses'].append(float(val_loss))\n",
    "        train_history['val_similarities'].append(float(val_similarity))\n",
    "        train_history['val_top1_acc'].append(float(val_metrics['top_1_accuracy']))\n",
    "        train_history['val_top5_acc'].append(float(val_metrics['top_5_accuracy']))\n",
    "        train_history['val_top10_acc'].append(float(val_metrics['top_10_accuracy']))\n",
    "        train_history['learning_rates'].append(float(current_lr))\n",
    "        \n",
    "        # Save checkpoint\n",
    "        save_checkpoint(\n",
    "            model, optimizer, scheduler, epoch, \n",
    "            train_loss, val_loss, val_metrics, checkpoint_dir\n",
    "        )\n",
    "        \n",
    "        # Save training history with error handling\n",
    "        history_path = os.path.join(OUTPUT_DIR, 'training_history.json')\n",
    "        try:\n",
    "            with open(history_path, 'w') as f:\n",
    "                json.dump(train_history, f, indent=2)\n",
    "        except TypeError as e:\n",
    "            print(f\"Warning: Could not save training history to JSON: {e}\")\n",
    "            # Alternative: save as pickle\n",
    "            import pickle\n",
    "            pickle_path = os.path.join(OUTPUT_DIR, 'training_history.pkl')\n",
    "            with open(pickle_path, 'wb') as f:\n",
    "                pickle.dump(train_history, f)\n",
    "            print(f\"Training history saved as pickle: {pickle_path}\")\n",
    "    \n",
    "    else:\n",
    "        # Just update learning rate and log basic info\n",
    "        scheduler.step()\n",
    "        current_lr = optimizer.param_groups[0]['lr']\n",
    "        epoch_time = time.time() - epoch_start_time\n",
    "        \n",
    "        print(f\"Epoch {epoch}/{epochs} - Train Loss: {train_loss:.6f}, LR: {current_lr:.2e}, Time: {epoch_time:.2f}s\")\n",
    "\n",
    "print(\"\\nTraining completed!\")\n",
    "print(f\"Total training time: {(time.time() - start_time)/3600:.2f} hours\")"
   ]
  },
  {
   "cell_type": "code",
   "execution_count": 29,
   "id": "a6682efa",
   "metadata": {},
   "outputs": [
    {
     "data": {
      "image/png": "[encoded data removed]",
      "text/plain": [
       "<Figure size 1800x1200 with 6 Axes>"
      ]
     },
     "metadata": {},
     "output_type": "display_data"
    },
    {
     "name": "stdout",
     "output_type": "stream",
     "text": [
      "Training plots saved!\n"
     ]
    }
   ],
   "source": [
    "# Cell 18: Plot Training Results\n",
    "def plot_training_results(train_history, output_dir):\n",
    "    \"\"\"Plot comprehensive training results\"\"\"\n",
    "    \n",
    "    fig, axes = plt.subplots(2, 3, figsize=(18, 12))\n",
    "    \n",
    "    epochs = train_history['epochs']\n",
    "    \n",
    "    # Loss plot\n",
    "    axes[0, 0].plot(epochs, train_history['train_losses'], 'b-', label='Train Loss', linewidth=2)\n",
    "    axes[0, 0].plot(epochs, train_history['val_losses'], 'r-', label='Val Loss', linewidth=2)\n",
    "    axes[0, 0].set_xlabel('Epoch')\n",
    "    axes[0, 0].set_ylabel('Loss')\n",
    "    axes[0, 0].set_title('Training and Validation Loss')\n",
    "    axes[0, 0].legend()\n",
    "    axes[0, 0].grid(True, alpha=0.3)\n",
    "    \n",
    "    # Cosine similarity plot\n",
    "    axes[0, 1].plot(epochs, train_history['val_similarities'], 'g-', linewidth=2)\n",
    "    axes[0, 1].set_xlabel('Epoch')\n",
    "    axes[0, 1].set_ylabel('Cosine Similarity')\n",
    "    axes[0, 1].set_title('Validation Cosine Similarity')\n",
    "    axes[0, 1].grid(True, alpha=0.3)\n",
    "    \n",
    "    # Top-K accuracy plot\n",
    "    axes[0, 2].plot(epochs, train_history['val_top1_acc'], 'purple', label='Top-1', linewidth=2)\n",
    "    axes[0, 2].plot(epochs, train_history['val_top5_acc'], 'orange', label='Top-5', linewidth=2)\n",
    "    axes[0, 2].plot(epochs, train_history['val_top10_acc'], 'brown', label='Top-10', linewidth=2)\n",
    "    axes[0, 2].set_xlabel('Epoch')\n",
    "    axes[0, 2].set_ylabel('Accuracy')\n",
    "    axes[0, 2].set_title('Top-K Retrieval Accuracy')\n",
    "    axes[0, 2].legend()\n",
    "    axes[0, 2].grid(True, alpha=0.3)\n",
    "    \n",
    "    # Learning rate plot\n",
    "    axes[1, 0].semilogy(epochs, train_history['learning_rates'], 'c-', linewidth=2)\n",
    "    axes[1, 0].set_xlabel('Epoch')\n",
    "    axes[1, 0].set_ylabel('Learning Rate (log scale)')\n",
    "    axes[1, 0].set_title('Learning Rate Schedule')\n",
    "    axes[1, 0].grid(True, alpha=0.3)\n",
    "    \n",
    "    # Loss ratio plot\n",
    "    loss_ratios = [val/train for val, train in zip(train_history['val_losses'], train_history['train_losses'])]\n",
    "    axes[1, 1].plot(epochs, loss_ratios, 'm-', linewidth=2)\n",
    "    axes[1, 1].axhline(y=1.0, color='k', linestyle='--', alpha=0.5)\n",
    "    axes[1, 1].set_xlabel('Epoch')\n",
    "    axes[1, 1].set_ylabel('Val Loss / Train Loss')\n",
    "    axes[1, 1].set_title('Overfitting Monitor')\n",
    "    axes[1, 1].grid(True, alpha=0.3)\n",
    "    \n",
    "    # Summary statistics\n",
    "    axes[1, 2].axis('off')\n",
    "    \n",
    "    best_epoch = epochs[np.argmin(train_history['val_losses'])]\n",
    "    best_val_loss = min(train_history['val_losses'])\n",
    "    best_similarity = max(train_history['val_similarities'])\n",
    "    best_top1 = max(train_history['val_top1_acc'])\n",
    "    \n",
    "    summary_text = f\"\"\"\n",
    "Training Summary:\n",
    "\n",
    "Best Validation Loss: {best_val_loss:.6f}\n",
    "Best Epoch: {best_epoch}\n",
    "Best Cosine Similarity: {best_similarity:.4f}\n",
    "Best Top-1 Accuracy: {best_top1:.4f}\n",
    "\n",
    "Final Metrics:\n",
    "Final Train Loss: {train_history['train_losses'][-1]:.6f}\n",
    "Final Val Loss: {train_history['val_losses'][-1]:.6f}\n",
    "Final Similarity: {train_history['val_similarities'][-1]:.4f}\n",
    "Final Top-1 Acc: {train_history['val_top1_acc'][-1]:.4f}\n",
    "\n",
    "Total Epochs: {len(epochs)}\n",
    "\"\"\"\n",
    "    \n",
    "    axes[1, 2].text(0.1, 0.9, summary_text, transform=axes[1, 2].transAxes, \n",
    "                    fontsize=12, verticalalignment='top', fontfamily='monospace',\n",
    "                    bbox=dict(boxstyle=\"round,pad=0.3\", facecolor=\"lightgray\", alpha=0.5))\n",
    "    \n",
    "    plt.tight_layout()\n",
    "    plt.savefig(os.path.join(output_dir, 'training_results.png'), dpi=300, bbox_inches='tight')\n",
    "    plt.show()\n",
    "\n",
    "# Plot the training results\n",
    "if len(train_history['epochs']) > 0:\n",
    "    plot_training_results(train_history, OUTPUT_DIR)\n",
    "    print(\"Training plots saved!\")\n",
    "else:\n",
    "    print(\"No training history to plot. Make sure to run at least one evaluation epoch.\")"
   ]
  }
 ],
 "metadata": {
  "kernelspec": {
   "display_name": "CSU-MS2",
   "language": "python",
   "name": "python3"
  },
  "language_info": {
   "codemirror_mode": {
    "name": "ipython",
    "version": 3
   },
   "file_extension": ".py",
   "mimetype": "text/x-python",
   "name": "python",
   "nbconvert_exporter": "python",
   "pygments_lexer": "ipython3",
   "version": "3.8.18"
  }
 },
 "nbformat": 4,
 "nbformat_minor": 5
}
