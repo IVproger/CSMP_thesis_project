{
 "cells": [
  {
   "cell_type": "code",
   "execution_count": 1,
   "id": "9b03b062",
   "metadata": {},
   "outputs": [
    {
     "name": "stdout",
     "output_type": "stream",
     "text": [
      "Libraries imported successfully!\n"
     ]
    }
   ],
   "source": [
    "# Cell 1: Import required libraries\n",
    "import os\n",
    "import yaml\n",
    "import torch\n",
    "import numpy as np\n",
    "import pandas as pd\n",
    "from tqdm import tqdm\n",
    "import matplotlib.pyplot as plt\n",
    "import warnings\n",
    "warnings.filterwarnings('ignore')\n",
    "\n",
    "# Import your model and data loading components\n",
    "from dataloader.dataset_wrapper import create_wrapper_from_dataframe\n",
    "\n",
    "print(\"Libraries imported successfully!\")"
   ]
  },
  {
   "cell_type": "code",
   "execution_count": 3,
   "id": "5dcf179c",
   "metadata": {},
   "outputs": [
    {
     "name": "stdout",
     "output_type": "stream",
     "text": [
      "Using MPS (Metal Performance Shaders) for GPU acceleration\n",
      "Using device: mps\n",
      "Validation data path: /Users/ivangolov/Desktop/Диплом/CSMP_project/CSMP_spectrum_database/data/production/train_deduplicated.csv\n"
     ]
    }
   ],
   "source": [
    "# Cell 2: Configuration and paths setup\n",
    "CONFIG_PATH = \"/Users/ivangolov/Desktop/Диплом/CSMP_project/CSMP_thesis_project/services/CSU-MS2/model/qtof_model/median_energy/checkpoints/config.yaml\"\n",
    "TRAIN_CSV_PATH = \"/Users/ivangolov/Desktop/Диплом/CSMP_project/CSMP_spectrum_database/data/production/train_deduplicated.csv\"\n",
    "OUTPUT_DIR = \"./train_results\"\n",
    "\n",
    "# Device selection for Mac\n",
    "if torch.backends.mps.is_available():\n",
    "    DEVICE = 'mps'\n",
    "    print(\"Using MPS (Metal Performance Shaders) for GPU acceleration\")\n",
    "elif torch.cuda.is_available():\n",
    "    DEVICE = 'cuda'\n",
    "    print(\"Using CUDA for GPU acceleration\")\n",
    "else:\n",
    "    DEVICE = 'cpu'\n",
    "    print(\"Using CPU\")\n",
    "\n",
    "# Create output directory\n",
    "os.makedirs(OUTPUT_DIR, exist_ok=True)\n",
    "\n",
    "print(f\"Using device: {DEVICE}\")\n",
    "print(f\"Validation data path: {TRAIN_CSV_PATH}\")"
   ]
  },
  {
   "cell_type": "code",
   "execution_count": 4,
   "id": "d38c5767",
   "metadata": {},
   "outputs": [
    {
     "name": "stdout",
     "output_type": "stream",
     "text": [
      "Loading configuration...\n",
      "Configuration loaded:\n",
      "- Batch size: 64\n",
      "- Model config keys: []\n",
      "- Loss config: {'temperature': 0.1, 'use_cosine_similarity': True, 'alpha_weight': 0.75}\n"
     ]
    }
   ],
   "source": [
    "# Cell 3: Load configuration\n",
    "print(\"Loading configuration...\")\n",
    "config = yaml.load(open(CONFIG_PATH, \"r\"), Loader=yaml.FullLoader)\n",
    "\n",
    "print(\"Configuration loaded:\")\n",
    "print(f\"- Batch size: {config.get('batch_size', 'Not specified')}\")\n",
    "print(f\"- Model config keys: {list(config.get('model', {}).keys())}\")\n",
    "print(f\"- Loss config: {config.get('loss', {})}\")"
   ]
  },
  {
   "cell_type": "code",
   "execution_count": 5,
   "id": "dd12ab82",
   "metadata": {},
   "outputs": [
    {
     "name": "stdout",
     "output_type": "stream",
     "text": [
      "Loading train data...\n",
      "Validation dataset shape: (798444, 10)\n",
      "Columns: ['peaks_json', 'ion_source', 'compound_source', 'instrument', 'adduct', 'precursor_mz', 'smiles', 'inchikey', 'ion_mode', 'molecular_formula']\n",
      "Sample data:\n"
     ]
    },
    {
     "data": {
      "text/html": [
       "<div>\n",
       "<style scoped>\n",
       "    .dataframe tbody tr th:only-of-type {\n",
       "        vertical-align: middle;\n",
       "    }\n",
       "\n",
       "    .dataframe tbody tr th {\n",
       "        vertical-align: top;\n",
       "    }\n",
       "\n",
       "    .dataframe thead th {\n",
       "        text-align: right;\n",
       "    }\n",
       "</style>\n",
       "<table border=\"1\" class=\"dataframe\">\n",
       "  <thead>\n",
       "    <tr style=\"text-align: right;\">\n",
       "      <th></th>\n",
       "      <th>peaks_json</th>\n",
       "      <th>ion_source</th>\n",
       "      <th>compound_source</th>\n",
       "      <th>instrument</th>\n",
       "      <th>adduct</th>\n",
       "      <th>precursor_mz</th>\n",
       "      <th>smiles</th>\n",
       "      <th>inchikey</th>\n",
       "      <th>ion_mode</th>\n",
       "      <th>molecular_formula</th>\n",
       "    </tr>\n",
       "  </thead>\n",
       "  <tbody>\n",
       "    <tr>\n",
       "      <th>0</th>\n",
       "      <td>[[42.014248, 0.10199999999999998], [42.26601, ...</td>\n",
       "      <td>ESI</td>\n",
       "      <td>Crude</td>\n",
       "      <td>Orbitrap</td>\n",
       "      <td>[M+H]+</td>\n",
       "      <td>377.186</td>\n",
       "      <td>CC12CCC(C(=O)N(CNc3cc4c(cc3)c3ccccc3o4)C1=O)C2...</td>\n",
       "      <td>RNKMIWQDRWSWCD-UHFFFAOYSA-N</td>\n",
       "      <td>Positive</td>\n",
       "      <td>C23H24N2O3</td>\n",
       "    </tr>\n",
       "    <tr>\n",
       "      <th>1</th>\n",
       "      <td>[[49.01717, 0.155], [49.020023, 0.253], [67.05...</td>\n",
       "      <td>ESI</td>\n",
       "      <td>Crude</td>\n",
       "      <td>Orbitrap</td>\n",
       "      <td>[M+H]+</td>\n",
       "      <td>377.186</td>\n",
       "      <td>CC12CCC(C(=O)N(CNc3cc4c(cc3)c3ccccc3o4)C1=O)C2...</td>\n",
       "      <td>RNKMIWQDRWSWCD-UHFFFAOYSA-N</td>\n",
       "      <td>Positive</td>\n",
       "      <td>C23H24N2O3</td>\n",
       "    </tr>\n",
       "    <tr>\n",
       "      <th>2</th>\n",
       "      <td>[[49.017338, 0.242], [49.020237, 0.181], [67.0...</td>\n",
       "      <td>ESI</td>\n",
       "      <td>Crude</td>\n",
       "      <td>Orbitrap</td>\n",
       "      <td>[M+H]+</td>\n",
       "      <td>377.186</td>\n",
       "      <td>CC12CCC(C(=O)N(CNc3cc4c(cc3)c3ccccc3o4)C1=O)C2...</td>\n",
       "      <td>RNKMIWQDRWSWCD-UHFFFAOYSA-N</td>\n",
       "      <td>Positive</td>\n",
       "      <td>C23H24N2O3</td>\n",
       "    </tr>\n",
       "    <tr>\n",
       "      <th>3</th>\n",
       "      <td>[[49.01701, 0.144], [49.019947, 0.244], [139.0...</td>\n",
       "      <td>ESI</td>\n",
       "      <td>Crude</td>\n",
       "      <td>Orbitrap</td>\n",
       "      <td>[M+H]+</td>\n",
       "      <td>377.186</td>\n",
       "      <td>CC12CCC(C(=O)N(CNc3cc4c(cc3)c3ccccc3o4)C1=O)C2...</td>\n",
       "      <td>RNKMIWQDRWSWCD-UHFFFAOYSA-N</td>\n",
       "      <td>Positive</td>\n",
       "      <td>C23H24N2O3</td>\n",
       "    </tr>\n",
       "    <tr>\n",
       "      <th>4</th>\n",
       "      <td>[[49.017166, 0.155], [49.020008, 0.253], [139....</td>\n",
       "      <td>ESI</td>\n",
       "      <td>Crude</td>\n",
       "      <td>Orbitrap</td>\n",
       "      <td>[M+H]+</td>\n",
       "      <td>377.186</td>\n",
       "      <td>CC12CCC(C(=O)N(CNc3cc4c(cc3)c3ccccc3o4)C1=O)C2...</td>\n",
       "      <td>RNKMIWQDRWSWCD-UHFFFAOYSA-N</td>\n",
       "      <td>Positive</td>\n",
       "      <td>C23H24N2O3</td>\n",
       "    </tr>\n",
       "  </tbody>\n",
       "</table>\n",
       "</div>"
      ],
      "text/plain": [
       "                                          peaks_json ion_source  \\\n",
       "0  [[42.014248, 0.10199999999999998], [42.26601, ...        ESI   \n",
       "1  [[49.01717, 0.155], [49.020023, 0.253], [67.05...        ESI   \n",
       "2  [[49.017338, 0.242], [49.020237, 0.181], [67.0...        ESI   \n",
       "3  [[49.01701, 0.144], [49.019947, 0.244], [139.0...        ESI   \n",
       "4  [[49.017166, 0.155], [49.020008, 0.253], [139....        ESI   \n",
       "\n",
       "  compound_source instrument  adduct  precursor_mz  \\\n",
       "0           Crude   Orbitrap  [M+H]+       377.186   \n",
       "1           Crude   Orbitrap  [M+H]+       377.186   \n",
       "2           Crude   Orbitrap  [M+H]+       377.186   \n",
       "3           Crude   Orbitrap  [M+H]+       377.186   \n",
       "4           Crude   Orbitrap  [M+H]+       377.186   \n",
       "\n",
       "                                              smiles  \\\n",
       "0  CC12CCC(C(=O)N(CNc3cc4c(cc3)c3ccccc3o4)C1=O)C2...   \n",
       "1  CC12CCC(C(=O)N(CNc3cc4c(cc3)c3ccccc3o4)C1=O)C2...   \n",
       "2  CC12CCC(C(=O)N(CNc3cc4c(cc3)c3ccccc3o4)C1=O)C2...   \n",
       "3  CC12CCC(C(=O)N(CNc3cc4c(cc3)c3ccccc3o4)C1=O)C2...   \n",
       "4  CC12CCC(C(=O)N(CNc3cc4c(cc3)c3ccccc3o4)C1=O)C2...   \n",
       "\n",
       "                      inchikey  ion_mode molecular_formula  \n",
       "0  RNKMIWQDRWSWCD-UHFFFAOYSA-N  Positive        C23H24N2O3  \n",
       "1  RNKMIWQDRWSWCD-UHFFFAOYSA-N  Positive        C23H24N2O3  \n",
       "2  RNKMIWQDRWSWCD-UHFFFAOYSA-N  Positive        C23H24N2O3  \n",
       "3  RNKMIWQDRWSWCD-UHFFFAOYSA-N  Positive        C23H24N2O3  \n",
       "4  RNKMIWQDRWSWCD-UHFFFAOYSA-N  Positive        C23H24N2O3  "
      ]
     },
     "execution_count": 5,
     "metadata": {},
     "output_type": "execute_result"
    }
   ],
   "source": [
    "# Cell 4: Load and explore validation data\n",
    "print(\"Loading train data...\")\n",
    "df_train = pd.read_csv(TRAIN_CSV_PATH)\n",
    "\n",
    "print(f\"Validation dataset shape: {df_train.shape}\")\n",
    "print(f\"Columns: {list(df_train.columns)}\")\n",
    "print(f\"Sample data:\")\n",
    "df_train.head()"
   ]
  },
  {
   "cell_type": "code",
   "execution_count": 6,
   "id": "5fda3e4a",
   "metadata": {},
   "outputs": [],
   "source": [
    "df_train_sample = df_train.sample(n=10000,random_state=42).reset_index(drop=True)"
   ]
  },
  {
   "cell_type": "code",
   "execution_count": 6,
   "id": "3829c1a8",
   "metadata": {},
   "outputs": [
    {
     "name": "stdout",
     "output_type": "stream",
     "text": [
      "Preparing data loaders\n",
      "Convert DataFrame to compatible files\n",
      "Processed 10000 valid spectra out of 10000 total entries.\n",
      "Create data wrapper\n",
      "calculating molecular graphs\n"
     ]
    },
    {
     "name": "stderr",
     "output_type": "stream",
     "text": [
      "  2%|▏         | 168/8000 [00:00<00:04, 1669.71it/s]"
     ]
    },
    {
     "name": "stdout",
     "output_type": "stream",
     "text": [
      "SMILES [Cl-].O=C1C=2C=C(C(O)=C(C2OC(=C1C=3C=CC=4OCCOC4C3)C)C[NH+](C)C)CCC calculation failure\n",
      "SMILES [Na+].O=C(CCCCCCCCCCC)CC(O)S(=O)(=O)[O-] calculation failure\n",
      "SMILES [I-].O=C(OCC1=CC[N+]2(C)CCC(O)C12)C(O)(C(O)C)C(C)C calculation failure\n"
     ]
    },
    {
     "name": "stderr",
     "output_type": "stream",
     "text": [
      "  4%|▍         | 341/8000 [00:00<00:04, 1699.79it/s]"
     ]
    },
    {
     "name": "stdout",
     "output_type": "stream",
     "text": [
      "SMILES [Cl-].O=C1C2=CC=C(O)C(=C2OC(=C1C=3C=CC=4OCCCOC4C3)C)C[NH+](C)C calculation failure\n"
     ]
    },
    {
     "name": "stderr",
     "output_type": "stream",
     "text": [
      " 13%|█▎        | 1024/8000 [00:00<00:04, 1674.40it/s]"
     ]
    },
    {
     "name": "stdout",
     "output_type": "stream",
     "text": [
      "SMILES [Cl-].O=C1C(=COC2=C1C=C(C(O)=C2C[NH+](C)C)CC)C=3C=CC=4OCCOC4C3 calculation failure\n"
     ]
    },
    {
     "name": "stderr",
     "output_type": "stream",
     "text": [
      " 21%|██▏       | 1714/8000 [00:01<00:03, 1706.41it/s]"
     ]
    },
    {
     "name": "stdout",
     "output_type": "stream",
     "text": [
      "SMILES [K+].[K+].O=C([O-])C1OC(OC2C(OC(C(=O)[O-])C(O)C2O)OC3CCC4(C)C5C(=O)C=C6C7CC(C(=O)O)(C)CCC7(C)CCC6(C)C5(C)CCC4C3(C)C)C(O)C(O)C1O calculation failure\n",
      "SMILES [I-].O=C(OCC1=CC[N+]2(C)CCC(O)C12)C(O)(C(O)C)C(C)C calculation failure\n"
     ]
    },
    {
     "name": "stderr",
     "output_type": "stream",
     "text": [
      " 28%|██▊       | 2224/8000 [00:01<00:03, 1670.49it/s]"
     ]
    },
    {
     "name": "stdout",
     "output_type": "stream",
     "text": [
      "SMILES [Na+].O=C(CCCCCCCCCCC)CC(O)S(=O)(=O)[O-] calculation failure\n"
     ]
    },
    {
     "name": "stderr",
     "output_type": "stream",
     "text": [
      " 40%|████      | 3231/8000 [00:01<00:02, 1660.80it/s]"
     ]
    },
    {
     "name": "stdout",
     "output_type": "stream",
     "text": [
      "SMILES [K+].O=C([O-])C12CCC(C(=C)C)C2C3CCC4C5(C)CCC(=O)C(C)(C)C5CCC4(C)C3(C)CC1 calculation failure\n"
     ]
    },
    {
     "name": "stderr",
     "output_type": "stream",
     "text": [
      " 55%|█████▍    | 4392/8000 [00:02<00:02, 1649.85it/s]"
     ]
    },
    {
     "name": "stdout",
     "output_type": "stream",
     "text": [
      "SMILES [Br-].O=C(OC1CC2C3OC3C(C1)[N+]2(C)CCCC)C(C=4C=CC=CC4)CO calculation failure\n",
      "SMILES [Cl-].OC=1C=C(O)C=2C=C(OC3OC(CO)C(O)C(O)C3O)C(=[O+]C2C1)C=4C=CC(O)=C(O)C4 calculation failure\n",
      "SMILES [Na+].O=C(CCCCCCCCCCC)CC(O)S(=O)(=O)[O-] calculation failure\n",
      "SMILES [Cl-].O=C1C2=CC=C(O)C(=C2OC(=C1C=3C=CC=4OCCCOC4C3)C)C[NH+](C)C calculation failure\n"
     ]
    },
    {
     "name": "stderr",
     "output_type": "stream",
     "text": [
      " 61%|██████    | 4880/8000 [00:02<00:02, 1558.93it/s]"
     ]
    },
    {
     "name": "stdout",
     "output_type": "stream",
     "text": [
      "SMILES [Na+].O=P([O-])(O)OCC1OC(N2C=NC=3C(=NC=NC32)N)C(O)C1O calculation failure\n"
     ]
    },
    {
     "name": "stderr",
     "output_type": "stream",
     "text": [
      " 79%|███████▉  | 6306/8000 [00:03<00:01, 1237.81it/s]"
     ]
    },
    {
     "name": "stdout",
     "output_type": "stream",
     "text": [
      "SMILES [Cl-].O=C(O)C=1C=CC=CC1C=2C=3C=CC(=CC3OC4=CC(C=CC42)=[N+](CC)CC)N(CC)CC calculation failure\n",
      "SMILES [K+].O=S(=O)([O-])ON=C(SC1OC(CO)C(O)C(O)C1O)CC=C.O calculation failure\n"
     ]
    },
    {
     "name": "stderr",
     "output_type": "stream",
     "text": [
      " 84%|████████▍ | 6706/8000 [00:04<00:01, 1232.19it/s]"
     ]
    },
    {
     "name": "stdout",
     "output_type": "stream",
     "text": [
      "SMILES [I-].O=C(OCC1=CC[N+]2(C)CCC(O)C12)C(O)(C(O)C)C(C)C calculation failure\n",
      "SMILES CCC1=C(C2=NC1=CC3=C(C4=C([N-]3)C(=C5[C@H]([C@@H](C(=N5)C=C6C(=C(C(=C2)[N-]6)C=C)C)C)CCC(=O)OC/C=C(\\C)/CCC[C@H](C)CCC[C@H](C)CCCC(C)C)[C@H](C4=O)C(=O)OC)C)C=O.[Mg+2] calculation failure\n"
     ]
    },
    {
     "name": "stderr",
     "output_type": "stream",
     "text": [
      " 93%|█████████▎| 7403/8000 [00:04<00:00, 1238.64it/s]"
     ]
    },
    {
     "name": "stdout",
     "output_type": "stream",
     "text": [
      "SMILES [Na+].O=C([O-])C(CC)C1OC(C(=CC=CC2C=CC3CCCC3C2C(=O)C4=CC=CN4)CC)C(C)CC1 calculation failure\n"
     ]
    },
    {
     "name": "stderr",
     "output_type": "stream",
     "text": [
      "100%|██████████| 8000/8000 [00:05<00:00, 1490.51it/s]\n"
     ]
    },
    {
     "name": "stdout",
     "output_type": "stream",
     "text": [
      "Calculated 6852 molecular graph-mass spectrometry pairs\n",
      "calculating molecular graphs\n"
     ]
    },
    {
     "name": "stderr",
     "output_type": "stream",
     "text": [
      "  8%|▊         | 166/2000 [00:00<00:01, 1648.06it/s]"
     ]
    },
    {
     "name": "stdout",
     "output_type": "stream",
     "text": [
      "SMILES [Cl-].O=C1C2=CC=C(O)C(=C2OC(=C1C=3C=CC=4OCCCOC4C3)C)C[NH+](C)C calculation failure\n"
     ]
    },
    {
     "name": "stderr",
     "output_type": "stream",
     "text": [
      " 17%|█▋        | 337/2000 [00:00<00:00, 1680.53it/s]"
     ]
    },
    {
     "name": "stdout",
     "output_type": "stream",
     "text": [
      "SMILES [K+].O=S(=O)([O-])ON=C(SC1OC(CO)C(O)C(O)C1O)CC=C.O calculation failure\n"
     ]
    },
    {
     "name": "stderr",
     "output_type": "stream",
     "text": [
      " 68%|██████▊   | 1360/2000 [00:00<00:00, 1697.90it/s]"
     ]
    },
    {
     "name": "stdout",
     "output_type": "stream",
     "text": [
      "SMILES [I-].O=C(OCC1=CC[N+]2(C)CCC(O)C12)C(O)(C(O)C)C(C)C calculation failure\n"
     ]
    },
    {
     "name": "stderr",
     "output_type": "stream",
     "text": [
      " 85%|████████▌ | 1703/2000 [00:01<00:00, 1695.74it/s]"
     ]
    },
    {
     "name": "stdout",
     "output_type": "stream",
     "text": [
      "SMILES [Cl-].OC=1C=C(O)C=2C=C(OC3OC(CO)C(O)C(O)C3O)C(=[O+]C2C1)C=4C=CC(O)=C(O)C4 calculation failure\n",
      "SMILES C1C(N(C2=C(N1)N=C(NC2=O)N)C=O)CNC3=CC=C(C=C3)C(=O)N[C@@H](CCC(=O)[O-])C(=O)[O-].[Ca+2] calculation failure\n"
     ]
    },
    {
     "name": "stderr",
     "output_type": "stream",
     "text": [
      "100%|██████████| 2000/2000 [00:01<00:00, 1676.81it/s]"
     ]
    },
    {
     "name": "stdout",
     "output_type": "stream",
     "text": [
      "Calculated 1701 molecular graph-mass spectrometry pairs\n",
      "Successfully processed 10000 samples\n",
      "Number of batches: 27\n"
     ]
    },
    {
     "name": "stderr",
     "output_type": "stream",
     "text": [
      "\n"
     ]
    }
   ],
   "source": [
    "# Cell 6: Prepare validation data loader\n",
    "print(\"Preparing data loaders\")\n",
    "\n",
    "# Create data wrapper from DataFrame\n",
    "wrapper, processed_df = create_wrapper_from_dataframe(\n",
    "    df=df_train_sample,\n",
    "    batch_size=64,  \n",
    "    num_workers=8,\n",
    "    valid_size=0.2,  \n",
    "    use_ddp=False,\n",
    "    output_dir=\"./train_features\"\n",
    ")\n",
    "\n",
    "# Get the data loader\n",
    "train_loader, val_loader = wrapper.get_data_loaders()\n",
    "\n",
    "print(f\"Successfully processed {len(processed_df)} samples\")\n",
    "print(f\"Number of batches: {len(val_loader)}\")"
   ]
  },
  {
   "cell_type": "code",
   "execution_count": 7,
   "id": "d7fba6d3",
   "metadata": {},
   "outputs": [],
   "source": [
    "from model import ModelCLR\n",
    "\n",
    "# Initialize model architecture\n",
    "model = ModelCLR(**config[\"model_config\"]).to(DEVICE)"
   ]
  },
  {
   "cell_type": "code",
   "execution_count": 8,
   "id": "b4012a36",
   "metadata": {},
   "outputs": [
    {
     "name": "stdout",
     "output_type": "stream",
     "text": [
      "MODEL ARCHITECTURE:\n",
      "----------------------------------------\n",
      "Model Type: ModelCLR\n",
      "Device: mps\n"
     ]
    }
   ],
   "source": [
    "# Model Architecture Overview\n",
    "print(\"MODEL ARCHITECTURE:\")\n",
    "print(\"-\" * 40)\n",
    "print(f\"Model Type: {type(model).__name__}\")\n",
    "print(f\"Device: {DEVICE}\")"
   ]
  },
  {
   "cell_type": "code",
   "execution_count": 9,
   "id": "3c8beedc",
   "metadata": {},
   "outputs": [
    {
     "name": "stdout",
     "output_type": "stream",
     "text": [
      "SUBMODULES:\n",
      "----------------------------------------\n",
      "Smiles_model   : SmilesModel\n",
      "  training    : True\n",
      "  num_layer   : 5\n",
      "  emb_dim     : 300\n",
      "  feat_dim    : 512\n",
      "  drop_ratio  : 0.3\n",
      "MS_model       : MSModel\n",
      "  training    : True\n",
      "smi_esa        : ESA_SMILES\n",
      "  training    : True\n",
      "spec_esa       : ESA_SPEC\n",
      "  training    : True\n",
      "smi_proj       : Linear\n",
      "  training    : True\n",
      "  in_features : 256\n",
      "  out_features: 256\n",
      "spec_proj      : Linear\n",
      "  training    : True\n",
      "  in_features : 256\n",
      "  out_features: 256\n"
     ]
    }
   ],
   "source": [
    "# Submodules Analysis\n",
    "print(\"SUBMODULES:\")\n",
    "print(\"-\" * 40)\n",
    "for name, module in model.named_children():\n",
    "    print(f\"{name:15}: {type(module).__name__}\")\n",
    "    if hasattr(module, '__dict__'):\n",
    "        for attr_name, attr_value in module.__dict__.items():\n",
    "            if not attr_name.startswith('_') and not callable(attr_value):\n",
    "                if isinstance(attr_value, (int, float, str, bool)):\n",
    "                    print(f\"  {attr_name:12}: {attr_value}\")"
   ]
  },
  {
   "cell_type": "code",
   "execution_count": 10,
   "id": "25f14f5c",
   "metadata": {},
   "outputs": [
    {
     "name": "stdout",
     "output_type": "stream",
     "text": [
      "PARAMETER ANALYSIS:\n",
      "----------------------------------------\n",
      "Total Parameters: 5,318,572\n",
      "Trainable Parameters: 5,318,444\n",
      "Non-trainable Parameters: 128\n"
     ]
    }
   ],
   "source": [
    "# Parameter Count\n",
    "print(\"PARAMETER ANALYSIS:\")\n",
    "print(\"-\" * 40)\n",
    "total_params = sum(p.numel() for p in model.parameters())\n",
    "trainable_params = sum(p.numel() for p in model.parameters() if p.requires_grad)\n",
    "\n",
    "print(f\"Total Parameters: {total_params:,}\")\n",
    "print(f\"Trainable Parameters: {trainable_params:,}\")\n",
    "print(f\"Non-trainable Parameters: {total_params - trainable_params:,}\")\n"
   ]
  },
  {
   "cell_type": "code",
   "execution_count": 11,
   "id": "451b63b3",
   "metadata": {},
   "outputs": [
    {
     "name": "stdout",
     "output_type": "stream",
     "text": [
      "MEMORY ANALYSIS:\n",
      "----------------------------------------\n",
      "Model Size: 20.30 MB\n",
      "Parameter Memory: 20.29 MB\n",
      "Buffer Memory: 0.01 MB\n"
     ]
    }
   ],
   "source": [
    "# Memory Usage (approximate)\n",
    "print(\"MEMORY ANALYSIS:\")\n",
    "print(\"-\" * 40)\n",
    "param_size = sum(p.numel() * p.element_size() for p in model.parameters())\n",
    "buffer_size = sum(b.numel() * b.element_size() for b in model.buffers())\n",
    "model_size_mb = (param_size + buffer_size) / 1024 / 1024\n",
    "\n",
    "print(f\"Model Size: {model_size_mb:.2f} MB\")\n",
    "print(f\"Parameter Memory: {param_size / 1024 / 1024:.2f} MB\")\n",
    "print(f\"Buffer Memory: {buffer_size / 1024 / 1024:.2f} MB\")\n"
   ]
  },
  {
   "cell_type": "code",
   "execution_count": 12,
   "id": "44da99f3",
   "metadata": {},
   "outputs": [],
   "source": [
    "from loss.nt_xent import NTXentLoss\n",
    "\n",
    "# Initialize loss function\n",
    "temperature = config.get('loss', {}).get('temperature', 0.1)\n",
    "batch_size = config.get('batch_size', 1024)\n",
    "use_cosine_similarity = config.get('loss', {}).get('use_cosine_similarity', True)\n",
    "alpha_weight = config.get('loss', {}).get('alpha_weight', 1.0)\n",
    "\n",
    "criterion = NTXentLoss(\n",
    "    device=DEVICE, \n",
    "    batch_size=batch_size, \n",
    "    temperature=temperature, \n",
    "    use_cosine_similarity=use_cosine_similarity, \n",
    "    alpha_weight=alpha_weight\n",
    ")"
   ]
  },
  {
   "cell_type": "code",
   "execution_count": 13,
   "id": "1d29b117",
   "metadata": {},
   "outputs": [
    {
     "name": "stdout",
     "output_type": "stream",
     "text": [
      "Setting up training components...\n",
      "Training for 100 epochs\n",
      "Optimizer: AdamW with lr=5e-06\n",
      "Scheduler: CosineAnnealingLR\n",
      "Checkpoint directory: ./model/checkpoints\n"
     ]
    }
   ],
   "source": [
    "# Cell 15: Training Setup and Optimizer\n",
    "import torch.optim as optim\n",
    "from torch.optim.lr_scheduler import CosineAnnealingLR\n",
    "import json\n",
    "import time\n",
    "from collections import defaultdict\n",
    "\n",
    "print(\"Setting up training components...\")\n",
    "OUTPUT_DIR = \"./model\"\n",
    "\n",
    "# Initialize optimizer\n",
    "optimizer = optim.AdamW(\n",
    "    model.parameters(),\n",
    "    lr=float(config.get('learning_rate', 5e-6)),\n",
    "    weight_decay=float(config.get('weight_decay', 1e-4))\n",
    ")\n",
    "\n",
    "# Initialize scheduler\n",
    "scheduler = CosineAnnealingLR(\n",
    "    optimizer, \n",
    "    T_max=config.get('epochs', 4000),\n",
    "    eta_min=1e-7\n",
    ")\n",
    "\n",
    "# Training configuration\n",
    "epochs = config.get('epochs', 4000)\n",
    "eval_every_n_epochs = config.get('eval_every_n_epochs', 5)\n",
    "log_every_n_steps = config.get('log_every_n_steps', 2)\n",
    "\n",
    "# Create checkpoint directory\n",
    "checkpoint_dir = os.path.join(OUTPUT_DIR, \"checkpoints\")\n",
    "os.makedirs(checkpoint_dir, exist_ok=True)\n",
    "\n",
    "print(f\"Training for {epochs} epochs\")\n",
    "print(f\"Optimizer: AdamW with lr={config.get('learning_rate', 5e-6)}\")\n",
    "print(f\"Scheduler: CosineAnnealingLR\")\n",
    "print(f\"Checkpoint directory: {checkpoint_dir}\")"
   ]
  },
  {
   "cell_type": "code",
   "execution_count": null,
   "id": "51bd679c",
   "metadata": {},
   "outputs": [],
   "source": [
    "# Cell 16: Training and Evaluation Functions\n",
    "def train_epoch(model, train_loader, criterion, optimizer, device, epoch):\n",
    "    model.train()\n",
    "    total_loss = 0\n",
    "    num_batches = 0\n",
    "    batch_losses = []\n",
    "    \n",
    "    progress_bar = tqdm(train_loader, desc=f\"Training Epoch {epoch}\")\n",
    "    \n",
    "    for batch_idx, (graphs, mzs, intensities, num_peaks) in enumerate(progress_bar):\n",
    "        # Move data to device\n",
    "        graphs = graphs.to(device)\n",
    "        mzs = mzs.to(device)\n",
    "        intensities = intensities.to(device)\n",
    "        num_peaks = num_peaks.to(device)\n",
    "        \n",
    "        # Zero gradients\n",
    "        optimizer.zero_grad()\n",
    "        \n",
    "        # Forward pass\n",
    "        mol_features, spec_features = model(graphs, mzs, intensities, num_peaks)\n",
    "        loss = criterion(mol_features, spec_features)\n",
    "        \n",
    "        # Backward pass\n",
    "        loss.backward()\n",
    "        optimizer.step()\n",
    "        \n",
    "        # Track loss\n",
    "        batch_loss = loss.item()\n",
    "        total_loss += batch_loss\n",
    "        batch_losses.append(batch_loss)\n",
    "        num_batches += 1\n",
    "        \n",
    "        # Update progress bar\n",
    "        progress_bar.set_postfix({\n",
    "            'Loss': f'{batch_loss:.4f}',\n",
    "            'Avg Loss': f'{total_loss/num_batches:.4f}'\n",
    "        })\n",
    "        \n",
    "        # Log every n steps\n",
    "        if batch_idx % log_every_n_steps == 0:\n",
    "            print(f\"Epoch {epoch}, Batch {batch_idx}, Loss: {batch_loss:.4f}\")\n",
    "    \n",
    "    avg_loss = total_loss / num_batches\n",
    "    return avg_loss, batch_losses"
   ]
  },
  {
   "cell_type": "code",
   "execution_count": 15,
   "id": "7149a54a",
   "metadata": {},
   "outputs": [],
   "source": [
    "def compute_retrieval_metrics(molecular_features, spectral_features):\n",
    "    from sklearn.metrics import pairwise_distances\n",
    "\n",
    "    # Compute cosine distance matrix\n",
    "    distance_matrix = pairwise_distances(molecular_features, spectral_features, metric='cosine')\n",
    "    \n",
    "    # For each molecular feature, find the rank of the correct spectral feature\n",
    "    ranks = []\n",
    "    for i in range(distance_matrix.shape[0]):\n",
    "        sorted_indices = np.argsort(distance_matrix[i])\n",
    "        rank = np.where(sorted_indices == i)[0][0] + 1  # +1 for 1-based rank\n",
    "        ranks.append(rank)\n",
    "    \n",
    "    ranks = np.array(ranks)\n",
    "    \n",
    "    # Compute top-k accuracies\n",
    "    top_1_accuracy = np.mean(ranks <= 1)\n",
    "    top_5_accuracy = np.mean(ranks <= 5)\n",
    "    top_10_accuracy = np.mean(ranks <= 10)\n",
    "    \n",
    "    return {\n",
    "        'top_1_accuracy': top_1_accuracy,\n",
    "        'top_5_accuracy': top_5_accuracy,\n",
    "        'top_10_accuracy': top_10_accuracy\n",
    "    }\n",
    "\n",
    "\n",
    "def evaluate_model(model, val_loader, criterion, device, epoch):\n",
    "    model.eval()\n",
    "    total_loss = 0\n",
    "    num_batches = 0\n",
    "    \n",
    "    molecular_features_list = []\n",
    "    spectral_features_list = []\n",
    "    \n",
    "    with torch.no_grad():\n",
    "        progress_bar = tqdm(val_loader, desc=f\"Evaluating Epoch {epoch}\")\n",
    "        \n",
    "        for batch_idx, (graphs, mzs, intensities, num_peaks) in enumerate(progress_bar):\n",
    "            # Move data to device\n",
    "            graphs = graphs.to(device)\n",
    "            mzs = mzs.to(device)\n",
    "            intensities = intensities.to(device)\n",
    "            num_peaks = num_peaks.to(device)\n",
    "            \n",
    "            # Forward pass\n",
    "            mol_features, spec_features = model(graphs, mzs, intensities, num_peaks)\n",
    "            loss = criterion(mol_features, spec_features)\n",
    "            \n",
    "            total_loss += loss.item()\n",
    "            num_batches += 1\n",
    "            \n",
    "            # Store features for retrieval metrics\n",
    "            molecular_features_list.append(mol_features.cpu().numpy())\n",
    "            spectral_features_list.append(spec_features.cpu().numpy())\n",
    "            \n",
    "            progress_bar.set_postfix({'Val Loss': f'{loss.item():.4f}'})\n",
    "    \n",
    "    avg_loss = total_loss / num_batches\n",
    "    \n",
    "    # Compute retrieval metrics\n",
    "    all_mol_features = np.vstack(molecular_features_list)\n",
    "    all_spec_features = np.vstack(spectral_features_list)\n",
    "    \n",
    "    # Compute cosine similarities\n",
    "    cosine_similarities = np.sum(all_mol_features * all_spec_features, axis=1)\n",
    "    mean_similarity = np.mean(cosine_similarities)\n",
    "    \n",
    "    # Compute retrieval metrics\n",
    "    retrieval_metrics = compute_retrieval_metrics(all_mol_features, all_spec_features)\n",
    "    \n",
    "    return avg_loss, mean_similarity, retrieval_metrics"
   ]
  },
  {
   "cell_type": "code",
   "execution_count": 16,
   "id": "804819b8",
   "metadata": {},
   "outputs": [
    {
     "name": "stdout",
     "output_type": "stream",
     "text": [
      "Training and evaluation functions defined!\n"
     ]
    }
   ],
   "source": [
    "def save_checkpoint(model, optimizer, scheduler, epoch, train_loss, val_loss, val_metrics, checkpoint_dir):\n",
    "    checkpoint = {\n",
    "        'epoch': epoch,\n",
    "        'model_state_dict': model.state_dict(),\n",
    "        'optimizer_state_dict': optimizer.state_dict(),\n",
    "        'scheduler_state_dict': scheduler.state_dict(),\n",
    "        'train_loss': train_loss,\n",
    "        'val_loss': val_loss,\n",
    "        'val_metrics': val_metrics,\n",
    "        'config': config\n",
    "    }\n",
    "    \n",
    "    checkpoint_path = os.path.join(checkpoint_dir, f'checkpoint_epoch_{epoch}.pth')\n",
    "    torch.save(checkpoint, checkpoint_path)\n",
    "    print(f\"Checkpoint saved: {checkpoint_path}\")\n",
    "    \n",
    "    # Save best model\n",
    "    best_checkpoint_path = os.path.join(checkpoint_dir, 'best_model.pth')\n",
    "    if not os.path.exists(best_checkpoint_path):\n",
    "        torch.save(checkpoint, best_checkpoint_path)\n",
    "        print(f\"Best model saved: {best_checkpoint_path}\")\n",
    "    else:\n",
    "        best_checkpoint = torch.load(best_checkpoint_path)\n",
    "        if val_loss < best_checkpoint['val_loss']:\n",
    "            torch.save(checkpoint, best_checkpoint_path)\n",
    "            print(f\"New best model saved: {best_checkpoint_path}\")\n",
    "\n",
    "print(\"Training and evaluation functions defined!\")"
   ]
  },
  {
   "cell_type": "code",
   "execution_count": 17,
   "id": "06d49afc",
   "metadata": {},
   "outputs": [
    {
     "name": "stdout",
     "output_type": "stream",
     "text": [
      "Starting training...\n",
      "============================================================\n"
     ]
    },
    {
     "name": "stderr",
     "output_type": "stream",
     "text": [
      "Training Epoch 1:   0%|          | 0/107 [00:00<?, ?it/s]"
     ]
    },
    {
     "name": "stdout",
     "output_type": "stream",
     "text": [
      "data moved to device\n",
      "forward pass\n"
     ]
    },
    {
     "name": "stderr",
     "output_type": "stream",
     "text": [
      "Training Epoch 1:   1%|          | 1/107 [00:21<38:07, 21.58s/it, Loss=4.1930, Avg Loss=4.1930]"
     ]
    },
    {
     "name": "stdout",
     "output_type": "stream",
     "text": [
      "Epoch 1, Batch 0, Loss: 4.1930\n",
      "data moved to device\n",
      "forward pass\n"
     ]
    },
    {
     "name": "stderr",
     "output_type": "stream",
     "text": [
      "Training Epoch 1:   2%|▏         | 2/107 [00:23<17:07,  9.79s/it, Loss=4.1869, Avg Loss=4.1900]"
     ]
    },
    {
     "name": "stdout",
     "output_type": "stream",
     "text": [
      "data moved to device\n",
      "forward pass\n"
     ]
    },
    {
     "name": "stderr",
     "output_type": "stream",
     "text": [
      "Training Epoch 1:   3%|▎         | 3/107 [00:24<10:13,  5.90s/it, Loss=4.1845, Avg Loss=4.1881]"
     ]
    },
    {
     "name": "stdout",
     "output_type": "stream",
     "text": [
      "Epoch 1, Batch 2, Loss: 4.1845\n",
      "data moved to device\n",
      "forward pass\n"
     ]
    },
    {
     "name": "stderr",
     "output_type": "stream",
     "text": [
      "Training Epoch 1:   4%|▎         | 4/107 [00:25<06:41,  3.90s/it, Loss=4.2008, Avg Loss=4.1913]"
     ]
    },
    {
     "name": "stdout",
     "output_type": "stream",
     "text": [
      "data moved to device\n",
      "forward pass\n"
     ]
    },
    {
     "name": "stderr",
     "output_type": "stream",
     "text": [
      "Training Epoch 1:   5%|▍         | 5/107 [00:26<04:54,  2.89s/it, Loss=4.1772, Avg Loss=4.1885]"
     ]
    },
    {
     "name": "stdout",
     "output_type": "stream",
     "text": [
      "Epoch 1, Batch 4, Loss: 4.1772\n",
      "data moved to device\n",
      "forward pass\n"
     ]
    },
    {
     "name": "stderr",
     "output_type": "stream",
     "text": [
      "Training Epoch 1:   6%|▌         | 6/107 [00:27<03:36,  2.15s/it, Loss=4.1565, Avg Loss=4.1831]"
     ]
    },
    {
     "name": "stdout",
     "output_type": "stream",
     "text": [
      "data moved to device\n",
      "forward pass\n"
     ]
    },
    {
     "name": "stderr",
     "output_type": "stream",
     "text": [
      "Training Epoch 1:   7%|▋         | 7/107 [00:27<02:44,  1.64s/it, Loss=4.2025, Avg Loss=4.1859]"
     ]
    },
    {
     "name": "stdout",
     "output_type": "stream",
     "text": [
      "Epoch 1, Batch 6, Loss: 4.2025\n",
      "data moved to device\n",
      "forward pass\n"
     ]
    },
    {
     "name": "stderr",
     "output_type": "stream",
     "text": [
      "Training Epoch 1:   7%|▋         | 8/107 [00:28<02:26,  1.48s/it, Loss=4.1612, Avg Loss=4.1828]"
     ]
    },
    {
     "name": "stdout",
     "output_type": "stream",
     "text": [
      "data moved to device\n",
      "forward pass\n"
     ]
    },
    {
     "name": "stderr",
     "output_type": "stream",
     "text": [
      "Training Epoch 1:   8%|▊         | 9/107 [00:29<02:08,  1.31s/it, Loss=4.2114, Avg Loss=4.1860]"
     ]
    },
    {
     "name": "stdout",
     "output_type": "stream",
     "text": [
      "Epoch 1, Batch 8, Loss: 4.2114\n",
      "data moved to device\n",
      "forward pass\n"
     ]
    },
    {
     "name": "stderr",
     "output_type": "stream",
     "text": [
      "Training Epoch 1:   9%|▉         | 10/107 [00:30<01:46,  1.10s/it, Loss=4.1984, Avg Loss=4.1872]"
     ]
    },
    {
     "name": "stdout",
     "output_type": "stream",
     "text": [
      "data moved to device\n",
      "forward pass\n"
     ]
    },
    {
     "name": "stderr",
     "output_type": "stream",
     "text": [
      "Training Epoch 1:  10%|█         | 11/107 [00:31<01:36,  1.00s/it, Loss=4.2033, Avg Loss=4.1887]"
     ]
    },
    {
     "name": "stdout",
     "output_type": "stream",
     "text": [
      "Epoch 1, Batch 10, Loss: 4.2033\n",
      "data moved to device\n",
      "forward pass\n"
     ]
    },
    {
     "name": "stderr",
     "output_type": "stream",
     "text": [
      "Training Epoch 1:  11%|█         | 12/107 [00:31<01:28,  1.08it/s, Loss=4.1622, Avg Loss=4.1865]"
     ]
    },
    {
     "name": "stdout",
     "output_type": "stream",
     "text": [
      "data moved to device\n",
      "forward pass\n"
     ]
    },
    {
     "name": "stderr",
     "output_type": "stream",
     "text": [
      "Training Epoch 1:  12%|█▏        | 13/107 [00:32<01:29,  1.05it/s, Loss=4.2055, Avg Loss=4.1880]"
     ]
    },
    {
     "name": "stdout",
     "output_type": "stream",
     "text": [
      "Epoch 1, Batch 12, Loss: 4.2055\n",
      "data moved to device\n",
      "forward pass\n"
     ]
    },
    {
     "name": "stderr",
     "output_type": "stream",
     "text": [
      "Training Epoch 1:  13%|█▎        | 14/107 [00:34<01:35,  1.03s/it, Loss=4.1909, Avg Loss=4.1882]"
     ]
    },
    {
     "name": "stdout",
     "output_type": "stream",
     "text": [
      "data moved to device\n",
      "forward pass\n"
     ]
    },
    {
     "name": "stderr",
     "output_type": "stream",
     "text": [
      "Training Epoch 1:  14%|█▍        | 15/107 [00:35<01:34,  1.03s/it, Loss=4.1883, Avg Loss=4.1882]"
     ]
    },
    {
     "name": "stdout",
     "output_type": "stream",
     "text": [
      "Epoch 1, Batch 14, Loss: 4.1883\n",
      "data moved to device\n",
      "forward pass\n"
     ]
    },
    {
     "name": "stderr",
     "output_type": "stream",
     "text": [
      "Training Epoch 1:  15%|█▍        | 16/107 [00:35<01:24,  1.07it/s, Loss=4.1799, Avg Loss=4.1877]"
     ]
    },
    {
     "name": "stdout",
     "output_type": "stream",
     "text": [
      "data moved to device\n",
      "forward pass\n"
     ]
    },
    {
     "name": "stderr",
     "output_type": "stream",
     "text": [
      "Training Epoch 1:  16%|█▌        | 17/107 [00:36<01:28,  1.01it/s, Loss=4.1842, Avg Loss=4.1875]"
     ]
    },
    {
     "name": "stdout",
     "output_type": "stream",
     "text": [
      "Epoch 1, Batch 16, Loss: 4.1842\n",
      "data moved to device\n",
      "forward pass\n"
     ]
    },
    {
     "name": "stderr",
     "output_type": "stream",
     "text": [
      "Training Epoch 1:  17%|█▋        | 18/107 [00:37<01:18,  1.14it/s, Loss=4.1796, Avg Loss=4.1870]"
     ]
    },
    {
     "name": "stdout",
     "output_type": "stream",
     "text": [
      "data moved to device\n",
      "forward pass\n"
     ]
    },
    {
     "name": "stderr",
     "output_type": "stream",
     "text": [
      "Training Epoch 1:  18%|█▊        | 19/107 [00:38<01:11,  1.23it/s, Loss=4.1808, Avg Loss=4.1867]"
     ]
    },
    {
     "name": "stdout",
     "output_type": "stream",
     "text": [
      "Epoch 1, Batch 18, Loss: 4.1808\n",
      "data moved to device\n",
      "forward pass\n"
     ]
    },
    {
     "name": "stderr",
     "output_type": "stream",
     "text": [
      "Training Epoch 1:  19%|█▊        | 20/107 [00:39<01:13,  1.19it/s, Loss=4.1790, Avg Loss=4.1863]"
     ]
    },
    {
     "name": "stdout",
     "output_type": "stream",
     "text": [
      "data moved to device\n",
      "forward pass\n"
     ]
    },
    {
     "name": "stderr",
     "output_type": "stream",
     "text": [
      "Training Epoch 1:  20%|█▉        | 21/107 [00:40<01:14,  1.15it/s, Loss=4.1606, Avg Loss=4.1851]"
     ]
    },
    {
     "name": "stdout",
     "output_type": "stream",
     "text": [
      "Epoch 1, Batch 20, Loss: 4.1606\n",
      "data moved to device\n",
      "forward pass\n"
     ]
    },
    {
     "name": "stderr",
     "output_type": "stream",
     "text": [
      "Training Epoch 1:  21%|██        | 22/107 [00:40<01:13,  1.15it/s, Loss=4.1731, Avg Loss=4.1845]"
     ]
    },
    {
     "name": "stdout",
     "output_type": "stream",
     "text": [
      "data moved to device\n",
      "forward pass\n"
     ]
    },
    {
     "name": "stderr",
     "output_type": "stream",
     "text": [
      "Training Epoch 1:  21%|██▏       | 23/107 [00:41<01:10,  1.19it/s, Loss=4.1853, Avg Loss=4.1846]"
     ]
    },
    {
     "name": "stdout",
     "output_type": "stream",
     "text": [
      "Epoch 1, Batch 22, Loss: 4.1853\n",
      "data moved to device\n",
      "forward pass\n"
     ]
    },
    {
     "name": "stderr",
     "output_type": "stream",
     "text": [
      "Training Epoch 1:  22%|██▏       | 24/107 [00:42<01:06,  1.24it/s, Loss=4.1656, Avg Loss=4.1838]"
     ]
    },
    {
     "name": "stdout",
     "output_type": "stream",
     "text": [
      "data moved to device\n",
      "forward pass\n"
     ]
    },
    {
     "name": "stderr",
     "output_type": "stream",
     "text": [
      "libc++abi: libc++abi: terminating due to uncaught exception of type std::__1::system_error: Broken pipelibc++abi: \n",
      "terminating due to uncaught exception of type std::__1::system_error: Broken pipe\n",
      "libc++abi: terminating due to uncaught exception of type std::__1::system_error: Broken pipe\n",
      "libc++abi: terminating due to uncaught exception of type std::__1::system_error: Broken pipeterminating due to uncaught exception of type std::__1::system_error: Broken pipe\n",
      "\n",
      "libc++abi: terminating due to uncaught exception of type std::__1::system_error: Broken pipe\n",
      "libc++abi: terminating due to uncaught exception of type std::__1::system_error: Broken pipe\n",
      "libc++abi: terminating due to uncaught exception of type std::__1::system_error: Broken pipe\n",
      "Exception ignored in: <function _MultiProcessingDataLoaderIter.__del__ at 0x12765a940>\n",
      "Traceback (most recent call last):\n",
      "  File \"/Users/ivangolov/anaconda3/envs/CSU-MS2/lib/python3.8/site-packages/torch/utils/data/dataloader.py\", line 1477, in __del__\n",
      "    self._shutdown_workers()\n",
      "  File \"/Users/ivangolov/anaconda3/envs/CSU-MS2/lib/python3.8/site-packages/torch/utils/data/dataloader.py\", line 1441, in _shutdown_workers\n",
      "    w.join(timeout=_utils.MP_STATUS_CHECK_INTERVAL)\n",
      "  File \"/Users/ivangolov/anaconda3/envs/CSU-MS2/lib/python3.8/multiprocessing/process.py\", line 149, in join\n",
      "    res = self._popen.wait(timeout)\n",
      "  File \"/Users/ivangolov/anaconda3/envs/CSU-MS2/lib/python3.8/multiprocessing/popen_fork.py\", line 44, in wait\n",
      "    if not wait([self.sentinel], timeout):\n",
      "  File \"/Users/ivangolov/anaconda3/envs/CSU-MS2/lib/python3.8/multiprocessing/connection.py\", line 931, in wait\n",
      "    ready = selector.select(timeout)\n",
      "  File \"/Users/ivangolov/anaconda3/envs/CSU-MS2/lib/python3.8/selectors.py\", line 418, in select\n",
      "    for fd, event in fd_event_list:\n",
      "  File \"/Users/ivangolov/anaconda3/envs/CSU-MS2/lib/python3.8/site-packages/torch/utils/data/_utils/signal_handling.py\", line 67, in handler\n",
      "    _error_if_any_worker_fails()\n",
      "RuntimeError: DataLoader worker (pid 18864) is killed by signal: Abort trap: 6. \n",
      "Training Epoch 1:  22%|██▏       | 24/107 [00:45<02:36,  1.89s/it, Loss=4.1656, Avg Loss=4.1838]"
     ]
    },
    {
     "ename": "",
     "evalue": "",
     "output_type": "error",
     "traceback": [
      "\u001b[1;31mThe Kernel crashed while executing code in the current cell or a previous cell. \n",
      "\u001b[1;31mPlease review the code in the cell(s) to identify a possible cause of the failure. \n",
      "\u001b[1;31mClick <a href='https://aka.ms/vscodeJupyterKernelCrash'>here</a> for more info. \n",
      "\u001b[1;31mView Jupyter <a href='command:jupyter.viewOutput'>log</a> for further details."
     ]
    }
   ],
   "source": [
    "# Cell 17: Training Loop\n",
    "# Training history for plotting\n",
    "train_history = {\n",
    "    'epochs': [],\n",
    "    'train_losses': [],\n",
    "    'val_losses': [],\n",
    "    'val_similarities': [],\n",
    "    'val_top1_acc': [],\n",
    "    'val_top5_acc': [],\n",
    "    'val_top10_acc': [],\n",
    "    'learning_rates': []\n",
    "}\n",
    "\n",
    "best_val_loss = float('inf')\n",
    "start_time = time.time()\n",
    "\n",
    "print(\"Starting training...\")\n",
    "print(\"=\" * 60)\n",
    "\n",
    "for epoch in range(1, epochs + 1):\n",
    "    epoch_start_time = time.time()\n",
    "    \n",
    "    # Training phase\n",
    "    train_loss, batch_losses = train_epoch(\n",
    "        model, train_loader, criterion, optimizer, DEVICE, epoch\n",
    "    )\n",
    "    \n",
    "    # Validation phase (every n epochs)\n",
    "    if epoch % eval_every_n_epochs == 0:\n",
    "        val_loss, val_similarity, val_metrics = evaluate_model(\n",
    "            model, val_loader, criterion, DEVICE, epoch\n",
    "        )\n",
    "        \n",
    "        # Update learning rate\n",
    "        scheduler.step()\n",
    "        current_lr = optimizer.param_groups[0]['lr']\n",
    "        \n",
    "        # Log results\n",
    "        epoch_time = time.time() - epoch_start_time\n",
    "        total_time = time.time() - start_time\n",
    "        \n",
    "        print(f\"\\nEpoch {epoch}/{epochs}\")\n",
    "        print(f\"Train Loss: {train_loss:.6f}\")\n",
    "        print(f\"Val Loss: {val_loss:.6f}\")\n",
    "        print(f\"Val Similarity: {val_similarity:.4f}\")\n",
    "        print(f\"Top-1 Accuracy: {val_metrics['top_1_accuracy']:.4f}\")\n",
    "        print(f\"Top-5 Accuracy: {val_metrics['top_5_accuracy']:.4f}\")\n",
    "        print(f\"Top-10 Accuracy: {val_metrics['top_10_accuracy']:.4f}\")\n",
    "        print(f\"Learning Rate: {current_lr:.2e}\")\n",
    "        print(f\"Epoch Time: {epoch_time:.2f}s, Total Time: {total_time:.2f}s\")\n",
    "        print(\"-\" * 60)\n",
    "        \n",
    "        # Store history\n",
    "        train_history['epochs'].append(epoch)\n",
    "        train_history['train_losses'].append(train_loss)\n",
    "        train_history['val_losses'].append(val_loss)\n",
    "        train_history['val_similarities'].append(val_similarity)\n",
    "        train_history['val_top1_acc'].append(val_metrics['top_1_accuracy'])\n",
    "        train_history['val_top5_acc'].append(val_metrics['top_5_accuracy'])\n",
    "        train_history['val_top10_acc'].append(val_metrics['top_10_accuracy'])\n",
    "        train_history['learning_rates'].append(current_lr)\n",
    "        \n",
    "        # Save checkpoint\n",
    "        save_checkpoint(\n",
    "            model, optimizer, scheduler, epoch, \n",
    "            train_loss, val_loss, val_metrics, checkpoint_dir\n",
    "        )\n",
    "        \n",
    "        # Save training history\n",
    "        history_path = os.path.join(OUTPUT_DIR, 'training_history.json')\n",
    "        with open(history_path, 'w') as f:\n",
    "            json.dump(train_history, f, indent=2)\n",
    "    \n",
    "    else:\n",
    "        # Just update learning rate and log basic info\n",
    "        scheduler.step()\n",
    "        current_lr = optimizer.param_groups[0]['lr']\n",
    "        epoch_time = time.time() - epoch_start_time\n",
    "        \n",
    "        print(f\"Epoch {epoch}/{epochs} - Train Loss: {train_loss:.6f}, LR: {current_lr:.2e}, Time: {epoch_time:.2f}s\")\n",
    "\n",
    "print(\"\\nTraining completed!\")\n",
    "print(f\"Total training time: {(time.time() - start_time)/3600:.2f} hours\")"
   ]
  },
  {
   "cell_type": "code",
   "execution_count": null,
   "id": "0642c50c",
   "metadata": {},
   "outputs": [
    {
     "name": "stdout",
     "output_type": "stream",
     "text": [
      "Extracting features from validation data...\n"
     ]
    },
    {
     "name": "stderr",
     "output_type": "stream",
     "text": [
      "Extracting features:  13%|█▎        | 23/183 [02:36<18:13,  6.84s/it] libc++abi: terminating due to uncaught exception of type std::__1::system_error: Broken pipe\n",
      "libc++abi: terminating due to uncaught exception of type std::__1::system_error: Broken pipe\n",
      "libc++abi: terminating due to uncaught exception of type std::__1::system_error: Broken pipe\n",
      "libc++abi: terminating due to uncaught exception of type std::__1::system_error: Broken pipe\n",
      "Exception ignored in: <function _MultiProcessingDataLoaderIter.__del__ at 0x11d94b430>\n",
      "Traceback (most recent call last):\n",
      "  File \"/Users/ivangolov/anaconda3/envs/CSU-MS2/lib/python3.8/site-packages/torch/utils/data/dataloader.py\", line 1477, in __del__\n",
      "    self._shutdown_workers()\n",
      "  File \"/Users/ivangolov/anaconda3/envs/CSU-MS2/lib/python3.8/site-packages/torch/utils/data/dataloader.py\", line 1441, in _shutdown_workers\n",
      "    w.join(timeout=_utils.MP_STATUS_CHECK_INTERVAL)\n",
      "  File \"/Users/ivangolov/anaconda3/envs/CSU-MS2/lib/python3.8/multiprocessing/process.py\", line 149, in join\n",
      "    res = self._popen.wait(timeout)\n",
      "  File \"/Users/ivangolov/anaconda3/envs/CSU-MS2/lib/python3.8/multiprocessing/popen_fork.py\", line 44, in wait\n",
      "    if not wait([self.sentinel], timeout):\n",
      "  File \"/Users/ivangolov/anaconda3/envs/CSU-MS2/lib/python3.8/multiprocessing/connection.py\", line 931, in wait\n",
      "    ready = selector.select(timeout)\n",
      "  File \"/Users/ivangolov/anaconda3/envs/CSU-MS2/lib/python3.8/selectors.py\", line 415, in select\n",
      "    fd_event_list = self._selector.poll(timeout)\n",
      "  File \"/Users/ivangolov/anaconda3/envs/CSU-MS2/lib/python3.8/site-packages/torch/utils/data/_utils/signal_handling.py\", line 67, in handler\n",
      "    _error_if_any_worker_fails()\n",
      "RuntimeError: DataLoader worker (pid 15242) is killed by signal: Abort trap: 6. \n",
      "Extracting features:  13%|█▎        | 23/183 [02:59<20:48,  7.80s/it]"
     ]
    }
   ],
   "source": [
    "# Cell 8: Extract features from validation data\n",
    "print(\"Extracting features from validation data...\")\n",
    "\n",
    "molecular_features_list = []\n",
    "spectral_features_list = []\n",
    "batch_info = []\n",
    "total_loss = 0\n",
    "\n",
    "with torch.no_grad():\n",
    "    for batch_idx, (graphs, mzs, intensities, num_peaks) in enumerate(tqdm(val_loader, desc=\"Extracting features\")):\n",
    "        # Move data to device\n",
    "        graphs = graphs.to(DEVICE)\n",
    "        mzs = mzs.to(DEVICE)\n",
    "        intensities = intensities.to(DEVICE)\n",
    "        num_peaks = num_peaks.to(DEVICE)\n",
    "        \n",
    "        # Forward pass through the model\n",
    "        mol_features, spec_features = model(graphs, mzs, intensities, num_peaks)\n",
    "        loss = criterion(mol_features, spec_features)\n",
    "        total_loss += loss.item()\n",
    "        \n",
    "        # Store features\n",
    "        molecular_features_list.append(mol_features.cpu().numpy())\n",
    "        spectral_features_list.append(spec_features.cpu().numpy())\n",
    "        batch_info.append({\n",
    "            'batch_idx': batch_idx,\n",
    "            'batch_size': len(mol_features),\n",
    "            'num_peaks_mean': num_peaks.float().mean().item()\n",
    "        })\n",
    "\n",
    "average_loss = total_loss / len(val_loader)\n",
    "print(f\"Average contrastive loss: {average_loss:.4f}\")\n",
    "print(f\"Feature extraction completed!\")\n",
    "print(f\"Processed {len(molecular_features_list)} batches\")"
   ]
  },
  {
   "cell_type": "code",
   "execution_count": null,
   "id": "3401d343",
   "metadata": {},
   "outputs": [
    {
     "name": "stdout",
     "output_type": "stream",
     "text": [
      "Concatenating features...\n",
      "Molecular features shape: (9216, 256)\n",
      "Spectral features shape: (9216, 256)\n",
      "Feature dimension: 256\n"
     ]
    }
   ],
   "source": [
    "# Cell 9: Concatenate all features\n",
    "print(\"Concatenating features...\")\n",
    "\n",
    "# Combine all batches\n",
    "all_molecular_features = np.vstack(molecular_features_list)\n",
    "all_spectral_features = np.vstack(spectral_features_list)\n",
    "\n",
    "print(f\"Molecular features shape: {all_molecular_features.shape}\")\n",
    "print(f\"Spectral features shape: {all_spectral_features.shape}\")\n",
    "print(f\"Feature dimension: {all_molecular_features.shape[1]}\")"
   ]
  },
  {
   "cell_type": "code",
   "execution_count": null,
   "id": "cdcee9b5",
   "metadata": {},
   "outputs": [
    {
     "name": "stdout",
     "output_type": "stream",
     "text": [
      "Computing cosine similarities...\n",
      "Computed 9216 cosine similarities\n",
      "Mean similarity: 0.0147\n",
      "Std similarity: 0.2555\n",
      "Min similarity: -0.8407\n",
      "Max similarity: 1.1990\n"
     ]
    }
   ],
   "source": [
    "# Cell 10: Compute cosine similarities\n",
    "print(\"Computing cosine similarities...\")\n",
    "\n",
    "# Compute cosine similarity between corresponding molecular and spectral features\n",
    "cosine_similarities = np.sum(all_molecular_features * all_spectral_features, axis=1)\n",
    "\n",
    "print(f\"Computed {len(cosine_similarities)} cosine similarities\")\n",
    "print(f\"Mean similarity: {np.mean(cosine_similarities):.4f}\")\n",
    "print(f\"Std similarity: {np.std(cosine_similarities):.4f}\")\n",
    "print(f\"Min similarity: {np.min(cosine_similarities):.4f}\")\n",
    "print(f\"Max similarity: {np.max(cosine_similarities):.4f}\")"
   ]
  },
  {
   "cell_type": "code",
   "execution_count": null,
   "id": "129a5540",
   "metadata": {},
   "outputs": [
    {
     "name": "stdout",
     "output_type": "stream",
     "text": [
      "Computing retrieval metrics...\n",
      "Top-1 accuracy: 0.0005\n",
      "Top-5 accuracy: 0.0009\n",
      "Top-10 accuracy: 0.0020\n"
     ]
    }
   ],
   "source": [
    "# Cell 11: Compute retrieval metrics (Top-K accuracy)\n",
    "print(\"Computing retrieval metrics...\")\n",
    "\n",
    "def compute_retrieval_metrics(mol_features, spec_features, top_k_list=[1, 5, 10]):\n",
    "    \"\"\"Compute retrieval metrics\"\"\"\n",
    "    n_samples = len(mol_features)\n",
    "    \n",
    "    # Compute similarity matrix (molecule i vs all spectra)\n",
    "    similarity_matrix = np.dot(mol_features, spec_features.T)\n",
    "    \n",
    "    retrieval_results = {}\n",
    "    \n",
    "    for k in top_k_list:\n",
    "        correct = 0\n",
    "        for i in range(n_samples):\n",
    "            # Get top-k most similar spectra for molecule i\n",
    "            top_k_indices = np.argsort(similarity_matrix[i])[-k:]\n",
    "            if i in top_k_indices:  # Check if correct spectrum is in top-k\n",
    "                correct += 1\n",
    "        \n",
    "        accuracy = correct / n_samples\n",
    "        retrieval_results[f'top_{k}_accuracy'] = accuracy\n",
    "        print(f\"Top-{k} accuracy: {accuracy:.4f}\")\n",
    "    \n",
    "    return retrieval_results\n",
    "\n",
    "retrieval_metrics = compute_retrieval_metrics(all_molecular_features, all_spectral_features)"
   ]
  },
  {
   "cell_type": "code",
   "execution_count": null,
   "id": "4270a0b9",
   "metadata": {},
   "outputs": [
    {
     "name": "stdout",
     "output_type": "stream",
     "text": [
      "Creating similarity distribution plot...\n"
     ]
    },
    {
     "data": {
      "image/png": "[encoded data removed]",
      "text/plain": [
       "<Figure size 1200x800 with 4 Axes>"
      ]
     },
     "metadata": {},
     "output_type": "display_data"
    }
   ],
   "source": [
    "# Cell 13: Visualize similarity distribution\n",
    "print(\"Creating similarity distribution plot...\")\n",
    "\n",
    "plt.figure(figsize=(12, 8))\n",
    "\n",
    "# Main histogram\n",
    "plt.subplot(2, 2, 1)\n",
    "plt.hist(cosine_similarities, bins=50, alpha=0.7, edgecolor='black', color='skyblue')\n",
    "plt.xlabel('Cosine Similarity')\n",
    "plt.ylabel('Frequency')\n",
    "plt.title('Distribution of Cosine Similarities')\n",
    "plt.axvline(np.mean(cosine_similarities), color='red', linestyle='--', \n",
    "           label=f'Mean: {np.mean(cosine_similarities):.3f}')\n",
    "plt.legend()\n",
    "plt.grid(True, alpha=0.3)\n",
    "\n",
    "# Box plot\n",
    "plt.subplot(2, 2, 2)\n",
    "plt.boxplot(cosine_similarities)\n",
    "plt.ylabel('Cosine Similarity')\n",
    "plt.title('Similarity Distribution (Box Plot)')\n",
    "plt.grid(True, alpha=0.3)\n",
    "\n",
    "# Cumulative distribution\n",
    "plt.subplot(2, 2, 3)\n",
    "sorted_similarities = np.sort(cosine_similarities)\n",
    "y_vals = np.arange(1, len(sorted_similarities) + 1) / len(sorted_similarities)\n",
    "plt.plot(sorted_similarities, y_vals)\n",
    "plt.xlabel('Cosine Similarity')\n",
    "plt.ylabel('Cumulative Probability')\n",
    "plt.title('Cumulative Distribution')\n",
    "plt.grid(True, alpha=0.3)\n",
    "\n",
    "# Statistics text\n",
    "plt.subplot(2, 2, 4)\n",
    "plt.axis('off')\n",
    "stats_text = f\"\"\"\n",
    "Statistics:\n",
    "Mean: {np.mean(cosine_similarities):.4f}\n",
    "Std: {np.std(cosine_similarities):.4f}\n",
    "Min: {np.min(cosine_similarities):.4f}\n",
    "Max: {np.max(cosine_similarities):.4f}\n",
    "Median: {np.median(cosine_similarities):.4f}\n",
    "\n",
    "Percentiles:\n",
    "25th: {np.percentile(cosine_similarities, 25):.4f}\n",
    "75th: {np.percentile(cosine_similarities, 75):.4f}\n",
    "90th: {np.percentile(cosine_similarities, 90):.4f}\n",
    "95th: {np.percentile(cosine_similarities, 95):.4f}\n",
    "\"\"\"\n",
    "plt.text(0.1, 0.9, stats_text, transform=plt.gca().transAxes, \n",
    "         fontsize=10, verticalalignment='top', fontfamily='monospace')\n",
    "\n",
    "plt.tight_layout()\n",
    "plt.savefig(os.path.join(OUTPUT_DIR, 'similarity_analysis.png'), dpi=300, bbox_inches='tight')\n",
    "plt.show()"
   ]
  },
  {
   "cell_type": "code",
   "execution_count": null,
   "id": "faabb375",
   "metadata": {},
   "outputs": [
    {
     "name": "stdout",
     "output_type": "stream",
     "text": [
      "Analyzing feature distributions...\n"
     ]
    },
    {
     "data": {
      "image/png": "[encoded data removed]",
      "text/plain": [
       "<Figure size 1500x500 with 3 Axes>"
      ]
     },
     "metadata": {},
     "output_type": "display_data"
    },
    {
     "name": "stdout",
     "output_type": "stream",
     "text": [
      "Molecular features - Mean norm: 1.4032, Std: 0.2633\n",
      "Spectral features - Mean norm: 0.9438, Std: 0.0781\n"
     ]
    }
   ],
   "source": [
    "# Cell 14: Analyze feature distributions\n",
    "print(\"Analyzing feature distributions...\")\n",
    "\n",
    "# Plot feature magnitude distributions\n",
    "plt.figure(figsize=(15, 5))\n",
    "\n",
    "plt.subplot(1, 3, 1)\n",
    "mol_norms = np.linalg.norm(all_molecular_features, axis=1)\n",
    "plt.hist(mol_norms, bins=30, alpha=0.7, label='Molecular', color='blue')\n",
    "plt.xlabel('Feature Norm')\n",
    "plt.ylabel('Frequency')\n",
    "plt.title('Molecular Feature Norms')\n",
    "plt.legend()\n",
    "\n",
    "plt.subplot(1, 3, 2)\n",
    "spec_norms = np.linalg.norm(all_spectral_features, axis=1)\n",
    "plt.hist(spec_norms, bins=30, alpha=0.7, label='Spectral', color='green')\n",
    "plt.xlabel('Feature Norm')\n",
    "plt.ylabel('Frequency')\n",
    "plt.title('Spectral Feature Norms')\n",
    "plt.legend()\n",
    "\n",
    "plt.subplot(1, 3, 3)\n",
    "plt.hist(mol_norms, bins=30, alpha=0.5, label='Molecular', color='blue')\n",
    "plt.hist(spec_norms, bins=30, alpha=0.5, label='Spectral', color='green')\n",
    "plt.xlabel('Feature Norm')\n",
    "plt.ylabel('Frequency')\n",
    "plt.title('Feature Norms Comparison')\n",
    "plt.legend()\n",
    "\n",
    "plt.tight_layout()\n",
    "plt.savefig(os.path.join(OUTPUT_DIR, 'feature_norms.png'), dpi=300, bbox_inches='tight')\n",
    "plt.show()\n",
    "\n",
    "print(f\"Molecular features - Mean norm: {np.mean(mol_norms):.4f}, Std: {np.std(mol_norms):.4f}\")\n",
    "print(f\"Spectral features - Mean norm: {np.mean(spec_norms):.4f}, Std: {np.std(spec_norms):.4f}\")"
   ]
  }
 ],
 "metadata": {
  "kernelspec": {
   "display_name": "CSU-MS2",
   "language": "python",
   "name": "python3"
  },
  "language_info": {
   "codemirror_mode": {
    "name": "ipython",
    "version": 3
   },
   "file_extension": ".py",
   "mimetype": "text/x-python",
   "name": "python",
   "nbconvert_exporter": "python",
   "pygments_lexer": "ipython3",
   "version": "3.8.18"
  }
 },
 "nbformat": 4,
 "nbformat_minor": 5
}
