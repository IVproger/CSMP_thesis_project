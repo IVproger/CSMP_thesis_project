{
 "cells": [
  {
   "cell_type": "code",
   "execution_count": 1,
   "id": "1eeeaf36",
   "metadata": {},
   "outputs": [],
   "source": [
    "# Correct imports\n",
    "from dataloader.dataset_wrapper import DataSetWrapper, DataSetWrapper_noddp\n",
    "import pandas as pd\n",
    "import numpy as np"
   ]
  },
  {
   "cell_type": "code",
   "execution_count": null,
   "id": "c2f677ef",
   "metadata": {},
   "outputs": [],
   "source": [
    "def process_dataframe_to_spectra(df):\n",
    "    \"\"\"\n",
    "    Convert DataFrame with peaks_json to matchms Spectrum objects\n",
    "    \"\"\"\n",
    "    from matchms import Spectrum\n",
    "    import json\n",
    "    \n",
    "    spectra = []\n",
    "    valid_indices = []\n",
    "    \n",
    "    for idx, row in df.iterrows():\n",
    "        try:\n",
    "            # Parse peaks_json to get mz and intensity arrays\n",
    "            peaks_data = json.loads(row['peaks_json'])\n",
    "            mz = np.array([peak[0] for peak in peaks_data])\n",
    "            intensities = np.array([peak[1] for peak in peaks_data])\n",
    "            \n",
    "            # Create spectrum object with metadata\n",
    "            metadata = {\n",
    "                'precursor_mz': row['precursor_mz'],\n",
    "                'adduct': row['adduct'],\n",
    "                'ion_mode': row['ion_mode'],\n",
    "                'molecular_formula': row['molecular_formula'],\n",
    "                'instrument': row['instrument'],\n",
    "                'ion_source': row['ion_source'],\n",
    "                'compound_source': row['compound_source'],\n",
    "                'inchikey': row['inchikey']\n",
    "            }\n",
    "            \n",
    "            spectrum = Spectrum(mz=mz, intensities=intensities, metadata=metadata)\n",
    "            spectra.append(spectrum)\n",
    "            valid_indices.append(idx)\n",
    "            \n",
    "        except Exception as e:\n",
    "            print(f\"Error processing row {idx}: {e}\")\n",
    "            continue\n",
    "    \n",
    "    return spectra, valid_indices\n",
    "\n",
    "def dataframe_to_files(df, output_dir=\"./temp_data\"):\n",
    "    \"\"\"\n",
    "    Convert DataFrame to temporary files compatible with existing DataSetWrapper\n",
    "    \"\"\"\n",
    "    import os\n",
    "    from matchms.exporting import save_as_mgf\n",
    "    \n",
    "    # Create output directory\n",
    "    os.makedirs(output_dir, exist_ok=True)\n",
    "    \n",
    "    # Process DataFrame to get spectra and valid indices\n",
    "    spectra, valid_indices = process_dataframe_to_spectra(df)\n",
    "    \n",
    "    print(f\"Processed {len(spectra)} valid spectra out of {len(df)} total entries.\")\n",
    "    \n",
    "    # Filter valid rows\n",
    "    valid_df = df.iloc[valid_indices].reset_index(drop=True)\n",
    "    smiles_list = valid_df['smiles'].tolist()\n",
    "    \n",
    "    # Save SMILES as numpy array\n",
    "    smi_file = os.path.join(output_dir, \"smiles.npy\")\n",
    "    np.save(smi_file, np.array(smiles_list))\n",
    "    \n",
    "    # Save spectra as MGF file\n",
    "    mgf_file = os.path.join(output_dir, \"spectra.mgf\")\n",
    "    save_as_mgf(spectra, mgf_file)\n",
    "    \n",
    "    return smi_file, mgf_file, valid_df\n",
    "\n",
    "def create_wrapper_from_dataframe(df, batch_size=32, num_workers=4, valid_size=0.2, \n",
    "                                 use_ddp=False, world_size=1, rank=0, output_dir=\"./temp_data\"):\n",
    "    \"\"\"\n",
    "    Create DataSetWrapper from DataFrame\n",
    "    \"\"\"\n",
    "    # Convert DataFrame to compatible files\n",
    "    smi_file, mgf_file, processed_df = dataframe_to_files(df, output_dir)\n",
    "    \n",
    "    # Create appropriate wrapper\n",
    "    if use_ddp:\n",
    "        wrapper = DataSetWrapper(\n",
    "            world_size=world_size,\n",
    "            rank=rank,\n",
    "            batch_size=batch_size,\n",
    "            num_workers=num_workers,\n",
    "            valid_size=valid_size,\n",
    "            s=None,  # Not used in current implementation\n",
    "            ms2_file=mgf_file,\n",
    "            smi_file=smi_file\n",
    "        )\n",
    "    else:\n",
    "        wrapper = DataSetWrapper_noddp(\n",
    "            batch_size=batch_size,\n",
    "            num_workers=num_workers,\n",
    "            valid_size=valid_size,\n",
    "            s=None,  # Not used in current implementation\n",
    "            ms2_file=mgf_file,\n",
    "            smi_file=smi_file\n",
    "        )\n",
    "    \n",
    "    return wrapper, processed_df"
   ]
  },
  {
   "cell_type": "code",
   "execution_count": 3,
   "id": "ce352a94",
   "metadata": {},
   "outputs": [],
   "source": [
    "\n",
    "\n",
    "df = pd.read_csv(\"/Users/ivangolov/Desktop/Диплом/CSMP_project/CSMP_spectrum_database/data/production/train_deduplicated.csv\")  # Replace with your actual file path"
   ]
  },
  {
   "cell_type": "code",
   "execution_count": 4,
   "id": "6ce50af3",
   "metadata": {},
   "outputs": [],
   "source": [
    "# Take sample of 1000 rows for testing\n",
    "df_sample = df.sample(n=1000, random_state=42).reset_index(drop=True)"
   ]
  },
  {
   "cell_type": "code",
   "execution_count": 5,
   "id": "039491a2",
   "metadata": {},
   "outputs": [
    {
     "data": {
      "text/html": [
       "<div>\n",
       "<style scoped>\n",
       "    .dataframe tbody tr th:only-of-type {\n",
       "        vertical-align: middle;\n",
       "    }\n",
       "\n",
       "    .dataframe tbody tr th {\n",
       "        vertical-align: top;\n",
       "    }\n",
       "\n",
       "    .dataframe thead th {\n",
       "        text-align: right;\n",
       "    }\n",
       "</style>\n",
       "<table border=\"1\" class=\"dataframe\">\n",
       "  <thead>\n",
       "    <tr style=\"text-align: right;\">\n",
       "      <th></th>\n",
       "      <th>peaks_json</th>\n",
       "      <th>ion_source</th>\n",
       "      <th>compound_source</th>\n",
       "      <th>instrument</th>\n",
       "      <th>adduct</th>\n",
       "      <th>precursor_mz</th>\n",
       "      <th>smiles</th>\n",
       "      <th>inchikey</th>\n",
       "      <th>ion_mode</th>\n",
       "      <th>molecular_formula</th>\n",
       "    </tr>\n",
       "  </thead>\n",
       "  <tbody>\n",
       "    <tr>\n",
       "      <th>0</th>\n",
       "      <td>[[42.03384, 0.099], [44.049313, 1.612000000000...</td>\n",
       "      <td>ESI</td>\n",
       "      <td>Commercial</td>\n",
       "      <td>Orbitrap</td>\n",
       "      <td>[M+H]+</td>\n",
       "      <td>262.191</td>\n",
       "      <td>Cc1cc(C)c(NC(=O)CN2CCNCC2)c(C)c1</td>\n",
       "      <td>XCJSVHRUHKUAHV-UHFFFAOYSA-N</td>\n",
       "      <td>Positive</td>\n",
       "      <td>C15H23N3O</td>\n",
       "    </tr>\n",
       "    <tr>\n",
       "      <th>1</th>\n",
       "      <td>[[290.13797, 0.6], [305.154572, 0.8], [305.162...</td>\n",
       "      <td>ESI</td>\n",
       "      <td>Isolated</td>\n",
       "      <td>qTof</td>\n",
       "      <td>M-H</td>\n",
       "      <td>399.193</td>\n",
       "      <td>COC1C(O)CC2CN3CCC4=C(NC5=C4C=CC(OC)=C5)C3CC2C1...</td>\n",
       "      <td>JVHNBFFHWQQPLL-UHFFFAOYSA-N</td>\n",
       "      <td>Negative</td>\n",
       "      <td>C22H28N2O5</td>\n",
       "    </tr>\n",
       "    <tr>\n",
       "      <th>2</th>\n",
       "      <td>[[334.026001, 100.0]]</td>\n",
       "      <td>ESI</td>\n",
       "      <td>Commercial standard</td>\n",
       "      <td>Orbitrap</td>\n",
       "      <td>[M+Na]+</td>\n",
       "      <td>537.350</td>\n",
       "      <td>O=C(OC(CC(C1=C2CC(O)C3C4(C)CCC(=O)C(C)(C)C4CCC...</td>\n",
       "      <td>NLOAQXKIIGTTRE-UHFFFAOYSA-N</td>\n",
       "      <td>Positive</td>\n",
       "      <td>C32H50O5</td>\n",
       "    </tr>\n",
       "    <tr>\n",
       "      <th>3</th>\n",
       "      <td>[[78.918015, 100.0], [173.53862, 3.508], [237....</td>\n",
       "      <td>ESI</td>\n",
       "      <td>Crude</td>\n",
       "      <td>Orbitrap</td>\n",
       "      <td>[M-H]-</td>\n",
       "      <td>395.956</td>\n",
       "      <td>Cn1cnc2c1cc(C(=O)O)c(Nc1c(Cl)cc(Br)cc1)c2F</td>\n",
       "      <td>XAAPQRFIXGDKPZ-UHFFFAOYSA-N</td>\n",
       "      <td>Negative</td>\n",
       "      <td>C15H10BrClFN3O2</td>\n",
       "    </tr>\n",
       "    <tr>\n",
       "      <th>4</th>\n",
       "      <td>[[43.017899, 1.8009999999999997], [53.038628, ...</td>\n",
       "      <td>ESI</td>\n",
       "      <td>Commercial</td>\n",
       "      <td>Orbitrap</td>\n",
       "      <td>[M+H]+</td>\n",
       "      <td>414.173</td>\n",
       "      <td>CC1(CNC(=O)c2cc(S(=O)(=O)Cc3ccccc3)ccc2)CCOC1C...</td>\n",
       "      <td>QJZVQDPBHPGSQT-UHFFFAOYSA-N</td>\n",
       "      <td>Positive</td>\n",
       "      <td>C23H27NO4S</td>\n",
       "    </tr>\n",
       "    <tr>\n",
       "      <th>...</th>\n",
       "      <td>...</td>\n",
       "      <td>...</td>\n",
       "      <td>...</td>\n",
       "      <td>...</td>\n",
       "      <td>...</td>\n",
       "      <td>...</td>\n",
       "      <td>...</td>\n",
       "      <td>...</td>\n",
       "      <td>...</td>\n",
       "      <td>...</td>\n",
       "    </tr>\n",
       "    <tr>\n",
       "      <th>995</th>\n",
       "      <td>[[85.058609, 100.0], [173.542023, 25.806999], ...</td>\n",
       "      <td>ESI</td>\n",
       "      <td>Commercial</td>\n",
       "      <td>Orbitrap</td>\n",
       "      <td>[M+Na]+</td>\n",
       "      <td>226.990</td>\n",
       "      <td>CP(C)(=O)c1csc(C(=O)O)c1</td>\n",
       "      <td>IAUFTVZQJXFLHG-UHFFFAOYSA-N</td>\n",
       "      <td>Positive</td>\n",
       "      <td>C7H9O3PS</td>\n",
       "    </tr>\n",
       "    <tr>\n",
       "      <th>996</th>\n",
       "      <td>[[163.005997, 10.100000000000001], [188.985001...</td>\n",
       "      <td>ESI</td>\n",
       "      <td>Commercial standard</td>\n",
       "      <td>Orbitrap</td>\n",
       "      <td>[M+Na]+</td>\n",
       "      <td>487.090</td>\n",
       "      <td>O=C1C(OC2OC(C)C(O)C(O)C2O)=C(OC=3C=C(O)C=C(O)C...</td>\n",
       "      <td>DCYOADKBABEMIQ-UHFFFAOYSA-N</td>\n",
       "      <td>Positive</td>\n",
       "      <td>C21H20O12</td>\n",
       "    </tr>\n",
       "    <tr>\n",
       "      <th>997</th>\n",
       "      <td>[[50.007881, 0.092], [50.010555, 0.107], [55.0...</td>\n",
       "      <td>ESI</td>\n",
       "      <td>Crude</td>\n",
       "      <td>Orbitrap</td>\n",
       "      <td>[M+H]+</td>\n",
       "      <td>400.133</td>\n",
       "      <td>COc1cc(S(=O)(=O)N2CCCC(n3cnc4ccccc4c3=O)C2)ccc1</td>\n",
       "      <td>QCVNEMDIXQHJNF-UHFFFAOYSA-N</td>\n",
       "      <td>Positive</td>\n",
       "      <td>C20H21N3O4S</td>\n",
       "    </tr>\n",
       "    <tr>\n",
       "      <th>998</th>\n",
       "      <td>[[40.762592, 0.274], [41.038479, 5.215], [44.9...</td>\n",
       "      <td>ESI</td>\n",
       "      <td>Commercial</td>\n",
       "      <td>Orbitrap</td>\n",
       "      <td>[M+H]+</td>\n",
       "      <td>219.076</td>\n",
       "      <td>O=C(O)c1cc2c(cc1)[nH]c(=O)n2C1CC1</td>\n",
       "      <td>JOALTBZZXLKPMS-UHFFFAOYSA-N</td>\n",
       "      <td>Positive</td>\n",
       "      <td>C11H10N2O3</td>\n",
       "    </tr>\n",
       "    <tr>\n",
       "      <th>999</th>\n",
       "      <td>[[44.997681, 19.305], [46.347202, 2.315], [85....</td>\n",
       "      <td>ESI</td>\n",
       "      <td>Commercial</td>\n",
       "      <td>Orbitrap</td>\n",
       "      <td>[M+FA]-</td>\n",
       "      <td>463.119</td>\n",
       "      <td>CNC(=O)CNC(=O)c1cc(NC2CCN(c3cc(F)c(Cl)cc3)C2=O...</td>\n",
       "      <td>PTTNLKZQWGYEEM-UHFFFAOYSA-N</td>\n",
       "      <td>Negative</td>\n",
       "      <td>C20H20ClFN4O3</td>\n",
       "    </tr>\n",
       "  </tbody>\n",
       "</table>\n",
       "<p>1000 rows × 10 columns</p>\n",
       "</div>"
      ],
      "text/plain": [
       "                                            peaks_json ion_source  \\\n",
       "0    [[42.03384, 0.099], [44.049313, 1.612000000000...        ESI   \n",
       "1    [[290.13797, 0.6], [305.154572, 0.8], [305.162...        ESI   \n",
       "2                                [[334.026001, 100.0]]        ESI   \n",
       "3    [[78.918015, 100.0], [173.53862, 3.508], [237....        ESI   \n",
       "4    [[43.017899, 1.8009999999999997], [53.038628, ...        ESI   \n",
       "..                                                 ...        ...   \n",
       "995  [[85.058609, 100.0], [173.542023, 25.806999], ...        ESI   \n",
       "996  [[163.005997, 10.100000000000001], [188.985001...        ESI   \n",
       "997  [[50.007881, 0.092], [50.010555, 0.107], [55.0...        ESI   \n",
       "998  [[40.762592, 0.274], [41.038479, 5.215], [44.9...        ESI   \n",
       "999  [[44.997681, 19.305], [46.347202, 2.315], [85....        ESI   \n",
       "\n",
       "         compound_source instrument   adduct  precursor_mz  \\\n",
       "0             Commercial   Orbitrap   [M+H]+       262.191   \n",
       "1               Isolated       qTof      M-H       399.193   \n",
       "2    Commercial standard   Orbitrap  [M+Na]+       537.350   \n",
       "3                  Crude   Orbitrap   [M-H]-       395.956   \n",
       "4             Commercial   Orbitrap   [M+H]+       414.173   \n",
       "..                   ...        ...      ...           ...   \n",
       "995           Commercial   Orbitrap  [M+Na]+       226.990   \n",
       "996  Commercial standard   Orbitrap  [M+Na]+       487.090   \n",
       "997                Crude   Orbitrap   [M+H]+       400.133   \n",
       "998           Commercial   Orbitrap   [M+H]+       219.076   \n",
       "999           Commercial   Orbitrap  [M+FA]-       463.119   \n",
       "\n",
       "                                                smiles  \\\n",
       "0                     Cc1cc(C)c(NC(=O)CN2CCNCC2)c(C)c1   \n",
       "1    COC1C(O)CC2CN3CCC4=C(NC5=C4C=CC(OC)=C5)C3CC2C1...   \n",
       "2    O=C(OC(CC(C1=C2CC(O)C3C4(C)CCC(=O)C(C)(C)C4CCC...   \n",
       "3           Cn1cnc2c1cc(C(=O)O)c(Nc1c(Cl)cc(Br)cc1)c2F   \n",
       "4    CC1(CNC(=O)c2cc(S(=O)(=O)Cc3ccccc3)ccc2)CCOC1C...   \n",
       "..                                                 ...   \n",
       "995                           CP(C)(=O)c1csc(C(=O)O)c1   \n",
       "996  O=C1C(OC2OC(C)C(O)C(O)C2O)=C(OC=3C=C(O)C=C(O)C...   \n",
       "997    COc1cc(S(=O)(=O)N2CCCC(n3cnc4ccccc4c3=O)C2)ccc1   \n",
       "998                  O=C(O)c1cc2c(cc1)[nH]c(=O)n2C1CC1   \n",
       "999  CNC(=O)CNC(=O)c1cc(NC2CCN(c3cc(F)c(Cl)cc3)C2=O...   \n",
       "\n",
       "                        inchikey  ion_mode molecular_formula  \n",
       "0    XCJSVHRUHKUAHV-UHFFFAOYSA-N  Positive         C15H23N3O  \n",
       "1    JVHNBFFHWQQPLL-UHFFFAOYSA-N  Negative        C22H28N2O5  \n",
       "2    NLOAQXKIIGTTRE-UHFFFAOYSA-N  Positive          C32H50O5  \n",
       "3    XAAPQRFIXGDKPZ-UHFFFAOYSA-N  Negative   C15H10BrClFN3O2  \n",
       "4    QJZVQDPBHPGSQT-UHFFFAOYSA-N  Positive        C23H27NO4S  \n",
       "..                           ...       ...               ...  \n",
       "995  IAUFTVZQJXFLHG-UHFFFAOYSA-N  Positive          C7H9O3PS  \n",
       "996  DCYOADKBABEMIQ-UHFFFAOYSA-N  Positive         C21H20O12  \n",
       "997  QCVNEMDIXQHJNF-UHFFFAOYSA-N  Positive       C20H21N3O4S  \n",
       "998  JOALTBZZXLKPMS-UHFFFAOYSA-N  Positive        C11H10N2O3  \n",
       "999  PTTNLKZQWGYEEM-UHFFFAOYSA-N  Negative     C20H20ClFN4O3  \n",
       "\n",
       "[1000 rows x 10 columns]"
      ]
     },
     "execution_count": 5,
     "metadata": {},
     "output_type": "execute_result"
    }
   ],
   "source": [
    "df_sample"
   ]
  },
  {
   "cell_type": "code",
   "execution_count": 6,
   "id": "e0eee8f1",
   "metadata": {},
   "outputs": [
    {
     "name": "stdout",
     "output_type": "stream",
     "text": [
      "Creating DataSetWrapper from DataFrame...\n",
      "Processed 1000 valid spectra out of 1000 total entries.\n"
     ]
    }
   ],
   "source": [
    "print(\"Creating DataSetWrapper from DataFrame...\")\n",
    "    \n",
    "wrapper, processed_df = create_wrapper_from_dataframe(\n",
    "    df=df_sample,\n",
    "    batch_size=16,\n",
    "    num_workers=2,\n",
    "    valid_size=0.2,\n",
    "    use_ddp=False\n",
    ")"
   ]
  },
  {
   "cell_type": "code",
   "execution_count": 7,
   "id": "91cfc075",
   "metadata": {},
   "outputs": [
    {
     "name": "stdout",
     "output_type": "stream",
     "text": [
      "calculating molecular graphs\n"
     ]
    },
    {
     "name": "stderr",
     "output_type": "stream",
     "text": [
      " 21%|██        | 168/800 [00:00<00:00, 1674.54it/s]"
     ]
    },
    {
     "name": "stdout",
     "output_type": "stream",
     "text": [
      "SMILES [Cl-].O=C1C2=CC=C(O)C(=C2OC(=C1C=3C=CC=4OCCCOC4C3)C)C[NH+](C)C calculation failure\n"
     ]
    },
    {
     "name": "stderr",
     "output_type": "stream",
     "text": [
      "100%|██████████| 800/800 [00:00<00:00, 1728.30it/s]\n"
     ]
    },
    {
     "name": "stdout",
     "output_type": "stream",
     "text": [
      "Calculated 686 molecular graph-mass spectrometry pairs\n",
      "calculating molecular graphs\n"
     ]
    },
    {
     "name": "stderr",
     "output_type": "stream",
     "text": [
      "100%|██████████| 200/200 [00:00<00:00, 1770.49it/s]"
     ]
    },
    {
     "name": "stdout",
     "output_type": "stream",
     "text": [
      "Calculated 174 molecular graph-mass spectrometry pairs\n"
     ]
    },
    {
     "name": "stderr",
     "output_type": "stream",
     "text": [
      "\n"
     ]
    }
   ],
   "source": [
    "train_loader, valid_loader = wrapper.get_data_loaders()"
   ]
  },
  {
   "cell_type": "code",
   "execution_count": 8,
   "id": "86991dca",
   "metadata": {},
   "outputs": [
    {
     "name": "stdout",
     "output_type": "stream",
     "text": [
      "Training batches: 42\n",
      "Validation batches: 11\n"
     ]
    }
   ],
   "source": [
    "print(f\"Training batches: {len(train_loader)}\")\n",
    "print(f\"Validation batches: {len(valid_loader)}\")"
   ]
  },
  {
   "cell_type": "code",
   "execution_count": 11,
   "id": "04ded128",
   "metadata": {},
   "outputs": [
    {
     "name": "stdout",
     "output_type": "stream",
     "text": [
      "Processed 1000 valid spectra out of 1000 total entries.\n"
     ]
    }
   ],
   "source": [
    "smi_file, mgf_file, processed_df = dataframe_to_files(df_sample,'./temp_data' )"
   ]
  }
 ],
 "metadata": {
  "kernelspec": {
   "display_name": "CSU-MS2",
   "language": "python",
   "name": "python3"
  },
  "language_info": {
   "codemirror_mode": {
    "name": "ipython",
    "version": 3
   },
   "file_extension": ".py",
   "mimetype": "text/x-python",
   "name": "python",
   "nbconvert_exporter": "python",
   "pygments_lexer": "ipython3",
   "version": "3.8.18"
  }
 },
 "nbformat": 4,
 "nbformat_minor": 5
}
